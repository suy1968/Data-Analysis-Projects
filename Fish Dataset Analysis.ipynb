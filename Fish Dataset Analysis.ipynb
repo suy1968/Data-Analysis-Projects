{
 "cells": [
  {
   "cell_type": "code",
   "execution_count": 104,
   "id": "51676644",
   "metadata": {},
   "outputs": [],
   "source": [
    "import pandas as pd\n",
    "import numpy as np\n",
    "import matplotlib.pyplot as plt\n",
    "import seaborn as sns\n",
    "\n",
    "%matplotlib inline\n",
    "from sklearn.linear_model import LinearRegression"
   ]
  },
  {
   "cell_type": "code",
   "execution_count": 105,
   "id": "6b28aeed",
   "metadata": {},
   "outputs": [],
   "source": [
    "data=pd.read_csv('CFish_dataset.csv')"
   ]
  },
  {
   "cell_type": "code",
   "execution_count": 106,
   "id": "faa6ad68",
   "metadata": {},
   "outputs": [
    {
     "data": {
      "text/html": [
       "<div>\n",
       "<style scoped>\n",
       "    .dataframe tbody tr th:only-of-type {\n",
       "        vertical-align: middle;\n",
       "    }\n",
       "\n",
       "    .dataframe tbody tr th {\n",
       "        vertical-align: top;\n",
       "    }\n",
       "\n",
       "    .dataframe thead th {\n",
       "        text-align: right;\n",
       "    }\n",
       "</style>\n",
       "<table border=\"1\" class=\"dataframe\">\n",
       "  <thead>\n",
       "    <tr style=\"text-align: right;\">\n",
       "      <th></th>\n",
       "      <th>Species</th>\n",
       "      <th>Weight</th>\n",
       "      <th>Length1</th>\n",
       "      <th>Length2</th>\n",
       "      <th>Length3</th>\n",
       "      <th>Height</th>\n",
       "      <th>Width</th>\n",
       "    </tr>\n",
       "  </thead>\n",
       "  <tbody>\n",
       "    <tr>\n",
       "      <th>0</th>\n",
       "      <td>Bream</td>\n",
       "      <td>242.0</td>\n",
       "      <td>23.2</td>\n",
       "      <td>25.4</td>\n",
       "      <td>30.0</td>\n",
       "      <td>11.5200</td>\n",
       "      <td>4.0200</td>\n",
       "    </tr>\n",
       "    <tr>\n",
       "      <th>1</th>\n",
       "      <td>Bream</td>\n",
       "      <td>290.0</td>\n",
       "      <td>24.0</td>\n",
       "      <td>26.3</td>\n",
       "      <td>31.2</td>\n",
       "      <td>12.4800</td>\n",
       "      <td>4.3056</td>\n",
       "    </tr>\n",
       "    <tr>\n",
       "      <th>2</th>\n",
       "      <td>Bream</td>\n",
       "      <td>340.0</td>\n",
       "      <td>23.9</td>\n",
       "      <td>26.5</td>\n",
       "      <td>31.1</td>\n",
       "      <td>12.3778</td>\n",
       "      <td>4.6961</td>\n",
       "    </tr>\n",
       "    <tr>\n",
       "      <th>3</th>\n",
       "      <td>Bream</td>\n",
       "      <td>363.0</td>\n",
       "      <td>26.3</td>\n",
       "      <td>29.0</td>\n",
       "      <td>33.5</td>\n",
       "      <td>12.7300</td>\n",
       "      <td>4.4555</td>\n",
       "    </tr>\n",
       "    <tr>\n",
       "      <th>4</th>\n",
       "      <td>Bream</td>\n",
       "      <td>430.0</td>\n",
       "      <td>26.5</td>\n",
       "      <td>29.0</td>\n",
       "      <td>34.0</td>\n",
       "      <td>12.4440</td>\n",
       "      <td>5.1340</td>\n",
       "    </tr>\n",
       "  </tbody>\n",
       "</table>\n",
       "</div>"
      ],
      "text/plain": [
       "  Species  Weight  Length1  Length2  Length3   Height   Width\n",
       "0   Bream   242.0     23.2     25.4     30.0  11.5200  4.0200\n",
       "1   Bream   290.0     24.0     26.3     31.2  12.4800  4.3056\n",
       "2   Bream   340.0     23.9     26.5     31.1  12.3778  4.6961\n",
       "3   Bream   363.0     26.3     29.0     33.5  12.7300  4.4555\n",
       "4   Bream   430.0     26.5     29.0     34.0  12.4440  5.1340"
      ]
     },
     "execution_count": 106,
     "metadata": {},
     "output_type": "execute_result"
    }
   ],
   "source": [
    "# Seeing the top 5 variables\n",
    "data.head()"
   ]
  },
  {
   "cell_type": "markdown",
   "id": "c5d9c77d",
   "metadata": {},
   "source": [
    "Coumn Description:\n",
    "Species: Species name of fish\n",
    "Weight: Weight of fish\n",
    "Length1: Vertical length\n",
    "Length2: Diagonal length\n",
    "Length3: Cross length \n",
    "Height: Height\n",
    "Width: Diagonal width \n",
    "Our dependent or target variable is 'Weight'. Independent variables are 'species', different lengths, 'height' and 'width'.\n",
    "\n"
   ]
  },
  {
   "cell_type": "code",
   "execution_count": 107,
   "id": "529c4f19",
   "metadata": {},
   "outputs": [
    {
     "data": {
      "text/html": [
       "<div>\n",
       "<style scoped>\n",
       "    .dataframe tbody tr th:only-of-type {\n",
       "        vertical-align: middle;\n",
       "    }\n",
       "\n",
       "    .dataframe tbody tr th {\n",
       "        vertical-align: top;\n",
       "    }\n",
       "\n",
       "    .dataframe thead th {\n",
       "        text-align: right;\n",
       "    }\n",
       "</style>\n",
       "<table border=\"1\" class=\"dataframe\">\n",
       "  <thead>\n",
       "    <tr style=\"text-align: right;\">\n",
       "      <th></th>\n",
       "      <th>Species</th>\n",
       "      <th>Weight</th>\n",
       "      <th>LengthVer</th>\n",
       "      <th>LengthDia</th>\n",
       "      <th>LengthCro</th>\n",
       "      <th>Height</th>\n",
       "      <th>Width</th>\n",
       "    </tr>\n",
       "  </thead>\n",
       "  <tbody>\n",
       "    <tr>\n",
       "      <th>0</th>\n",
       "      <td>Bream</td>\n",
       "      <td>242.0</td>\n",
       "      <td>23.2</td>\n",
       "      <td>25.4</td>\n",
       "      <td>30.0</td>\n",
       "      <td>11.5200</td>\n",
       "      <td>4.0200</td>\n",
       "    </tr>\n",
       "    <tr>\n",
       "      <th>1</th>\n",
       "      <td>Bream</td>\n",
       "      <td>290.0</td>\n",
       "      <td>24.0</td>\n",
       "      <td>26.3</td>\n",
       "      <td>31.2</td>\n",
       "      <td>12.4800</td>\n",
       "      <td>4.3056</td>\n",
       "    </tr>\n",
       "    <tr>\n",
       "      <th>2</th>\n",
       "      <td>Bream</td>\n",
       "      <td>340.0</td>\n",
       "      <td>23.9</td>\n",
       "      <td>26.5</td>\n",
       "      <td>31.1</td>\n",
       "      <td>12.3778</td>\n",
       "      <td>4.6961</td>\n",
       "    </tr>\n",
       "    <tr>\n",
       "      <th>3</th>\n",
       "      <td>Bream</td>\n",
       "      <td>363.0</td>\n",
       "      <td>26.3</td>\n",
       "      <td>29.0</td>\n",
       "      <td>33.5</td>\n",
       "      <td>12.7300</td>\n",
       "      <td>4.4555</td>\n",
       "    </tr>\n",
       "    <tr>\n",
       "      <th>4</th>\n",
       "      <td>Bream</td>\n",
       "      <td>430.0</td>\n",
       "      <td>26.5</td>\n",
       "      <td>29.0</td>\n",
       "      <td>34.0</td>\n",
       "      <td>12.4440</td>\n",
       "      <td>5.1340</td>\n",
       "    </tr>\n",
       "  </tbody>\n",
       "</table>\n",
       "</div>"
      ],
      "text/plain": [
       "  Species  Weight  LengthVer  LengthDia  LengthCro   Height   Width\n",
       "0   Bream   242.0       23.2       25.4       30.0  11.5200  4.0200\n",
       "1   Bream   290.0       24.0       26.3       31.2  12.4800  4.3056\n",
       "2   Bream   340.0       23.9       26.5       31.1  12.3778  4.6961\n",
       "3   Bream   363.0       26.3       29.0       33.5  12.7300  4.4555\n",
       "4   Bream   430.0       26.5       29.0       34.0  12.4440  5.1340"
      ]
     },
     "execution_count": 107,
     "metadata": {},
     "output_type": "execute_result"
    }
   ],
   "source": [
    "# rename to more meaningul names\n",
    "data.rename(columns= {'Length1':'LengthVer', 'Length2':'LengthDia', 'Length3':'LengthCro'}, inplace=True)\n",
    "data.head()"
   ]
  },
  {
   "cell_type": "code",
   "execution_count": 108,
   "id": "b8396bfc",
   "metadata": {},
   "outputs": [
    {
     "data": {
      "text/plain": [
       "(159, 7)"
      ]
     },
     "execution_count": 108,
     "metadata": {},
     "output_type": "execute_result"
    }
   ],
   "source": [
    "# shape of the datframe\n",
    "data.shape"
   ]
  },
  {
   "cell_type": "code",
   "execution_count": 109,
   "id": "1ae0ba74",
   "metadata": {},
   "outputs": [
    {
     "name": "stdout",
     "output_type": "stream",
     "text": [
      "<class 'pandas.core.frame.DataFrame'>\n",
      "RangeIndex: 159 entries, 0 to 158\n",
      "Data columns (total 7 columns):\n",
      " #   Column     Non-Null Count  Dtype  \n",
      "---  ------     --------------  -----  \n",
      " 0   Species    159 non-null    object \n",
      " 1   Weight     159 non-null    float64\n",
      " 2   LengthVer  159 non-null    float64\n",
      " 3   LengthDia  159 non-null    float64\n",
      " 4   LengthCro  159 non-null    float64\n",
      " 5   Height     159 non-null    float64\n",
      " 6   Width      159 non-null    float64\n",
      "dtypes: float64(6), object(1)\n",
      "memory usage: 8.8+ KB\n"
     ]
    }
   ],
   "source": [
    "# finding about the data types,shape and presence of null values\n",
    "data.info()"
   ]
  },
  {
   "cell_type": "markdown",
   "id": "67b61148",
   "metadata": {},
   "source": [
    "# Missing Values"
   ]
  },
  {
   "cell_type": "code",
   "execution_count": 110,
   "id": "b5d740a2",
   "metadata": {},
   "outputs": [
    {
     "data": {
      "text/plain": [
       "Species      0\n",
       "Weight       0\n",
       "LengthVer    0\n",
       "LengthDia    0\n",
       "LengthCro    0\n",
       "Height       0\n",
       "Width        0\n",
       "dtype: int64"
      ]
     },
     "execution_count": 110,
     "metadata": {},
     "output_type": "execute_result"
    }
   ],
   "source": [
    "# finding out which column has missing values\n",
    "data.isnull().sum()"
   ]
  },
  {
   "cell_type": "markdown",
   "id": "242c13e9",
   "metadata": {},
   "source": [
    "we found out that there are no missing values"
   ]
  },
  {
   "cell_type": "markdown",
   "id": "a514a4d8",
   "metadata": {},
   "source": [
    "# Count of Species\n"
   ]
  },
  {
   "cell_type": "code",
   "execution_count": 111,
   "id": "c19a7ab2",
   "metadata": {},
   "outputs": [
    {
     "data": {
      "text/plain": [
       "Perch        56\n",
       "Bream        35\n",
       "Roach        20\n",
       "Pike         17\n",
       "Smelt        14\n",
       "Parkki       11\n",
       "Whitefish     6\n",
       "Name: Species, dtype: int64"
      ]
     },
     "execution_count": 111,
     "metadata": {},
     "output_type": "execute_result"
    }
   ],
   "source": [
    "Species_count=data['Species'].value_counts()\n",
    "Species_count"
   ]
  },
  {
   "cell_type": "code",
   "execution_count": 112,
   "id": "7c38560f",
   "metadata": {},
   "outputs": [
    {
     "data": {
      "image/png": "[encoded data removed]",
      "text/plain": [
       "<Figure size 864x576 with 1 Axes>"
      ]
     },
     "metadata": {
      "needs_background": "light"
     },
     "output_type": "display_data"
    }
   ],
   "source": [
    "# 1.  Plot a bar chart showing count of individual species\n",
    "plt.figure(figsize=(12, 8))\n",
    "count_bar=sns.barplot(x=Species_count.index, y=Species_count.values)\n",
    "plt.title('Count of Species')\n",
    "plt.xlabel('Names')\n",
    "plt.ylabel('Count')\n",
    "plt.xticks(rotation=45)\n",
    "\n",
    "for i in range(len(Species_count)):\n",
    "    count_bar.text(i, Species_count[i]/2, str(Species_count[i]), color =\"white\", horizontalalignment = \"center\")"
   ]
  },
  {
   "cell_type": "markdown",
   "id": "97542f9a",
   "metadata": {},
   "source": [
    "# Numerical Column Detection"
   ]
  },
  {
   "cell_type": "code",
   "execution_count": 113,
   "id": "d3563ea5",
   "metadata": {},
   "outputs": [],
   "source": [
    "num_col=[col for col in data.columns if data[col].dtypes!='O' ]"
   ]
  },
  {
   "cell_type": "code",
   "execution_count": 114,
   "id": "2c87052b",
   "metadata": {},
   "outputs": [
    {
     "data": {
      "text/plain": [
       "['Weight', 'LengthVer', 'LengthDia', 'LengthCro', 'Height', 'Width']"
      ]
     },
     "execution_count": 114,
     "metadata": {},
     "output_type": "execute_result"
    }
   ],
   "source": [
    "num_col"
   ]
  },
  {
   "cell_type": "markdown",
   "id": "9c2b3278",
   "metadata": {},
   "source": [
    "# Categorical Column Detection\n"
   ]
  },
  {
   "cell_type": "code",
   "execution_count": 115,
   "id": "62aa78b0",
   "metadata": {},
   "outputs": [
    {
     "data": {
      "text/plain": [
       "['Species']"
      ]
     },
     "execution_count": 115,
     "metadata": {},
     "output_type": "execute_result"
    }
   ],
   "source": [
    "cat_col=[col for col in data.columns if data[col].dtypes=='O' ]\n",
    "cat_col                           "
   ]
  },
  {
   "cell_type": "markdown",
   "id": "a7c4559c",
   "metadata": {},
   "source": [
    "# Outliers Detection"
   ]
  },
  {
   "cell_type": "code",
   "execution_count": 116,
   "id": "3156f30f",
   "metadata": {},
   "outputs": [
    {
     "data": {
      "text/html": [
       "<div>\n",
       "<style scoped>\n",
       "    .dataframe tbody tr th:only-of-type {\n",
       "        vertical-align: middle;\n",
       "    }\n",
       "\n",
       "    .dataframe tbody tr th {\n",
       "        vertical-align: top;\n",
       "    }\n",
       "\n",
       "    .dataframe thead th {\n",
       "        text-align: right;\n",
       "    }\n",
       "</style>\n",
       "<table border=\"1\" class=\"dataframe\">\n",
       "  <thead>\n",
       "    <tr style=\"text-align: right;\">\n",
       "      <th></th>\n",
       "      <th>Weight</th>\n",
       "      <th>LengthVer</th>\n",
       "      <th>LengthDia</th>\n",
       "      <th>LengthCro</th>\n",
       "      <th>Height</th>\n",
       "      <th>Width</th>\n",
       "    </tr>\n",
       "  </thead>\n",
       "  <tbody>\n",
       "    <tr>\n",
       "      <th>count</th>\n",
       "      <td>159.000000</td>\n",
       "      <td>159.000000</td>\n",
       "      <td>159.000000</td>\n",
       "      <td>159.000000</td>\n",
       "      <td>159.000000</td>\n",
       "      <td>159.000000</td>\n",
       "    </tr>\n",
       "    <tr>\n",
       "      <th>mean</th>\n",
       "      <td>398.326415</td>\n",
       "      <td>26.247170</td>\n",
       "      <td>28.415723</td>\n",
       "      <td>31.227044</td>\n",
       "      <td>8.970994</td>\n",
       "      <td>4.417486</td>\n",
       "    </tr>\n",
       "    <tr>\n",
       "      <th>std</th>\n",
       "      <td>357.978317</td>\n",
       "      <td>9.996441</td>\n",
       "      <td>10.716328</td>\n",
       "      <td>11.610246</td>\n",
       "      <td>4.286208</td>\n",
       "      <td>1.685804</td>\n",
       "    </tr>\n",
       "    <tr>\n",
       "      <th>min</th>\n",
       "      <td>0.000000</td>\n",
       "      <td>7.500000</td>\n",
       "      <td>8.400000</td>\n",
       "      <td>8.800000</td>\n",
       "      <td>1.728400</td>\n",
       "      <td>1.047600</td>\n",
       "    </tr>\n",
       "    <tr>\n",
       "      <th>25%</th>\n",
       "      <td>120.000000</td>\n",
       "      <td>19.050000</td>\n",
       "      <td>21.000000</td>\n",
       "      <td>23.150000</td>\n",
       "      <td>5.944800</td>\n",
       "      <td>3.385650</td>\n",
       "    </tr>\n",
       "    <tr>\n",
       "      <th>50%</th>\n",
       "      <td>273.000000</td>\n",
       "      <td>25.200000</td>\n",
       "      <td>27.300000</td>\n",
       "      <td>29.400000</td>\n",
       "      <td>7.786000</td>\n",
       "      <td>4.248500</td>\n",
       "    </tr>\n",
       "    <tr>\n",
       "      <th>75%</th>\n",
       "      <td>650.000000</td>\n",
       "      <td>32.700000</td>\n",
       "      <td>35.500000</td>\n",
       "      <td>39.650000</td>\n",
       "      <td>12.365900</td>\n",
       "      <td>5.584500</td>\n",
       "    </tr>\n",
       "    <tr>\n",
       "      <th>max</th>\n",
       "      <td>1650.000000</td>\n",
       "      <td>59.000000</td>\n",
       "      <td>63.400000</td>\n",
       "      <td>68.000000</td>\n",
       "      <td>18.957000</td>\n",
       "      <td>8.142000</td>\n",
       "    </tr>\n",
       "  </tbody>\n",
       "</table>\n",
       "</div>"
      ],
      "text/plain": [
       "            Weight   LengthVer   LengthDia   LengthCro      Height       Width\n",
       "count   159.000000  159.000000  159.000000  159.000000  159.000000  159.000000\n",
       "mean    398.326415   26.247170   28.415723   31.227044    8.970994    4.417486\n",
       "std     357.978317    9.996441   10.716328   11.610246    4.286208    1.685804\n",
       "min       0.000000    7.500000    8.400000    8.800000    1.728400    1.047600\n",
       "25%     120.000000   19.050000   21.000000   23.150000    5.944800    3.385650\n",
       "50%     273.000000   25.200000   27.300000   29.400000    7.786000    4.248500\n",
       "75%     650.000000   32.700000   35.500000   39.650000   12.365900    5.584500\n",
       "max    1650.000000   59.000000   63.400000   68.000000   18.957000    8.142000"
      ]
     },
     "execution_count": 116,
     "metadata": {},
     "output_type": "execute_result"
    }
   ],
   "source": [
    "data.describe()"
   ]
  },
  {
   "cell_type": "code",
   "execution_count": 117,
   "id": "dfcbc55e",
   "metadata": {},
   "outputs": [
    {
     "name": "stderr",
     "output_type": "stream",
     "text": [
      "C:\\Users\\Win\\anaconda3\\lib\\site-packages\\seaborn\\_decorators.py:36: FutureWarning: Pass the following variable as a keyword arg: x. From version 0.12, the only valid positional argument will be `data`, and passing other arguments without an explicit keyword will result in an error or misinterpretation.\n",
      "  warnings.warn(\n"
     ]
    },
    {
     "data": {
      "image/png": "[encoded data removed]",
      "text/plain": [
       "<Figure size 432x288 with 1 Axes>"
      ]
     },
     "metadata": {
      "needs_background": "light"
     },
     "output_type": "display_data"
    },
    {
     "name": "stderr",
     "output_type": "stream",
     "text": [
      "C:\\Users\\Win\\anaconda3\\lib\\site-packages\\seaborn\\_decorators.py:36: FutureWarning: Pass the following variable as a keyword arg: x. From version 0.12, the only valid positional argument will be `data`, and passing other arguments without an explicit keyword will result in an error or misinterpretation.\n",
      "  warnings.warn(\n"
     ]
    },
    {
     "data": {
      "image/png": "[encoded data removed]",
      "text/plain": [
       "<Figure size 432x288 with 1 Axes>"
      ]
     },
     "metadata": {
      "needs_background": "light"
     },
     "output_type": "display_data"
    },
    {
     "name": "stderr",
     "output_type": "stream",
     "text": [
      "C:\\Users\\Win\\anaconda3\\lib\\site-packages\\seaborn\\_decorators.py:36: FutureWarning: Pass the following variable as a keyword arg: x. From version 0.12, the only valid positional argument will be `data`, and passing other arguments without an explicit keyword will result in an error or misinterpretation.\n",
      "  warnings.warn(\n"
     ]
    },
    {
     "data": {
      "image/png": "[encoded data removed]",
      "text/plain": [
       "<Figure size 432x288 with 1 Axes>"
      ]
     },
     "metadata": {
      "needs_background": "light"
     },
     "output_type": "display_data"
    },
    {
     "name": "stderr",
     "output_type": "stream",
     "text": [
      "C:\\Users\\Win\\anaconda3\\lib\\site-packages\\seaborn\\_decorators.py:36: FutureWarning: Pass the following variable as a keyword arg: x. From version 0.12, the only valid positional argument will be `data`, and passing other arguments without an explicit keyword will result in an error or misinterpretation.\n",
      "  warnings.warn(\n"
     ]
    },
    {
     "data": {
      "image/png": "[encoded data removed]",
      "text/plain": [
       "<Figure size 432x288 with 1 Axes>"
      ]
     },
     "metadata": {
      "needs_background": "light"
     },
     "output_type": "display_data"
    },
    {
     "name": "stderr",
     "output_type": "stream",
     "text": [
      "C:\\Users\\Win\\anaconda3\\lib\\site-packages\\seaborn\\_decorators.py:36: FutureWarning: Pass the following variable as a keyword arg: x. From version 0.12, the only valid positional argument will be `data`, and passing other arguments without an explicit keyword will result in an error or misinterpretation.\n",
      "  warnings.warn(\n"
     ]
    },
    {
     "data": {
      "image/png": "[encoded data removed]",
      "text/plain": [
       "<Figure size 432x288 with 1 Axes>"
      ]
     },
     "metadata": {
      "needs_background": "light"
     },
     "output_type": "display_data"
    },
    {
     "name": "stderr",
     "output_type": "stream",
     "text": [
      "C:\\Users\\Win\\anaconda3\\lib\\site-packages\\seaborn\\_decorators.py:36: FutureWarning: Pass the following variable as a keyword arg: x. From version 0.12, the only valid positional argument will be `data`, and passing other arguments without an explicit keyword will result in an error or misinterpretation.\n",
      "  warnings.warn(\n"
     ]
    },
    {
     "data": {
      "image/png": "[encoded data removed]",
      "text/plain": [
       "<Figure size 432x288 with 1 Axes>"
      ]
     },
     "metadata": {
      "needs_background": "light"
     },
     "output_type": "display_data"
    }
   ],
   "source": [
    "for col in num_col:\n",
    "    plt.title(col)\n",
    "    sns.boxplot(data[col])\n",
    "    plt.show()"
   ]
  },
  {
   "cell_type": "code",
   "execution_count": 118,
   "id": "3923fd5e",
   "metadata": {},
   "outputs": [],
   "source": [
    "# Creating a function called outliers in order to help find all the outliers in the given data on different columns\n",
    "def outliers(data, col):\n",
    "    Q1=data[col].quantile(0.25)\n",
    "    Q3=data[col].quantile(0.75)\n",
    "    IQR=Q3-Q1\n",
    "    #lower bound is Quartile1-(1.5*IQR)\n",
    "    lb=Q1-1.5*IQR\n",
    "    # upper bound is Quartile3+(1.5*IQR)\n",
    "    ub=Q3+1.5*IQR\n",
    "    # returning outlier data\n",
    "    return data[ (data[col]<lb) | (data[col]>ub) ]"
   ]
  },
  {
   "cell_type": "code",
   "execution_count": 119,
   "id": "9cf94517",
   "metadata": {},
   "outputs": [
    {
     "name": "stdout",
     "output_type": "stream",
     "text": [
      "Weight\n",
      "    Species  Weight  LengthVer  LengthDia  LengthCro  Height  Width\n",
      "142    Pike  1600.0       56.0       60.0       64.0   9.600  6.144\n",
      "143    Pike  1550.0       56.0       60.0       64.0   9.600  6.144\n",
      "144    Pike  1650.0       59.0       63.4       68.0  10.812  7.480\n",
      "\n",
      "\n",
      "LengthVer\n",
      "    Species  Weight  LengthVer  LengthDia  LengthCro  Height  Width\n",
      "142    Pike  1600.0       56.0       60.0       64.0   9.600  6.144\n",
      "143    Pike  1550.0       56.0       60.0       64.0   9.600  6.144\n",
      "144    Pike  1650.0       59.0       63.4       68.0  10.812  7.480\n",
      "\n",
      "\n",
      "LengthDia\n",
      "    Species  Weight  LengthVer  LengthDia  LengthCro  Height  Width\n",
      "142    Pike  1600.0       56.0       60.0       64.0   9.600  6.144\n",
      "143    Pike  1550.0       56.0       60.0       64.0   9.600  6.144\n",
      "144    Pike  1650.0       59.0       63.4       68.0  10.812  7.480\n",
      "\n",
      "\n",
      "LengthCro\n",
      "    Species  Weight  LengthVer  LengthDia  LengthCro  Height  Width\n",
      "144    Pike  1650.0       59.0       63.4       68.0  10.812   7.48\n",
      "\n",
      "\n",
      "Height\n",
      "Empty DataFrame\n",
      "Columns: [Species, Weight, LengthVer, LengthDia, LengthCro, Height, Width]\n",
      "Index: []\n",
      "\n",
      "\n",
      "Width\n",
      "Empty DataFrame\n",
      "Columns: [Species, Weight, LengthVer, LengthDia, LengthCro, Height, Width]\n",
      "Index: []\n",
      "\n",
      "\n"
     ]
    }
   ],
   "source": [
    "for col in num_col:\n",
    "    print( col)\n",
    "    print(outliers(data, col))\n",
    "    print(\"\\n\")"
   ]
  },
  {
   "cell_type": "code",
   "execution_count": 120,
   "id": "af4c84db",
   "metadata": {},
   "outputs": [],
   "source": [
    "df = data.copy()\n",
    "def fill_outliers(data, col):\n",
    "\n",
    "    Q1=data[col].quantile(0.25)\n",
    "    Q3=data[col].quantile(0.75)\n",
    "    IQR=Q3-Q1\n",
    "    #lower bound is Quartile1-(1.5*IQR)\n",
    "    lb=Q1-1.5*IQR\n",
    "    # upper bound is Quartile3+(1.5*IQR)\n",
    "    ub=Q3+1.5*IQR\n",
    "\n",
    "    df.loc[(data[col] < lb), col] = lb\n",
    "    df.loc[(data[col] > ub),  col] = ub\n",
    "    \n",
    "    return data"
   ]
  },
  {
   "cell_type": "code",
   "execution_count": 122,
   "id": "d02b2f2a",
   "metadata": {},
   "outputs": [],
   "source": [
    "for i in num_col:\n",
    "    \n",
    "     fill_outliers(df, i) \n",
    "        "
   ]
  },
  {
   "cell_type": "code",
   "execution_count": 124,
   "id": "581182d2",
   "metadata": {},
   "outputs": [
    {
     "name": "stdout",
     "output_type": "stream",
     "text": [
      "Weight\n",
      "Empty DataFrame\n",
      "Columns: [Species, Weight, LengthVer, LengthDia, LengthCro, Height, Width]\n",
      "Index: []\n",
      "\n",
      "\n",
      "LengthVer\n",
      "Empty DataFrame\n",
      "Columns: [Species, Weight, LengthVer, LengthDia, LengthCro, Height, Width]\n",
      "Index: []\n",
      "\n",
      "\n",
      "LengthDia\n",
      "Empty DataFrame\n",
      "Columns: [Species, Weight, LengthVer, LengthDia, LengthCro, Height, Width]\n",
      "Index: []\n",
      "\n",
      "\n",
      "LengthCro\n",
      "Empty DataFrame\n",
      "Columns: [Species, Weight, LengthVer, LengthDia, LengthCro, Height, Width]\n",
      "Index: []\n",
      "\n",
      "\n",
      "Height\n",
      "Empty DataFrame\n",
      "Columns: [Species, Weight, LengthVer, LengthDia, LengthCro, Height, Width]\n",
      "Index: []\n",
      "\n",
      "\n",
      "Width\n",
      "Empty DataFrame\n",
      "Columns: [Species, Weight, LengthVer, LengthDia, LengthCro, Height, Width]\n",
      "Index: []\n",
      "\n",
      "\n"
     ]
    }
   ],
   "source": [
    "for col in num_col:\n",
    "    print( col)\n",
    "    print(outliers(df, col))\n",
    "    print(\"\\n\")\n"
   ]
  },
  {
   "cell_type": "code",
   "execution_count": 127,
   "id": "7640563f",
   "metadata": {},
   "outputs": [
    {
     "data": {
      "text/plain": [
       "(159, 7)"
      ]
     },
     "execution_count": 127,
     "metadata": {},
     "output_type": "execute_result"
    }
   ],
   "source": [
    "df.shape"
   ]
  },
  {
   "cell_type": "code",
   "execution_count": 128,
   "id": "8d964dd9",
   "metadata": {},
   "outputs": [],
   "source": [
    "# no outiers found replacing our current data with the data without outliers\n",
    "data=df.copy()"
   ]
  },
  {
   "cell_type": "code",
   "execution_count": 85,
   "id": "16798205",
   "metadata": {},
   "outputs": [],
   "source": [
    "# removing outliers\n",
    "# since in most coumns outliers are lying in t3 rows so we are deleting those rows so as to remove the outliers\n",
    "#data.drop([142, 143, 144], inplace=True)"
   ]
  },
  {
   "cell_type": "code",
   "execution_count": 129,
   "id": "07bbb148",
   "metadata": {},
   "outputs": [
    {
     "data": {
      "text/plain": [
       "(159, 7)"
      ]
     },
     "execution_count": 129,
     "metadata": {},
     "output_type": "execute_result"
    }
   ],
   "source": [
    "data.shape"
   ]
  },
  {
   "cell_type": "code",
   "execution_count": 130,
   "id": "3a9e4e30",
   "metadata": {},
   "outputs": [
    {
     "data": {
      "text/html": [
       "<div>\n",
       "<style scoped>\n",
       "    .dataframe tbody tr th:only-of-type {\n",
       "        vertical-align: middle;\n",
       "    }\n",
       "\n",
       "    .dataframe tbody tr th {\n",
       "        vertical-align: top;\n",
       "    }\n",
       "\n",
       "    .dataframe thead th {\n",
       "        text-align: right;\n",
       "    }\n",
       "</style>\n",
       "<table border=\"1\" class=\"dataframe\">\n",
       "  <thead>\n",
       "    <tr style=\"text-align: right;\">\n",
       "      <th></th>\n",
       "      <th>Weight</th>\n",
       "      <th>LengthVer</th>\n",
       "      <th>LengthDia</th>\n",
       "      <th>LengthCro</th>\n",
       "      <th>Height</th>\n",
       "      <th>Width</th>\n",
       "    </tr>\n",
       "  </thead>\n",
       "  <tbody>\n",
       "    <tr>\n",
       "      <th>count</th>\n",
       "      <td>159.000000</td>\n",
       "      <td>159.000000</td>\n",
       "      <td>159.000000</td>\n",
       "      <td>159.000000</td>\n",
       "      <td>159.000000</td>\n",
       "      <td>159.000000</td>\n",
       "    </tr>\n",
       "    <tr>\n",
       "      <th>mean</th>\n",
       "      <td>395.401887</td>\n",
       "      <td>26.175000</td>\n",
       "      <td>28.342453</td>\n",
       "      <td>31.204403</td>\n",
       "      <td>8.970994</td>\n",
       "      <td>4.417486</td>\n",
       "    </tr>\n",
       "    <tr>\n",
       "      <th>std</th>\n",
       "      <td>348.555952</td>\n",
       "      <td>9.782457</td>\n",
       "      <td>10.499859</td>\n",
       "      <td>11.541386</td>\n",
       "      <td>4.286208</td>\n",
       "      <td>1.685804</td>\n",
       "    </tr>\n",
       "    <tr>\n",
       "      <th>min</th>\n",
       "      <td>0.000000</td>\n",
       "      <td>7.500000</td>\n",
       "      <td>8.400000</td>\n",
       "      <td>8.800000</td>\n",
       "      <td>1.728400</td>\n",
       "      <td>1.047600</td>\n",
       "    </tr>\n",
       "    <tr>\n",
       "      <th>25%</th>\n",
       "      <td>120.000000</td>\n",
       "      <td>19.050000</td>\n",
       "      <td>21.000000</td>\n",
       "      <td>23.150000</td>\n",
       "      <td>5.944800</td>\n",
       "      <td>3.385650</td>\n",
       "    </tr>\n",
       "    <tr>\n",
       "      <th>50%</th>\n",
       "      <td>273.000000</td>\n",
       "      <td>25.200000</td>\n",
       "      <td>27.300000</td>\n",
       "      <td>29.400000</td>\n",
       "      <td>7.786000</td>\n",
       "      <td>4.248500</td>\n",
       "    </tr>\n",
       "    <tr>\n",
       "      <th>75%</th>\n",
       "      <td>650.000000</td>\n",
       "      <td>32.700000</td>\n",
       "      <td>35.500000</td>\n",
       "      <td>39.650000</td>\n",
       "      <td>12.365900</td>\n",
       "      <td>5.584500</td>\n",
       "    </tr>\n",
       "    <tr>\n",
       "      <th>max</th>\n",
       "      <td>1445.000000</td>\n",
       "      <td>53.175000</td>\n",
       "      <td>57.250000</td>\n",
       "      <td>64.400000</td>\n",
       "      <td>18.957000</td>\n",
       "      <td>8.142000</td>\n",
       "    </tr>\n",
       "  </tbody>\n",
       "</table>\n",
       "</div>"
      ],
      "text/plain": [
       "            Weight   LengthVer   LengthDia   LengthCro      Height       Width\n",
       "count   159.000000  159.000000  159.000000  159.000000  159.000000  159.000000\n",
       "mean    395.401887   26.175000   28.342453   31.204403    8.970994    4.417486\n",
       "std     348.555952    9.782457   10.499859   11.541386    4.286208    1.685804\n",
       "min       0.000000    7.500000    8.400000    8.800000    1.728400    1.047600\n",
       "25%     120.000000   19.050000   21.000000   23.150000    5.944800    3.385650\n",
       "50%     273.000000   25.200000   27.300000   29.400000    7.786000    4.248500\n",
       "75%     650.000000   32.700000   35.500000   39.650000   12.365900    5.584500\n",
       "max    1445.000000   53.175000   57.250000   64.400000   18.957000    8.142000"
      ]
     },
     "execution_count": 130,
     "metadata": {},
     "output_type": "execute_result"
    }
   ],
   "source": [
    "data.describe()"
   ]
  },
  {
   "cell_type": "code",
   "execution_count": 146,
   "id": "97fa372d",
   "metadata": {},
   "outputs": [
    {
     "data": {
      "image/png": "[encoded data removed]",
      "text/plain": [
       "<Figure size 720x576 with 1 Axes>"
      ]
     },
     "metadata": {
      "needs_background": "light"
     },
     "output_type": "display_data"
    }
   ],
   "source": [
    "\n",
    "plt.figure(figsize=(10,8))\n",
    "\n",
    "sns.scatterplot(data = df, y=\"Weight\", x=\"Species\",sizes=(30, 300));"
   ]
  },
  {
   "cell_type": "code",
   "execution_count": 192,
   "id": "7cb7764b",
   "metadata": {},
   "outputs": [],
   "source": [
    "#Dependant (Target) Variable:\n",
    "y = data['Weight']\n",
    "# Independant Variables:\n",
    "#Species is avoided because its categorical and does not have much significance\n",
    "X = data.iloc[:,2:7] "
   ]
  },
  {
   "cell_type": "code",
   "execution_count": 193,
   "id": "ceaabcd2",
   "metadata": {},
   "outputs": [],
   "source": [
    "# Buiding the regression model\n",
    "from sklearn.model_selection import train_test_split\n",
    "X_train, X_test, y_train, y_test = train_test_split(X, y, test_size=0.2, random_state=1)"
   ]
  },
  {
   "cell_type": "code",
   "execution_count": 194,
   "id": "b7c829cd",
   "metadata": {},
   "outputs": [
    {
     "data": {
      "text/plain": [
       "LinearRegression()"
      ]
     },
     "execution_count": 194,
     "metadata": {},
     "output_type": "execute_result"
    }
   ],
   "source": [
    "# Buiding the regression model\n",
    "lr=LinearRegression()\n",
    "lr.fit(X_train, y_train)"
   ]
  },
  {
   "cell_type": "code",
   "execution_count": 195,
   "id": "8ccb0380",
   "metadata": {},
   "outputs": [
    {
     "name": "stdout",
     "output_type": "stream",
     "text": [
      "intercept:  -481.22132608931537\n",
      "coefficients:  [ 54.62974653 -53.35652691  16.52981732   5.29009459  89.27604445]\n"
     ]
    }
   ],
   "source": [
    "print('intercept: ', lr.intercept_)\n",
    "print('coefficients: ', lr.coef_)"
   ]
  },
  {
   "cell_type": "code",
   "execution_count": 196,
   "id": "e7b38832",
   "metadata": {},
   "outputs": [
    {
     "name": "stdout",
     "output_type": "stream",
     "text": [
      "y = -481.22 + 54.63X1 -53.36 + X2 16.53X3 + 5.29X4 + 89.28X5\n"
     ]
    }
   ],
   "source": [
    "# regression equation is \n",
    "print('y = ' + str('%.2f' % lr.intercept_) + ' + ' + str('%.2f' % lr.coef_[0]) + 'X1 ' + str('%.2f' % lr.coef_[1]) + ' + ' + 'X2 ' +\n",
    "      str('%.2f' % lr.coef_[2]) + 'X3 + ' + str('%.2f' % lr.coef_[3]) + 'X4 + ' + str('%.2f' % lr.coef_[4]) + 'X5')"
   ]
  },
  {
   "cell_type": "code",
   "execution_count": 197,
   "id": "ab8e790c",
   "metadata": {},
   "outputs": [
    {
     "data": {
      "text/plain": [
       "array([ 768.6279492 ,  176.31424741,  573.13232602,  189.39741682,\n",
       "         67.39314205,  652.46633815,  218.34695546,  536.83396086,\n",
       "        173.28690213,  236.79201624,  171.75808175,  195.10505207,\n",
       "        -89.20147685,  362.96044113,  721.28718433,  211.85306429,\n",
       "        175.03122502,  545.74766467,  425.40886529,  296.10515894,\n",
       "       -166.34085608,  -36.62443571,  310.83913086,  483.60845654,\n",
       "        165.71143888,  761.29642047,  602.32211048, -214.81261946,\n",
       "       1026.25951324,  194.00787766,  930.85347078,  341.70828472])"
      ]
     },
     "execution_count": 197,
     "metadata": {},
     "output_type": "execute_result"
    }
   ],
   "source": [
    "y_pred = lr.predict(X_test)\n",
    "y_pred"
   ]
  },
  {
   "cell_type": "code",
   "execution_count": 198,
   "id": "66061586",
   "metadata": {},
   "outputs": [
    {
     "name": "stdout",
     "output_type": "stream",
     "text": [
      "[0.81482716 0.85594417 0.87983397 0.93374631 0.92019603 0.89687865\n",
      " 0.9068412  0.84539732 0.80218559 0.82186109]\n"
     ]
    }
   ],
   "source": [
    "from sklearn.model_selection import cross_val_score\n",
    "cross_val_score_train = cross_val_score(lr, X_train, y_train, cv=10, scoring='r2')\n",
    "print(cross_val_score_train)"
   ]
  },
  {
   "cell_type": "code",
   "execution_count": 199,
   "id": "c314baa1",
   "metadata": {},
   "outputs": [
    {
     "data": {
      "text/plain": [
       "0.8677711504658319"
      ]
     },
     "execution_count": 199,
     "metadata": {},
     "output_type": "execute_result"
    }
   ],
   "source": [
    "cross_val_score_train.mean()"
   ]
  },
  {
   "cell_type": "code",
   "execution_count": 200,
   "id": "7ef6044a",
   "metadata": {},
   "outputs": [
    {
     "name": "stdout",
     "output_type": "stream",
     "text": [
      "0.867132842973495\n"
     ]
    }
   ],
   "source": [
    "from sklearn.metrics import mean_squared_error, r2_score\n",
    "print(r2_score(y_test, y_pred))"
   ]
  },
  {
   "cell_type": "markdown",
   "id": "5bf7d41d",
   "metadata": {},
   "source": [
    "Compare real and predicted weights and give a\n",
    "conclusion statement based on it?"
   ]
  },
  {
   "cell_type": "code",
   "execution_count": 201,
   "id": "58712d88",
   "metadata": {},
   "outputs": [
    {
     "data": {
      "text/html": [
       "<div>\n",
       "<style scoped>\n",
       "    .dataframe tbody tr th:only-of-type {\n",
       "        vertical-align: middle;\n",
       "    }\n",
       "\n",
       "    .dataframe tbody tr th {\n",
       "        vertical-align: top;\n",
       "    }\n",
       "\n",
       "    .dataframe thead th {\n",
       "        text-align: right;\n",
       "    }\n",
       "</style>\n",
       "<table border=\"1\" class=\"dataframe\">\n",
       "  <thead>\n",
       "    <tr style=\"text-align: right;\">\n",
       "      <th></th>\n",
       "      <th>Estimated Weight</th>\n",
       "    </tr>\n",
       "  </thead>\n",
       "  <tbody>\n",
       "    <tr>\n",
       "      <th>0</th>\n",
       "      <td>768.627949</td>\n",
       "    </tr>\n",
       "    <tr>\n",
       "      <th>1</th>\n",
       "      <td>176.314247</td>\n",
       "    </tr>\n",
       "    <tr>\n",
       "      <th>2</th>\n",
       "      <td>573.132326</td>\n",
       "    </tr>\n",
       "    <tr>\n",
       "      <th>3</th>\n",
       "      <td>189.397417</td>\n",
       "    </tr>\n",
       "    <tr>\n",
       "      <th>4</th>\n",
       "      <td>67.393142</td>\n",
       "    </tr>\n",
       "  </tbody>\n",
       "</table>\n",
       "</div>"
      ],
      "text/plain": [
       "   Estimated Weight\n",
       "0        768.627949\n",
       "1        176.314247\n",
       "2        573.132326\n",
       "3        189.397417\n",
       "4         67.393142"
      ]
     },
     "execution_count": 201,
     "metadata": {},
     "output_type": "execute_result"
    }
   ],
   "source": [
    "y_pred1 = pd.DataFrame(y_pred, columns=['Estimated Weight'])\n",
    "y_pred1.head()"
   ]
  },
  {
   "cell_type": "code",
   "execution_count": 202,
   "id": "fbc94d17",
   "metadata": {},
   "outputs": [
    {
     "data": {
      "text/html": [
       "<div>\n",
       "<style scoped>\n",
       "    .dataframe tbody tr th:only-of-type {\n",
       "        vertical-align: middle;\n",
       "    }\n",
       "\n",
       "    .dataframe tbody tr th {\n",
       "        vertical-align: top;\n",
       "    }\n",
       "\n",
       "    .dataframe thead th {\n",
       "        text-align: right;\n",
       "    }\n",
       "</style>\n",
       "<table border=\"1\" class=\"dataframe\">\n",
       "  <thead>\n",
       "    <tr style=\"text-align: right;\">\n",
       "      <th></th>\n",
       "      <th>Weight</th>\n",
       "    </tr>\n",
       "  </thead>\n",
       "  <tbody>\n",
       "    <tr>\n",
       "      <th>0</th>\n",
       "      <td>1000.0</td>\n",
       "    </tr>\n",
       "    <tr>\n",
       "      <th>1</th>\n",
       "      <td>120.0</td>\n",
       "    </tr>\n",
       "    <tr>\n",
       "      <th>2</th>\n",
       "      <td>600.0</td>\n",
       "    </tr>\n",
       "    <tr>\n",
       "      <th>3</th>\n",
       "      <td>130.0</td>\n",
       "    </tr>\n",
       "    <tr>\n",
       "      <th>4</th>\n",
       "      <td>85.0</td>\n",
       "    </tr>\n",
       "  </tbody>\n",
       "</table>\n",
       "</div>"
      ],
      "text/plain": [
       "   Weight\n",
       "0  1000.0\n",
       "1   120.0\n",
       "2   600.0\n",
       "3   130.0\n",
       "4    85.0"
      ]
     },
     "execution_count": 202,
     "metadata": {},
     "output_type": "execute_result"
    }
   ],
   "source": [
    "y_test1 = pd.DataFrame(y_test)\n",
    "y_test1 = y_test1.reset_index(drop=True)\n",
    "y_test1.head()"
   ]
  },
  {
   "cell_type": "code",
   "execution_count": 203,
   "id": "42e2cea3",
   "metadata": {},
   "outputs": [
    {
     "data": {
      "text/html": [
       "<div>\n",
       "<style scoped>\n",
       "    .dataframe tbody tr th:only-of-type {\n",
       "        vertical-align: middle;\n",
       "    }\n",
       "\n",
       "    .dataframe tbody tr th {\n",
       "        vertical-align: top;\n",
       "    }\n",
       "\n",
       "    .dataframe thead th {\n",
       "        text-align: right;\n",
       "    }\n",
       "</style>\n",
       "<table border=\"1\" class=\"dataframe\">\n",
       "  <thead>\n",
       "    <tr style=\"text-align: right;\">\n",
       "      <th></th>\n",
       "      <th>Weight</th>\n",
       "      <th>Estimated Weight</th>\n",
       "    </tr>\n",
       "  </thead>\n",
       "  <tbody>\n",
       "    <tr>\n",
       "      <th>0</th>\n",
       "      <td>1000.0</td>\n",
       "      <td>768.627949</td>\n",
       "    </tr>\n",
       "    <tr>\n",
       "      <th>1</th>\n",
       "      <td>120.0</td>\n",
       "      <td>176.314247</td>\n",
       "    </tr>\n",
       "    <tr>\n",
       "      <th>2</th>\n",
       "      <td>600.0</td>\n",
       "      <td>573.132326</td>\n",
       "    </tr>\n",
       "    <tr>\n",
       "      <th>3</th>\n",
       "      <td>130.0</td>\n",
       "      <td>189.397417</td>\n",
       "    </tr>\n",
       "    <tr>\n",
       "      <th>4</th>\n",
       "      <td>85.0</td>\n",
       "      <td>67.393142</td>\n",
       "    </tr>\n",
       "    <tr>\n",
       "      <th>5</th>\n",
       "      <td>650.0</td>\n",
       "      <td>652.466338</td>\n",
       "    </tr>\n",
       "    <tr>\n",
       "      <th>6</th>\n",
       "      <td>145.0</td>\n",
       "      <td>218.346955</td>\n",
       "    </tr>\n",
       "    <tr>\n",
       "      <th>7</th>\n",
       "      <td>500.0</td>\n",
       "      <td>536.833961</td>\n",
       "    </tr>\n",
       "    <tr>\n",
       "      <th>8</th>\n",
       "      <td>0.0</td>\n",
       "      <td>173.286902</td>\n",
       "    </tr>\n",
       "    <tr>\n",
       "      <th>9</th>\n",
       "      <td>145.0</td>\n",
       "      <td>236.792016</td>\n",
       "    </tr>\n",
       "    <tr>\n",
       "      <th>10</th>\n",
       "      <td>135.0</td>\n",
       "      <td>171.758082</td>\n",
       "    </tr>\n",
       "    <tr>\n",
       "      <th>11</th>\n",
       "      <td>150.0</td>\n",
       "      <td>195.105052</td>\n",
       "    </tr>\n",
       "    <tr>\n",
       "      <th>12</th>\n",
       "      <td>32.0</td>\n",
       "      <td>-89.201477</td>\n",
       "    </tr>\n",
       "    <tr>\n",
       "      <th>13</th>\n",
       "      <td>250.0</td>\n",
       "      <td>362.960441</td>\n",
       "    </tr>\n",
       "    <tr>\n",
       "      <th>14</th>\n",
       "      <td>800.0</td>\n",
       "      <td>721.287184</td>\n",
       "    </tr>\n",
       "    <tr>\n",
       "      <th>15</th>\n",
       "      <td>110.0</td>\n",
       "      <td>211.853064</td>\n",
       "    </tr>\n",
       "    <tr>\n",
       "      <th>16</th>\n",
       "      <td>140.0</td>\n",
       "      <td>175.031225</td>\n",
       "    </tr>\n",
       "    <tr>\n",
       "      <th>17</th>\n",
       "      <td>390.0</td>\n",
       "      <td>545.747665</td>\n",
       "    </tr>\n",
       "    <tr>\n",
       "      <th>18</th>\n",
       "      <td>320.0</td>\n",
       "      <td>425.408865</td>\n",
       "    </tr>\n",
       "    <tr>\n",
       "      <th>19</th>\n",
       "      <td>197.0</td>\n",
       "      <td>296.105159</td>\n",
       "    </tr>\n",
       "    <tr>\n",
       "      <th>20</th>\n",
       "      <td>9.8</td>\n",
       "      <td>-166.340856</td>\n",
       "    </tr>\n",
       "    <tr>\n",
       "      <th>21</th>\n",
       "      <td>40.0</td>\n",
       "      <td>-36.624436</td>\n",
       "    </tr>\n",
       "    <tr>\n",
       "      <th>22</th>\n",
       "      <td>180.0</td>\n",
       "      <td>310.839131</td>\n",
       "    </tr>\n",
       "    <tr>\n",
       "      <th>23</th>\n",
       "      <td>450.0</td>\n",
       "      <td>483.608457</td>\n",
       "    </tr>\n",
       "    <tr>\n",
       "      <th>24</th>\n",
       "      <td>125.0</td>\n",
       "      <td>165.711439</td>\n",
       "    </tr>\n",
       "    <tr>\n",
       "      <th>25</th>\n",
       "      <td>955.0</td>\n",
       "      <td>761.296420</td>\n",
       "    </tr>\n",
       "    <tr>\n",
       "      <th>26</th>\n",
       "      <td>700.0</td>\n",
       "      <td>602.322110</td>\n",
       "    </tr>\n",
       "    <tr>\n",
       "      <th>27</th>\n",
       "      <td>6.7</td>\n",
       "      <td>-214.812619</td>\n",
       "    </tr>\n",
       "    <tr>\n",
       "      <th>28</th>\n",
       "      <td>1445.0</td>\n",
       "      <td>1026.259513</td>\n",
       "    </tr>\n",
       "    <tr>\n",
       "      <th>29</th>\n",
       "      <td>145.0</td>\n",
       "      <td>194.007878</td>\n",
       "    </tr>\n",
       "    <tr>\n",
       "      <th>30</th>\n",
       "      <td>1000.0</td>\n",
       "      <td>930.853471</td>\n",
       "    </tr>\n",
       "    <tr>\n",
       "      <th>31</th>\n",
       "      <td>260.0</td>\n",
       "      <td>341.708285</td>\n",
       "    </tr>\n",
       "  </tbody>\n",
       "</table>\n",
       "</div>"
      ],
      "text/plain": [
       "    Weight  Estimated Weight\n",
       "0   1000.0        768.627949\n",
       "1    120.0        176.314247\n",
       "2    600.0        573.132326\n",
       "3    130.0        189.397417\n",
       "4     85.0         67.393142\n",
       "5    650.0        652.466338\n",
       "6    145.0        218.346955\n",
       "7    500.0        536.833961\n",
       "8      0.0        173.286902\n",
       "9    145.0        236.792016\n",
       "10   135.0        171.758082\n",
       "11   150.0        195.105052\n",
       "12    32.0        -89.201477\n",
       "13   250.0        362.960441\n",
       "14   800.0        721.287184\n",
       "15   110.0        211.853064\n",
       "16   140.0        175.031225\n",
       "17   390.0        545.747665\n",
       "18   320.0        425.408865\n",
       "19   197.0        296.105159\n",
       "20     9.8       -166.340856\n",
       "21    40.0        -36.624436\n",
       "22   180.0        310.839131\n",
       "23   450.0        483.608457\n",
       "24   125.0        165.711439\n",
       "25   955.0        761.296420\n",
       "26   700.0        602.322110\n",
       "27     6.7       -214.812619\n",
       "28  1445.0       1026.259513\n",
       "29   145.0        194.007878\n",
       "30  1000.0        930.853471\n",
       "31   260.0        341.708285"
      ]
     },
     "execution_count": 203,
     "metadata": {},
     "output_type": "execute_result"
    }
   ],
   "source": [
    "ynew = pd.concat([y_test1, y_pred1], axis=1)\n",
    "ynew"
   ]
  },
  {
   "cell_type": "markdown",
   "id": "5f3f794b",
   "metadata": {},
   "source": [
    "The predicted weights are comparatively lower than actual weights."
   ]
  }
 ],
 "metadata": {
  "kernelspec": {
   "display_name": "Python 3 (ipykernel)",
   "language": "python",
   "name": "python3"
  },
  "language_info": {
   "codemirror_mode": {
    "name": "ipython",
    "version": 3
   },
   "file_extension": ".py",
   "mimetype": "text/x-python",
   "name": "python",
   "nbconvert_exporter": "python",
   "pygments_lexer": "ipython3",
   "version": "3.9.12"
  }
 },
 "nbformat": 4,
 "nbformat_minor": 5
}
