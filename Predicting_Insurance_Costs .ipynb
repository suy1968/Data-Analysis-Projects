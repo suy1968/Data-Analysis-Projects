{
 "cells": [
  {
   "cell_type": "markdown",
   "id": "f0984f65",
   "metadata": {},
   "source": [
    "## 1.Loading the Required Libraries"
   ]
  },
  {
   "cell_type": "code",
   "execution_count": 1,
   "id": "44385e7c",
   "metadata": {},
   "outputs": [],
   "source": [
    "import numpy as np\n",
    "import pandas as pd\n",
    "import matplotlib.pyplot as plt\n",
    "import seaborn as sns"
   ]
  },
  {
   "cell_type": "code",
   "execution_count": 2,
   "id": "1b4ab0fe",
   "metadata": {},
   "outputs": [],
   "source": [
    "from sklearn.model_selection import train_test_split,GridSearchCV\n",
    "from sklearn.linear_model import LinearRegression,SGDRegressor\n",
    "from sklearn.tree import DecisionTreeRegressor\n",
    "from sklearn.ensemble import RandomForestRegressor,GradientBoostingRegressor,AdaBoostRegressor\n",
    "from xgboost import XGBRegressor\n",
    "from sklearn.svm import SVR\n",
    "from sklearn.neighbors import KNeighborsRegressor"
   ]
  },
  {
   "cell_type": "code",
   "execution_count": 3,
   "id": "23d2a6f7",
   "metadata": {},
   "outputs": [],
   "source": [
    "from sklearn.preprocessing import StandardScaler\n",
    "from sklearn.metrics import mean_squared_error,r2_score"
   ]
  },
  {
   "cell_type": "code",
   "execution_count": 4,
   "id": "0f588546",
   "metadata": {},
   "outputs": [],
   "source": [
    "from warnings import filterwarnings\n",
    "filterwarnings('ignore')"
   ]
  },
  {
   "cell_type": "markdown",
   "id": "586d917d",
   "metadata": {},
   "source": [
    "## 2.Loading the Dataset"
   ]
  },
  {
   "cell_type": "code",
   "execution_count": 5,
   "id": "78e2d5dd",
   "metadata": {},
   "outputs": [],
   "source": [
    "df_insurance=pd.read_csv('insurance.csv')"
   ]
  },
  {
   "cell_type": "code",
   "execution_count": 6,
   "id": "95dab671",
   "metadata": {},
   "outputs": [
    {
     "data": {
      "text/plain": [
       "(1338, 7)"
      ]
     },
     "execution_count": 6,
     "metadata": {},
     "output_type": "execute_result"
    }
   ],
   "source": [
    "df_insurance.shape"
   ]
  },
  {
   "cell_type": "code",
   "execution_count": 7,
   "id": "019687e0",
   "metadata": {},
   "outputs": [
    {
     "data": {
      "text/html": [
       "<div>\n",
       "<style scoped>\n",
       "    .dataframe tbody tr th:only-of-type {\n",
       "        vertical-align: middle;\n",
       "    }\n",
       "\n",
       "    .dataframe tbody tr th {\n",
       "        vertical-align: top;\n",
       "    }\n",
       "\n",
       "    .dataframe thead th {\n",
       "        text-align: right;\n",
       "    }\n",
       "</style>\n",
       "<table border=\"1\" class=\"dataframe\">\n",
       "  <thead>\n",
       "    <tr style=\"text-align: right;\">\n",
       "      <th></th>\n",
       "      <th>age</th>\n",
       "      <th>sex</th>\n",
       "      <th>bmi</th>\n",
       "      <th>children</th>\n",
       "      <th>smoker</th>\n",
       "      <th>region</th>\n",
       "      <th>charges</th>\n",
       "    </tr>\n",
       "  </thead>\n",
       "  <tbody>\n",
       "    <tr>\n",
       "      <th>0</th>\n",
       "      <td>19</td>\n",
       "      <td>female</td>\n",
       "      <td>27.900</td>\n",
       "      <td>0</td>\n",
       "      <td>yes</td>\n",
       "      <td>southwest</td>\n",
       "      <td>16884.92400</td>\n",
       "    </tr>\n",
       "    <tr>\n",
       "      <th>1</th>\n",
       "      <td>18</td>\n",
       "      <td>male</td>\n",
       "      <td>33.770</td>\n",
       "      <td>1</td>\n",
       "      <td>no</td>\n",
       "      <td>southeast</td>\n",
       "      <td>1725.55230</td>\n",
       "    </tr>\n",
       "    <tr>\n",
       "      <th>2</th>\n",
       "      <td>28</td>\n",
       "      <td>male</td>\n",
       "      <td>33.000</td>\n",
       "      <td>3</td>\n",
       "      <td>no</td>\n",
       "      <td>southeast</td>\n",
       "      <td>4449.46200</td>\n",
       "    </tr>\n",
       "    <tr>\n",
       "      <th>3</th>\n",
       "      <td>33</td>\n",
       "      <td>male</td>\n",
       "      <td>22.705</td>\n",
       "      <td>0</td>\n",
       "      <td>no</td>\n",
       "      <td>northwest</td>\n",
       "      <td>21984.47061</td>\n",
       "    </tr>\n",
       "    <tr>\n",
       "      <th>4</th>\n",
       "      <td>32</td>\n",
       "      <td>male</td>\n",
       "      <td>28.880</td>\n",
       "      <td>0</td>\n",
       "      <td>no</td>\n",
       "      <td>northwest</td>\n",
       "      <td>3866.85520</td>\n",
       "    </tr>\n",
       "  </tbody>\n",
       "</table>\n",
       "</div>"
      ],
      "text/plain": [
       "   age     sex     bmi  children smoker     region      charges\n",
       "0   19  female  27.900         0    yes  southwest  16884.92400\n",
       "1   18    male  33.770         1     no  southeast   1725.55230\n",
       "2   28    male  33.000         3     no  southeast   4449.46200\n",
       "3   33    male  22.705         0     no  northwest  21984.47061\n",
       "4   32    male  28.880         0     no  northwest   3866.85520"
      ]
     },
     "execution_count": 7,
     "metadata": {},
     "output_type": "execute_result"
    }
   ],
   "source": [
    "df_insurance.head()"
   ]
  },
  {
   "cell_type": "markdown",
   "id": "88ff00ce",
   "metadata": {},
   "source": [
    "## 3.Exploratory Data Analysis"
   ]
  },
  {
   "cell_type": "code",
   "execution_count": 8,
   "id": "c0535c10",
   "metadata": {},
   "outputs": [
    {
     "name": "stdout",
     "output_type": "stream",
     "text": [
      "<class 'pandas.core.frame.DataFrame'>\n",
      "RangeIndex: 1338 entries, 0 to 1337\n",
      "Data columns (total 7 columns):\n",
      " #   Column    Non-Null Count  Dtype  \n",
      "---  ------    --------------  -----  \n",
      " 0   age       1338 non-null   int64  \n",
      " 1   sex       1338 non-null   object \n",
      " 2   bmi       1338 non-null   float64\n",
      " 3   children  1338 non-null   int64  \n",
      " 4   smoker    1338 non-null   object \n",
      " 5   region    1338 non-null   object \n",
      " 6   charges   1338 non-null   float64\n",
      "dtypes: float64(2), int64(2), object(3)\n",
      "memory usage: 73.3+ KB\n"
     ]
    }
   ],
   "source": [
    "df_insurance.info()"
   ]
  },
  {
   "cell_type": "markdown",
   "id": "809558ef",
   "metadata": {},
   "source": [
    "### Checking for Missing Values"
   ]
  },
  {
   "cell_type": "code",
   "execution_count": 9,
   "id": "e975e4f8",
   "metadata": {},
   "outputs": [
    {
     "data": {
      "text/plain": [
       "age         0\n",
       "sex         0\n",
       "bmi         0\n",
       "children    0\n",
       "smoker      0\n",
       "region      0\n",
       "charges     0\n",
       "dtype: int64"
      ]
     },
     "execution_count": 9,
     "metadata": {},
     "output_type": "execute_result"
    }
   ],
   "source": [
    "df_insurance.isnull().sum()"
   ]
  },
  {
   "cell_type": "code",
   "execution_count": 10,
   "id": "7addaea9",
   "metadata": {},
   "outputs": [
    {
     "data": {
      "text/html": [
       "<div>\n",
       "<style scoped>\n",
       "    .dataframe tbody tr th:only-of-type {\n",
       "        vertical-align: middle;\n",
       "    }\n",
       "\n",
       "    .dataframe tbody tr th {\n",
       "        vertical-align: top;\n",
       "    }\n",
       "\n",
       "    .dataframe thead th {\n",
       "        text-align: right;\n",
       "    }\n",
       "</style>\n",
       "<table border=\"1\" class=\"dataframe\">\n",
       "  <thead>\n",
       "    <tr style=\"text-align: right;\">\n",
       "      <th></th>\n",
       "      <th>age</th>\n",
       "      <th>bmi</th>\n",
       "      <th>children</th>\n",
       "      <th>charges</th>\n",
       "    </tr>\n",
       "  </thead>\n",
       "  <tbody>\n",
       "    <tr>\n",
       "      <th>count</th>\n",
       "      <td>1338.000000</td>\n",
       "      <td>1338.000000</td>\n",
       "      <td>1338.000000</td>\n",
       "      <td>1338.000000</td>\n",
       "    </tr>\n",
       "    <tr>\n",
       "      <th>mean</th>\n",
       "      <td>39.207025</td>\n",
       "      <td>30.663397</td>\n",
       "      <td>1.094918</td>\n",
       "      <td>13270.422265</td>\n",
       "    </tr>\n",
       "    <tr>\n",
       "      <th>std</th>\n",
       "      <td>14.049960</td>\n",
       "      <td>6.098187</td>\n",
       "      <td>1.205493</td>\n",
       "      <td>12110.011237</td>\n",
       "    </tr>\n",
       "    <tr>\n",
       "      <th>min</th>\n",
       "      <td>18.000000</td>\n",
       "      <td>15.960000</td>\n",
       "      <td>0.000000</td>\n",
       "      <td>1121.873900</td>\n",
       "    </tr>\n",
       "    <tr>\n",
       "      <th>25%</th>\n",
       "      <td>27.000000</td>\n",
       "      <td>26.296250</td>\n",
       "      <td>0.000000</td>\n",
       "      <td>4740.287150</td>\n",
       "    </tr>\n",
       "    <tr>\n",
       "      <th>50%</th>\n",
       "      <td>39.000000</td>\n",
       "      <td>30.400000</td>\n",
       "      <td>1.000000</td>\n",
       "      <td>9382.033000</td>\n",
       "    </tr>\n",
       "    <tr>\n",
       "      <th>75%</th>\n",
       "      <td>51.000000</td>\n",
       "      <td>34.693750</td>\n",
       "      <td>2.000000</td>\n",
       "      <td>16639.912515</td>\n",
       "    </tr>\n",
       "    <tr>\n",
       "      <th>max</th>\n",
       "      <td>64.000000</td>\n",
       "      <td>53.130000</td>\n",
       "      <td>5.000000</td>\n",
       "      <td>63770.428010</td>\n",
       "    </tr>\n",
       "  </tbody>\n",
       "</table>\n",
       "</div>"
      ],
      "text/plain": [
       "               age          bmi     children       charges\n",
       "count  1338.000000  1338.000000  1338.000000   1338.000000\n",
       "mean     39.207025    30.663397     1.094918  13270.422265\n",
       "std      14.049960     6.098187     1.205493  12110.011237\n",
       "min      18.000000    15.960000     0.000000   1121.873900\n",
       "25%      27.000000    26.296250     0.000000   4740.287150\n",
       "50%      39.000000    30.400000     1.000000   9382.033000\n",
       "75%      51.000000    34.693750     2.000000  16639.912515\n",
       "max      64.000000    53.130000     5.000000  63770.428010"
      ]
     },
     "execution_count": 10,
     "metadata": {},
     "output_type": "execute_result"
    }
   ],
   "source": [
    "df_insurance.describe()"
   ]
  },
  {
   "cell_type": "markdown",
   "id": "d6d84c09",
   "metadata": {},
   "source": [
    "### Feature Engineering"
   ]
  },
  {
   "cell_type": "code",
   "execution_count": 11,
   "id": "fc7b2a37",
   "metadata": {},
   "outputs": [],
   "source": [
    "df_insurance['age_cat']=pd.cut(df_insurance.age,bins=[15,30,45,61],labels=['young','middle','old'])"
   ]
  },
  {
   "cell_type": "code",
   "execution_count": 12,
   "id": "8f516bc1",
   "metadata": {},
   "outputs": [],
   "source": [
    "df_insurance['category']=['single' if x==0 else 'family' for x in df_insurance['children']]"
   ]
  },
  {
   "cell_type": "code",
   "execution_count": 13,
   "id": "9f467f4e",
   "metadata": {},
   "outputs": [],
   "source": [
    "#df_insurance['bmi_status']=pd.cut(df_insurance.bmi,bins=[0,19,25,30,60],labels=['underweight','healthy','overweight','obese'])"
   ]
  },
  {
   "cell_type": "code",
   "execution_count": 14,
   "id": "abbf2e96",
   "metadata": {},
   "outputs": [],
   "source": [
    "#Dropping the extra columns since we donnot require it for model building"
   ]
  },
  {
   "cell_type": "code",
   "execution_count": 15,
   "id": "d623e7f3",
   "metadata": {},
   "outputs": [],
   "source": [
    "df_insurance=df_insurance.drop(['age','children'],axis=1)"
   ]
  },
  {
   "cell_type": "code",
   "execution_count": 16,
   "id": "50fd36c6",
   "metadata": {},
   "outputs": [
    {
     "data": {
      "text/html": [
       "<div>\n",
       "<style scoped>\n",
       "    .dataframe tbody tr th:only-of-type {\n",
       "        vertical-align: middle;\n",
       "    }\n",
       "\n",
       "    .dataframe tbody tr th {\n",
       "        vertical-align: top;\n",
       "    }\n",
       "\n",
       "    .dataframe thead th {\n",
       "        text-align: right;\n",
       "    }\n",
       "</style>\n",
       "<table border=\"1\" class=\"dataframe\">\n",
       "  <thead>\n",
       "    <tr style=\"text-align: right;\">\n",
       "      <th></th>\n",
       "      <th>sex</th>\n",
       "      <th>bmi</th>\n",
       "      <th>smoker</th>\n",
       "      <th>region</th>\n",
       "      <th>charges</th>\n",
       "      <th>age_cat</th>\n",
       "      <th>category</th>\n",
       "    </tr>\n",
       "  </thead>\n",
       "  <tbody>\n",
       "    <tr>\n",
       "      <th>0</th>\n",
       "      <td>female</td>\n",
       "      <td>27.900</td>\n",
       "      <td>yes</td>\n",
       "      <td>southwest</td>\n",
       "      <td>16884.92400</td>\n",
       "      <td>young</td>\n",
       "      <td>single</td>\n",
       "    </tr>\n",
       "    <tr>\n",
       "      <th>1</th>\n",
       "      <td>male</td>\n",
       "      <td>33.770</td>\n",
       "      <td>no</td>\n",
       "      <td>southeast</td>\n",
       "      <td>1725.55230</td>\n",
       "      <td>young</td>\n",
       "      <td>family</td>\n",
       "    </tr>\n",
       "    <tr>\n",
       "      <th>2</th>\n",
       "      <td>male</td>\n",
       "      <td>33.000</td>\n",
       "      <td>no</td>\n",
       "      <td>southeast</td>\n",
       "      <td>4449.46200</td>\n",
       "      <td>young</td>\n",
       "      <td>family</td>\n",
       "    </tr>\n",
       "    <tr>\n",
       "      <th>3</th>\n",
       "      <td>male</td>\n",
       "      <td>22.705</td>\n",
       "      <td>no</td>\n",
       "      <td>northwest</td>\n",
       "      <td>21984.47061</td>\n",
       "      <td>middle</td>\n",
       "      <td>single</td>\n",
       "    </tr>\n",
       "    <tr>\n",
       "      <th>4</th>\n",
       "      <td>male</td>\n",
       "      <td>28.880</td>\n",
       "      <td>no</td>\n",
       "      <td>northwest</td>\n",
       "      <td>3866.85520</td>\n",
       "      <td>middle</td>\n",
       "      <td>single</td>\n",
       "    </tr>\n",
       "  </tbody>\n",
       "</table>\n",
       "</div>"
      ],
      "text/plain": [
       "      sex     bmi smoker     region      charges age_cat category\n",
       "0  female  27.900    yes  southwest  16884.92400   young   single\n",
       "1    male  33.770     no  southeast   1725.55230   young   family\n",
       "2    male  33.000     no  southeast   4449.46200   young   family\n",
       "3    male  22.705     no  northwest  21984.47061  middle   single\n",
       "4    male  28.880     no  northwest   3866.85520  middle   single"
      ]
     },
     "execution_count": 16,
     "metadata": {},
     "output_type": "execute_result"
    }
   ],
   "source": [
    "df_insurance.head()"
   ]
  },
  {
   "cell_type": "markdown",
   "id": "dccf40cc",
   "metadata": {},
   "source": [
    "### Checking for outliers"
   ]
  },
  {
   "cell_type": "code",
   "execution_count": 17,
   "id": "18b3568e",
   "metadata": {},
   "outputs": [
    {
     "data": {
      "image/png": "[encoded data removed]",
      "text/plain": [
       "<Figure size 432x288 with 1 Axes>"
      ]
     },
     "metadata": {
      "needs_background": "light"
     },
     "output_type": "display_data"
    }
   ],
   "source": [
    "sns.boxplot(data=df_insurance)\n",
    "plt.show()"
   ]
  },
  {
   "cell_type": "markdown",
   "id": "af390912",
   "metadata": {},
   "source": [
    "We can see that there are outliers present in charges column.So we need to treat it."
   ]
  },
  {
   "cell_type": "code",
   "execution_count": 18,
   "id": "1bf104b8",
   "metadata": {},
   "outputs": [],
   "source": [
    "#Treating the outliers"
   ]
  },
  {
   "cell_type": "code",
   "execution_count": 19,
   "id": "86ae5ac3",
   "metadata": {},
   "outputs": [],
   "source": [
    "def boundaries(data,variable):\n",
    "    LL=(data[variable].quantile(.25))-(((data[variable].quantile(.75))-(data[variable].quantile(.25)))*1.5)\n",
    "    UL=(data[variable].quantile(.75))+(((data[variable].quantile(.75))-(data[variable].quantile(.25)))*1.5)\n",
    "    return LL,UL"
   ]
  },
  {
   "cell_type": "code",
   "execution_count": 20,
   "id": "2c4018d3",
   "metadata": {},
   "outputs": [],
   "source": [
    "cols=['bmi','charges']"
   ]
  },
  {
   "cell_type": "code",
   "execution_count": 21,
   "id": "8c99b9aa",
   "metadata": {},
   "outputs": [],
   "source": [
    "for col in cols:\n",
    "    LL,UL=boundaries(df_insurance,col)\n",
    "    \n",
    "    df_insurance[col]=np.where(df_insurance[col]<LL,LL,\n",
    "                            np.where(df_insurance[col]>UL,UL,df_insurance[col]))"
   ]
  },
  {
   "cell_type": "code",
   "execution_count": 22,
   "id": "5ecc3cc2",
   "metadata": {},
   "outputs": [
    {
     "data": {
      "image/png": "[encoded data removed]",
      "text/plain": [
       "<Figure size 432x288 with 1 Axes>"
      ]
     },
     "metadata": {
      "needs_background": "light"
     },
     "output_type": "display_data"
    }
   ],
   "source": [
    "sns.boxplot(data=df_insurance)\n",
    "plt.show()"
   ]
  },
  {
   "cell_type": "markdown",
   "id": "0cf4399c",
   "metadata": {},
   "source": [
    "We can see that the outliers have been trated now."
   ]
  },
  {
   "cell_type": "code",
   "execution_count": 23,
   "id": "f9e76afc",
   "metadata": {},
   "outputs": [
    {
     "data": {
      "text/html": [
       "<div>\n",
       "<style scoped>\n",
       "    .dataframe tbody tr th:only-of-type {\n",
       "        vertical-align: middle;\n",
       "    }\n",
       "\n",
       "    .dataframe tbody tr th {\n",
       "        vertical-align: top;\n",
       "    }\n",
       "\n",
       "    .dataframe thead th {\n",
       "        text-align: right;\n",
       "    }\n",
       "</style>\n",
       "<table border=\"1\" class=\"dataframe\">\n",
       "  <thead>\n",
       "    <tr style=\"text-align: right;\">\n",
       "      <th></th>\n",
       "      <th>sex</th>\n",
       "      <th>bmi</th>\n",
       "      <th>smoker</th>\n",
       "      <th>region</th>\n",
       "      <th>charges</th>\n",
       "      <th>age_cat</th>\n",
       "      <th>category</th>\n",
       "    </tr>\n",
       "  </thead>\n",
       "  <tbody>\n",
       "    <tr>\n",
       "      <th>0</th>\n",
       "      <td>female</td>\n",
       "      <td>27.900</td>\n",
       "      <td>yes</td>\n",
       "      <td>southwest</td>\n",
       "      <td>16884.92400</td>\n",
       "      <td>young</td>\n",
       "      <td>single</td>\n",
       "    </tr>\n",
       "    <tr>\n",
       "      <th>1</th>\n",
       "      <td>male</td>\n",
       "      <td>33.770</td>\n",
       "      <td>no</td>\n",
       "      <td>southeast</td>\n",
       "      <td>1725.55230</td>\n",
       "      <td>young</td>\n",
       "      <td>family</td>\n",
       "    </tr>\n",
       "    <tr>\n",
       "      <th>2</th>\n",
       "      <td>male</td>\n",
       "      <td>33.000</td>\n",
       "      <td>no</td>\n",
       "      <td>southeast</td>\n",
       "      <td>4449.46200</td>\n",
       "      <td>young</td>\n",
       "      <td>family</td>\n",
       "    </tr>\n",
       "    <tr>\n",
       "      <th>3</th>\n",
       "      <td>male</td>\n",
       "      <td>22.705</td>\n",
       "      <td>no</td>\n",
       "      <td>northwest</td>\n",
       "      <td>21984.47061</td>\n",
       "      <td>middle</td>\n",
       "      <td>single</td>\n",
       "    </tr>\n",
       "    <tr>\n",
       "      <th>4</th>\n",
       "      <td>male</td>\n",
       "      <td>28.880</td>\n",
       "      <td>no</td>\n",
       "      <td>northwest</td>\n",
       "      <td>3866.85520</td>\n",
       "      <td>middle</td>\n",
       "      <td>single</td>\n",
       "    </tr>\n",
       "    <tr>\n",
       "      <th>...</th>\n",
       "      <td>...</td>\n",
       "      <td>...</td>\n",
       "      <td>...</td>\n",
       "      <td>...</td>\n",
       "      <td>...</td>\n",
       "      <td>...</td>\n",
       "      <td>...</td>\n",
       "    </tr>\n",
       "    <tr>\n",
       "      <th>1333</th>\n",
       "      <td>male</td>\n",
       "      <td>30.970</td>\n",
       "      <td>no</td>\n",
       "      <td>northwest</td>\n",
       "      <td>10600.54830</td>\n",
       "      <td>old</td>\n",
       "      <td>family</td>\n",
       "    </tr>\n",
       "    <tr>\n",
       "      <th>1334</th>\n",
       "      <td>female</td>\n",
       "      <td>31.920</td>\n",
       "      <td>no</td>\n",
       "      <td>northeast</td>\n",
       "      <td>2205.98080</td>\n",
       "      <td>young</td>\n",
       "      <td>single</td>\n",
       "    </tr>\n",
       "    <tr>\n",
       "      <th>1335</th>\n",
       "      <td>female</td>\n",
       "      <td>36.850</td>\n",
       "      <td>no</td>\n",
       "      <td>southeast</td>\n",
       "      <td>1629.83350</td>\n",
       "      <td>young</td>\n",
       "      <td>single</td>\n",
       "    </tr>\n",
       "    <tr>\n",
       "      <th>1336</th>\n",
       "      <td>female</td>\n",
       "      <td>25.800</td>\n",
       "      <td>no</td>\n",
       "      <td>southwest</td>\n",
       "      <td>2007.94500</td>\n",
       "      <td>young</td>\n",
       "      <td>single</td>\n",
       "    </tr>\n",
       "    <tr>\n",
       "      <th>1337</th>\n",
       "      <td>female</td>\n",
       "      <td>29.070</td>\n",
       "      <td>yes</td>\n",
       "      <td>northwest</td>\n",
       "      <td>29141.36030</td>\n",
       "      <td>old</td>\n",
       "      <td>single</td>\n",
       "    </tr>\n",
       "  </tbody>\n",
       "</table>\n",
       "<p>1338 rows × 7 columns</p>\n",
       "</div>"
      ],
      "text/plain": [
       "         sex     bmi smoker     region      charges age_cat category\n",
       "0     female  27.900    yes  southwest  16884.92400   young   single\n",
       "1       male  33.770     no  southeast   1725.55230   young   family\n",
       "2       male  33.000     no  southeast   4449.46200   young   family\n",
       "3       male  22.705     no  northwest  21984.47061  middle   single\n",
       "4       male  28.880     no  northwest   3866.85520  middle   single\n",
       "...      ...     ...    ...        ...          ...     ...      ...\n",
       "1333    male  30.970     no  northwest  10600.54830     old   family\n",
       "1334  female  31.920     no  northeast   2205.98080   young   single\n",
       "1335  female  36.850     no  southeast   1629.83350   young   single\n",
       "1336  female  25.800     no  southwest   2007.94500   young   single\n",
       "1337  female  29.070    yes  northwest  29141.36030     old   single\n",
       "\n",
       "[1338 rows x 7 columns]"
      ]
     },
     "execution_count": 23,
     "metadata": {},
     "output_type": "execute_result"
    }
   ],
   "source": [
    "df_insurance"
   ]
  },
  {
   "cell_type": "markdown",
   "id": "13e5119a",
   "metadata": {},
   "source": [
    "### Test for Correlation"
   ]
  },
  {
   "cell_type": "code",
   "execution_count": 24,
   "id": "0ab55e25",
   "metadata": {},
   "outputs": [],
   "source": [
    "vcorr=df_insurance.corr()"
   ]
  },
  {
   "cell_type": "code",
   "execution_count": 25,
   "id": "76aa4f31",
   "metadata": {},
   "outputs": [
    {
     "data": {
      "text/html": [
       "<div>\n",
       "<style scoped>\n",
       "    .dataframe tbody tr th:only-of-type {\n",
       "        vertical-align: middle;\n",
       "    }\n",
       "\n",
       "    .dataframe tbody tr th {\n",
       "        vertical-align: top;\n",
       "    }\n",
       "\n",
       "    .dataframe thead th {\n",
       "        text-align: right;\n",
       "    }\n",
       "</style>\n",
       "<table border=\"1\" class=\"dataframe\">\n",
       "  <thead>\n",
       "    <tr style=\"text-align: right;\">\n",
       "      <th></th>\n",
       "      <th>bmi</th>\n",
       "      <th>charges</th>\n",
       "    </tr>\n",
       "  </thead>\n",
       "  <tbody>\n",
       "    <tr>\n",
       "      <th>bmi</th>\n",
       "      <td>1.000000</td>\n",
       "      <td>0.160996</td>\n",
       "    </tr>\n",
       "    <tr>\n",
       "      <th>charges</th>\n",
       "      <td>0.160996</td>\n",
       "      <td>1.000000</td>\n",
       "    </tr>\n",
       "  </tbody>\n",
       "</table>\n",
       "</div>"
      ],
      "text/plain": [
       "              bmi   charges\n",
       "bmi      1.000000  0.160996\n",
       "charges  0.160996  1.000000"
      ]
     },
     "execution_count": 25,
     "metadata": {},
     "output_type": "execute_result"
    }
   ],
   "source": [
    "vcorr"
   ]
  },
  {
   "cell_type": "code",
   "execution_count": 26,
   "id": "ec5b6fbb",
   "metadata": {},
   "outputs": [
    {
     "data": {
      "image/png": "[encoded data removed]",
      "text/plain": [
       "<Figure size 432x288 with 2 Axes>"
      ]
     },
     "metadata": {
      "needs_background": "light"
     },
     "output_type": "display_data"
    }
   ],
   "source": [
    "sns.heatmap(vcorr[(vcorr>0.85) | (vcorr<-0.85)],annot=True)\n",
    "plt.show()"
   ]
  },
  {
   "cell_type": "markdown",
   "id": "63626383",
   "metadata": {},
   "source": [
    "We can find that there is no strong correlation."
   ]
  },
  {
   "cell_type": "markdown",
   "id": "0b47b502",
   "metadata": {},
   "source": [
    "### Test for normality"
   ]
  },
  {
   "cell_type": "code",
   "execution_count": 27,
   "id": "2575c706",
   "metadata": {},
   "outputs": [
    {
     "data": {
      "image/png": "[encoded data removed]",
      "text/plain": [
       "<Figure size 432x288 with 1 Axes>"
      ]
     },
     "metadata": {
      "needs_background": "light"
     },
     "output_type": "display_data"
    }
   ],
   "source": [
    "sns.kdeplot(x='charges',data=df_insurance)\n",
    "plt.show()"
   ]
  },
  {
   "cell_type": "code",
   "execution_count": 28,
   "id": "0c38ceae",
   "metadata": {},
   "outputs": [
    {
     "data": {
      "text/plain": [
       "1.0837301093573644"
      ]
     },
     "execution_count": 28,
     "metadata": {},
     "output_type": "execute_result"
    }
   ],
   "source": [
    "df_insurance.charges.skew()"
   ]
  },
  {
   "cell_type": "code",
   "execution_count": 29,
   "id": "967bcb68",
   "metadata": {},
   "outputs": [],
   "source": [
    "df_insurance['log_charges']=np.log(df_insurance['charges'])"
   ]
  },
  {
   "cell_type": "code",
   "execution_count": 30,
   "id": "2420655a",
   "metadata": {},
   "outputs": [
    {
     "data": {
      "text/html": [
       "<div>\n",
       "<style scoped>\n",
       "    .dataframe tbody tr th:only-of-type {\n",
       "        vertical-align: middle;\n",
       "    }\n",
       "\n",
       "    .dataframe tbody tr th {\n",
       "        vertical-align: top;\n",
       "    }\n",
       "\n",
       "    .dataframe thead th {\n",
       "        text-align: right;\n",
       "    }\n",
       "</style>\n",
       "<table border=\"1\" class=\"dataframe\">\n",
       "  <thead>\n",
       "    <tr style=\"text-align: right;\">\n",
       "      <th></th>\n",
       "      <th>sex</th>\n",
       "      <th>bmi</th>\n",
       "      <th>smoker</th>\n",
       "      <th>region</th>\n",
       "      <th>charges</th>\n",
       "      <th>age_cat</th>\n",
       "      <th>category</th>\n",
       "      <th>log_charges</th>\n",
       "    </tr>\n",
       "  </thead>\n",
       "  <tbody>\n",
       "    <tr>\n",
       "      <th>0</th>\n",
       "      <td>female</td>\n",
       "      <td>27.900</td>\n",
       "      <td>yes</td>\n",
       "      <td>southwest</td>\n",
       "      <td>16884.92400</td>\n",
       "      <td>young</td>\n",
       "      <td>single</td>\n",
       "      <td>9.734176</td>\n",
       "    </tr>\n",
       "    <tr>\n",
       "      <th>1</th>\n",
       "      <td>male</td>\n",
       "      <td>33.770</td>\n",
       "      <td>no</td>\n",
       "      <td>southeast</td>\n",
       "      <td>1725.55230</td>\n",
       "      <td>young</td>\n",
       "      <td>family</td>\n",
       "      <td>7.453302</td>\n",
       "    </tr>\n",
       "    <tr>\n",
       "      <th>2</th>\n",
       "      <td>male</td>\n",
       "      <td>33.000</td>\n",
       "      <td>no</td>\n",
       "      <td>southeast</td>\n",
       "      <td>4449.46200</td>\n",
       "      <td>young</td>\n",
       "      <td>family</td>\n",
       "      <td>8.400538</td>\n",
       "    </tr>\n",
       "    <tr>\n",
       "      <th>3</th>\n",
       "      <td>male</td>\n",
       "      <td>22.705</td>\n",
       "      <td>no</td>\n",
       "      <td>northwest</td>\n",
       "      <td>21984.47061</td>\n",
       "      <td>middle</td>\n",
       "      <td>single</td>\n",
       "      <td>9.998092</td>\n",
       "    </tr>\n",
       "    <tr>\n",
       "      <th>4</th>\n",
       "      <td>male</td>\n",
       "      <td>28.880</td>\n",
       "      <td>no</td>\n",
       "      <td>northwest</td>\n",
       "      <td>3866.85520</td>\n",
       "      <td>middle</td>\n",
       "      <td>single</td>\n",
       "      <td>8.260197</td>\n",
       "    </tr>\n",
       "  </tbody>\n",
       "</table>\n",
       "</div>"
      ],
      "text/plain": [
       "      sex     bmi smoker     region      charges age_cat category  log_charges\n",
       "0  female  27.900    yes  southwest  16884.92400   young   single     9.734176\n",
       "1    male  33.770     no  southeast   1725.55230   young   family     7.453302\n",
       "2    male  33.000     no  southeast   4449.46200   young   family     8.400538\n",
       "3    male  22.705     no  northwest  21984.47061  middle   single     9.998092\n",
       "4    male  28.880     no  northwest   3866.85520  middle   single     8.260197"
      ]
     },
     "execution_count": 30,
     "metadata": {},
     "output_type": "execute_result"
    }
   ],
   "source": [
    "#Checking for the log charges column\n",
    "df_insurance.head()"
   ]
  },
  {
   "cell_type": "code",
   "execution_count": 31,
   "id": "243dd868",
   "metadata": {},
   "outputs": [
    {
     "data": {
      "image/png": "[encoded data removed]",
      "text/plain": [
       "<Figure size 432x288 with 1 Axes>"
      ]
     },
     "metadata": {
      "needs_background": "light"
     },
     "output_type": "display_data"
    }
   ],
   "source": [
    "sns.kdeplot(x='log_charges',data=df_insurance)\n",
    "plt.show()"
   ]
  },
  {
   "cell_type": "code",
   "execution_count": 32,
   "id": "b84ccd8a",
   "metadata": {},
   "outputs": [
    {
     "data": {
      "text/plain": [
       "-0.22369223793730086"
      ]
     },
     "execution_count": 32,
     "metadata": {},
     "output_type": "execute_result"
    }
   ],
   "source": [
    "df_insurance.log_charges.skew()"
   ]
  },
  {
   "cell_type": "markdown",
   "id": "26b559ab",
   "metadata": {},
   "source": [
    "### Creating a backup file"
   ]
  },
  {
   "cell_type": "code",
   "execution_count": 33,
   "id": "aaded0d2",
   "metadata": {},
   "outputs": [],
   "source": [
    "df_insurance1=df_insurance.copy(deep=True)"
   ]
  },
  {
   "cell_type": "markdown",
   "id": "7e0069c9",
   "metadata": {},
   "source": [
    "## 4.Dummy encoding of categorical Variables"
   ]
  },
  {
   "cell_type": "code",
   "execution_count": 34,
   "id": "f0f86c31",
   "metadata": {},
   "outputs": [],
   "source": [
    "df_insurance1_dummy=pd.get_dummies(df_insurance1,drop_first=True)"
   ]
  },
  {
   "cell_type": "code",
   "execution_count": 35,
   "id": "91b52d98",
   "metadata": {},
   "outputs": [
    {
     "data": {
      "text/plain": [
       "(1338, 11)"
      ]
     },
     "execution_count": 35,
     "metadata": {},
     "output_type": "execute_result"
    }
   ],
   "source": [
    "df_insurance1_dummy.shape"
   ]
  },
  {
   "cell_type": "code",
   "execution_count": 36,
   "id": "08ca9ca2",
   "metadata": {},
   "outputs": [
    {
     "data": {
      "text/html": [
       "<div>\n",
       "<style scoped>\n",
       "    .dataframe tbody tr th:only-of-type {\n",
       "        vertical-align: middle;\n",
       "    }\n",
       "\n",
       "    .dataframe tbody tr th {\n",
       "        vertical-align: top;\n",
       "    }\n",
       "\n",
       "    .dataframe thead th {\n",
       "        text-align: right;\n",
       "    }\n",
       "</style>\n",
       "<table border=\"1\" class=\"dataframe\">\n",
       "  <thead>\n",
       "    <tr style=\"text-align: right;\">\n",
       "      <th></th>\n",
       "      <th>bmi</th>\n",
       "      <th>charges</th>\n",
       "      <th>log_charges</th>\n",
       "      <th>sex_male</th>\n",
       "      <th>smoker_yes</th>\n",
       "      <th>region_northwest</th>\n",
       "      <th>region_southeast</th>\n",
       "      <th>region_southwest</th>\n",
       "      <th>age_cat_middle</th>\n",
       "      <th>age_cat_old</th>\n",
       "      <th>category_single</th>\n",
       "    </tr>\n",
       "  </thead>\n",
       "  <tbody>\n",
       "    <tr>\n",
       "      <th>0</th>\n",
       "      <td>27.900</td>\n",
       "      <td>16884.92400</td>\n",
       "      <td>9.734176</td>\n",
       "      <td>0</td>\n",
       "      <td>1</td>\n",
       "      <td>0</td>\n",
       "      <td>0</td>\n",
       "      <td>1</td>\n",
       "      <td>0</td>\n",
       "      <td>0</td>\n",
       "      <td>1</td>\n",
       "    </tr>\n",
       "    <tr>\n",
       "      <th>1</th>\n",
       "      <td>33.770</td>\n",
       "      <td>1725.55230</td>\n",
       "      <td>7.453302</td>\n",
       "      <td>1</td>\n",
       "      <td>0</td>\n",
       "      <td>0</td>\n",
       "      <td>1</td>\n",
       "      <td>0</td>\n",
       "      <td>0</td>\n",
       "      <td>0</td>\n",
       "      <td>0</td>\n",
       "    </tr>\n",
       "    <tr>\n",
       "      <th>2</th>\n",
       "      <td>33.000</td>\n",
       "      <td>4449.46200</td>\n",
       "      <td>8.400538</td>\n",
       "      <td>1</td>\n",
       "      <td>0</td>\n",
       "      <td>0</td>\n",
       "      <td>1</td>\n",
       "      <td>0</td>\n",
       "      <td>0</td>\n",
       "      <td>0</td>\n",
       "      <td>0</td>\n",
       "    </tr>\n",
       "    <tr>\n",
       "      <th>3</th>\n",
       "      <td>22.705</td>\n",
       "      <td>21984.47061</td>\n",
       "      <td>9.998092</td>\n",
       "      <td>1</td>\n",
       "      <td>0</td>\n",
       "      <td>1</td>\n",
       "      <td>0</td>\n",
       "      <td>0</td>\n",
       "      <td>1</td>\n",
       "      <td>0</td>\n",
       "      <td>1</td>\n",
       "    </tr>\n",
       "    <tr>\n",
       "      <th>4</th>\n",
       "      <td>28.880</td>\n",
       "      <td>3866.85520</td>\n",
       "      <td>8.260197</td>\n",
       "      <td>1</td>\n",
       "      <td>0</td>\n",
       "      <td>1</td>\n",
       "      <td>0</td>\n",
       "      <td>0</td>\n",
       "      <td>1</td>\n",
       "      <td>0</td>\n",
       "      <td>1</td>\n",
       "    </tr>\n",
       "  </tbody>\n",
       "</table>\n",
       "</div>"
      ],
      "text/plain": [
       "      bmi      charges  log_charges  sex_male  smoker_yes  region_northwest  \\\n",
       "0  27.900  16884.92400     9.734176         0           1                 0   \n",
       "1  33.770   1725.55230     7.453302         1           0                 0   \n",
       "2  33.000   4449.46200     8.400538         1           0                 0   \n",
       "3  22.705  21984.47061     9.998092         1           0                 1   \n",
       "4  28.880   3866.85520     8.260197         1           0                 1   \n",
       "\n",
       "   region_southeast  region_southwest  age_cat_middle  age_cat_old  \\\n",
       "0                 0                 1               0            0   \n",
       "1                 1                 0               0            0   \n",
       "2                 1                 0               0            0   \n",
       "3                 0                 0               1            0   \n",
       "4                 0                 0               1            0   \n",
       "\n",
       "   category_single  \n",
       "0                1  \n",
       "1                0  \n",
       "2                0  \n",
       "3                1  \n",
       "4                1  "
      ]
     },
     "execution_count": 36,
     "metadata": {},
     "output_type": "execute_result"
    }
   ],
   "source": [
    "df_insurance1_dummy.head()"
   ]
  },
  {
   "cell_type": "code",
   "execution_count": 37,
   "id": "72289396",
   "metadata": {},
   "outputs": [
    {
     "data": {
      "image/png": "[encoded data removed]",
      "text/plain": [
       "<Figure size 720x720 with 2 Axes>"
      ]
     },
     "metadata": {
      "needs_background": "light"
     },
     "output_type": "display_data"
    }
   ],
   "source": [
    "f, ax = plt.subplots(figsize=(10, 10))\n",
    "sns.heatmap(df_insurance1_dummy.corr(),annot=True)\n",
    "plt.show()"
   ]
  },
  {
   "cell_type": "markdown",
   "id": "2aed985b",
   "metadata": {},
   "source": [
    "## 5.Visualisations"
   ]
  },
  {
   "cell_type": "code",
   "execution_count": 38,
   "id": "0194387a",
   "metadata": {},
   "outputs": [],
   "source": [
    "#Counting the males and females"
   ]
  },
  {
   "cell_type": "code",
   "execution_count": 39,
   "id": "c8a5d1c8",
   "metadata": {},
   "outputs": [
    {
     "data": {
      "image/png": "[encoded data removed]",
      "text/plain": [
       "<Figure size 432x288 with 1 Axes>"
      ]
     },
     "metadata": {
      "needs_background": "light"
     },
     "output_type": "display_data"
    }
   ],
   "source": [
    "cp=sns.countplot(df_insurance['sex'])\n",
    "cp.bar_label(cp.containers[0])\n",
    "plt.show()"
   ]
  },
  {
   "cell_type": "markdown",
   "id": "2b25f369",
   "metadata": {},
   "source": [
    "There are 662 females and 676 males in total."
   ]
  },
  {
   "cell_type": "code",
   "execution_count": 40,
   "id": "be903056",
   "metadata": {},
   "outputs": [],
   "source": [
    "#Plotting age_cat and charges distribution"
   ]
  },
  {
   "cell_type": "code",
   "execution_count": 41,
   "id": "7ff99e81",
   "metadata": {},
   "outputs": [
    {
     "data": {
      "image/png": "[encoded data removed]",
      "text/plain": [
       "<Figure size 432x288 with 1 Axes>"
      ]
     },
     "metadata": {
      "needs_background": "light"
     },
     "output_type": "display_data"
    }
   ],
   "source": [
    "sns.barplot(x='age_cat',y='charges',data=df_insurance,errwidth=0)\n",
    "plt.show()"
   ]
  },
  {
   "cell_type": "markdown",
   "id": "9e730673",
   "metadata": {},
   "source": [
    "We can find that the medical charges as well as insurance cost increases with increase in age."
   ]
  },
  {
   "cell_type": "code",
   "execution_count": 42,
   "id": "9ad3d577",
   "metadata": {},
   "outputs": [],
   "source": [
    "#finding out how many single person and family were covered with insurance"
   ]
  },
  {
   "cell_type": "code",
   "execution_count": 43,
   "id": "f150d505",
   "metadata": {},
   "outputs": [
    {
     "data": {
      "text/plain": [
       "family    764\n",
       "single    574\n",
       "Name: category, dtype: int64"
      ]
     },
     "execution_count": 43,
     "metadata": {},
     "output_type": "execute_result"
    }
   ],
   "source": [
    "df_insurance.category.value_counts()"
   ]
  },
  {
   "cell_type": "code",
   "execution_count": 44,
   "id": "3528cbd0",
   "metadata": {},
   "outputs": [
    {
     "data": {
      "image/png": "[encoded data removed]",
      "text/plain": [
       "<Figure size 432x288 with 1 Axes>"
      ]
     },
     "metadata": {},
     "output_type": "display_data"
    }
   ],
   "source": [
    "keys=['family','single']\n",
    "\n",
    "plt.pie(df_insurance['category'].value_counts(),labels=keys,autopct='%.2f%%')\n",
    "plt.show()"
   ]
  },
  {
   "cell_type": "markdown",
   "id": "0f976574",
   "metadata": {},
   "source": [
    "As per the pie chart, 57.10% of the total individuals had insurance for their family, whereas 42.90% had it for themselves."
   ]
  },
  {
   "cell_type": "code",
   "execution_count": 45,
   "id": "a0693fff",
   "metadata": {},
   "outputs": [],
   "source": [
    "#Finding the relation between category and charges"
   ]
  },
  {
   "cell_type": "code",
   "execution_count": 46,
   "id": "a59e886a",
   "metadata": {},
   "outputs": [
    {
     "data": {
      "image/png": "[encoded data removed]",
      "text/plain": [
       "<Figure size 432x288 with 1 Axes>"
      ]
     },
     "metadata": {
      "needs_background": "light"
     },
     "output_type": "display_data"
    }
   ],
   "source": [
    "sns.barplot(x='category',y='charges',data=df_insurance,errwidth=0)\n",
    "plt.show()"
   ]
  },
  {
   "cell_type": "markdown",
   "id": "d253c498",
   "metadata": {},
   "source": [
    "According to the plot, the insurance charges for entire family is more as compared to insurance charges for individual."
   ]
  },
  {
   "cell_type": "code",
   "execution_count": 47,
   "id": "bbaf0c3c",
   "metadata": {},
   "outputs": [],
   "source": [
    "#Finding out how charges vary depending on sex of the person and his/her smoking behaviour"
   ]
  },
  {
   "cell_type": "code",
   "execution_count": 48,
   "id": "86132832",
   "metadata": {},
   "outputs": [
    {
     "data": {
      "image/png": "[encoded data removed]",
      "text/plain": [
       "<Figure size 432x288 with 1 Axes>"
      ]
     },
     "metadata": {
      "needs_background": "light"
     },
     "output_type": "display_data"
    }
   ],
   "source": [
    "sns.barplot(x='sex',y='charges',hue='smoker',data=df_insurance,errwidth=0)\n",
    "plt.show()"
   ]
  },
  {
   "cell_type": "markdown",
   "id": "cf0aea76",
   "metadata": {},
   "source": [
    "As per the graph, males pay a greater amount towards insurance as compared to females. We can also see clearly that insurance costs are very high if the person is a smoker."
   ]
  },
  {
   "cell_type": "code",
   "execution_count": 49,
   "id": "1d053df7",
   "metadata": {},
   "outputs": [],
   "source": [
    "#region wise distribution"
   ]
  },
  {
   "cell_type": "code",
   "execution_count": 50,
   "id": "d3f67d12",
   "metadata": {},
   "outputs": [
    {
     "data": {
      "image/png": "[encoded data removed]",
      "text/plain": [
       "<Figure size 432x288 with 1 Axes>"
      ]
     },
     "metadata": {
      "needs_background": "light"
     },
     "output_type": "display_data"
    }
   ],
   "source": [
    "cp=sns.countplot(df_insurance['region'])\n",
    "cp.bar_label(cp.containers[0])\n",
    "plt.show()"
   ]
  },
  {
   "cell_type": "markdown",
   "id": "9c28d2cc",
   "metadata": {},
   "source": [
    "The highest observation is from southeast region."
   ]
  },
  {
   "cell_type": "code",
   "execution_count": 51,
   "id": "91fc93bf",
   "metadata": {},
   "outputs": [],
   "source": [
    "#Finding out how charges vary depending on region of the person and his/her smoking behaviour"
   ]
  },
  {
   "cell_type": "code",
   "execution_count": 52,
   "id": "01fd7bf5",
   "metadata": {},
   "outputs": [
    {
     "data": {
      "image/png": "[encoded data removed]",
      "text/plain": [
       "<Figure size 648x576 with 1 Axes>"
      ]
     },
     "metadata": {
      "needs_background": "light"
     },
     "output_type": "display_data"
    }
   ],
   "source": [
    "plt.figure(figsize=(9,8))\n",
    "bp=sns.barplot(x='region',y='charges',hue='smoker',data=df_insurance,errwidth=0)\n",
    "bp.bar_label(bp.containers[0])\n",
    "plt.show()"
   ]
  },
  {
   "cell_type": "markdown",
   "id": "0a9194a7",
   "metadata": {},
   "source": [
    "We can find that in all regions, the smokers are much more as compared to non-smokers."
   ]
  },
  {
   "cell_type": "markdown",
   "id": "5feb1dc3",
   "metadata": {},
   "source": [
    "## 6.Separating the dependent and independent features"
   ]
  },
  {
   "cell_type": "code",
   "execution_count": 53,
   "id": "13f5c9e4",
   "metadata": {},
   "outputs": [],
   "source": [
    "X=df_insurance1_dummy.drop(['charges','log_charges'],axis=1)\n",
    "y=df_insurance1_dummy[['charges','log_charges']]"
   ]
  },
  {
   "cell_type": "markdown",
   "id": "d83ef3dc",
   "metadata": {},
   "source": [
    "## 7.Splitting the data into train and test data set"
   ]
  },
  {
   "cell_type": "code",
   "execution_count": 54,
   "id": "f50743b8",
   "metadata": {},
   "outputs": [],
   "source": [
    "X_train,X_test,y_train,y_test=train_test_split(X,y,test_size=0.20,random_state=1)"
   ]
  },
  {
   "cell_type": "code",
   "execution_count": 55,
   "id": "10c3a8ae",
   "metadata": {},
   "outputs": [
    {
     "data": {
      "text/plain": [
       "((1070, 9), (268, 9), (1070, 2), (268, 2))"
      ]
     },
     "execution_count": 55,
     "metadata": {},
     "output_type": "execute_result"
    }
   ],
   "source": [
    "X_train.shape,X_test.shape,y_train.shape,y_test.shape"
   ]
  },
  {
   "cell_type": "markdown",
   "id": "575170ed",
   "metadata": {},
   "source": [
    "## 8.Scaling the data"
   ]
  },
  {
   "cell_type": "code",
   "execution_count": 56,
   "id": "b005eeb1",
   "metadata": {},
   "outputs": [],
   "source": [
    "sc=StandardScaler()"
   ]
  },
  {
   "cell_type": "code",
   "execution_count": 57,
   "id": "981f6fb3",
   "metadata": {},
   "outputs": [],
   "source": [
    "X_train_scaled=sc.fit_transform(X_train)\n",
    "X_test_scaled=sc.transform(X_test)"
   ]
  },
  {
   "cell_type": "markdown",
   "id": "e7e09625",
   "metadata": {},
   "source": [
    "## 9.Finding best parmeters"
   ]
  },
  {
   "cell_type": "code",
   "execution_count": 58,
   "id": "cc43add1",
   "metadata": {},
   "outputs": [],
   "source": [
    "#GridSearch CV"
   ]
  },
  {
   "cell_type": "code",
   "execution_count": 59,
   "id": "68a0002a",
   "metadata": {},
   "outputs": [],
   "source": [
    "#gridsearchCV using RandomForest model(with Charges column)"
   ]
  },
  {
   "cell_type": "markdown",
   "id": "bb5d5261",
   "metadata": {},
   "source": [
    "## 10.Model Building"
   ]
  },
  {
   "cell_type": "markdown",
   "id": "54c5b63f",
   "metadata": {},
   "source": [
    "### Model Building with Charges as target column"
   ]
  },
  {
   "cell_type": "code",
   "execution_count": 60,
   "id": "97a2a8d8",
   "metadata": {},
   "outputs": [],
   "source": [
    "models=[LinearRegression(),SGDRegressor(),DecisionTreeRegressor(),RandomForestRegressor(),\n",
    "        RandomForestRegressor(n_estimators=100,min_samples_split=15,max_depth=8),\n",
    "        XGBRegressor(),GradientBoostingRegressor(),AdaBoostRegressor(),\n",
    "        SVR(kernel='linear'),SVR(kernel='rbf'),SVR(kernel='sigmoid'),SVR(kernel='poly'),\n",
    "       KNeighborsRegressor()]"
   ]
  },
  {
   "cell_type": "code",
   "execution_count": 61,
   "id": "cf28b641",
   "metadata": {},
   "outputs": [
    {
     "name": "stdout",
     "output_type": "stream",
     "text": [
      "LinearRegression(): \n",
      "MSE_train:  30864527.23318152\n",
      "MSE_test:  29660119.883727986\n",
      "RMSE_train:  5555.58522868487\n",
      "RMSE_test:  5446.110528049167\n",
      "R2_score_train:  0.7021021689382984\n",
      "R2_score_test:  0.7066480250053924\n",
      "\n",
      "SGDRegressor(): \n",
      "MSE_train:  30872863.510507744\n",
      "MSE_test:  29518014.0433246\n",
      "RMSE_train:  5556.3354389838405\n",
      "RMSE_test:  5433.048319619898\n",
      "R2_score_train:  0.702021708968319\n",
      "R2_score_test:  0.7080535159172303\n",
      "\n",
      "DecisionTreeRegressor(): \n",
      "MSE_train:  1069286.4712889397\n",
      "MSE_test:  47106375.87205488\n",
      "RMSE_train:  1034.063088640601\n",
      "RMSE_test:  6863.408473350168\n",
      "R2_score_train:  0.9896794751406999\n",
      "R2_score_test:  0.5340966775900722\n",
      "\n",
      "RandomForestRegressor(): \n",
      "MSE_train:  4745748.517588308\n",
      "MSE_test:  26677527.11951831\n",
      "RMSE_train:  2178.4738964670446\n",
      "RMSE_test:  5165.029246724389\n",
      "R2_score_train:  0.9541950479437779\n",
      "R2_score_test:  0.7361472138628705\n",
      "\n",
      "RandomForestRegressor(max_depth=8, min_samples_split=15): \n",
      "MSE_train:  17074832.058814917\n",
      "MSE_test:  22127166.574190732\n",
      "RMSE_train:  4132.170381145351\n",
      "RMSE_test:  4703.95222915696\n",
      "R2_score_train:  0.835197364351806\n",
      "R2_score_test:  0.7811523338064925\n",
      "\n",
      "XGBRegressor(base_score=0.5, booster='gbtree', callbacks=None,\n",
      "             colsample_bylevel=1, colsample_bynode=1, colsample_bytree=1,\n",
      "             early_stopping_rounds=None, enable_categorical=False,\n",
      "             eval_metric=None, gamma=0, gpu_id=-1, grow_policy='depthwise',\n",
      "             importance_type=None, interaction_constraints='',\n",
      "             learning_rate=0.300000012, max_bin=256, max_cat_to_onehot=4,\n",
      "             max_delta_step=0, max_depth=6, max_leaves=0, min_child_weight=1,\n",
      "             missing=nan, monotone_constraints='()', n_estimators=100, n_jobs=0,\n",
      "             num_parallel_tree=1, predictor='auto', random_state=0, reg_alpha=0,\n",
      "             reg_lambda=1, ...): \n",
      "MSE_train:  3310233.1985514928\n",
      "MSE_test:  32329379.616166178\n",
      "RMSE_train:  1819.4046274953498\n",
      "RMSE_test:  5685.893035941335\n",
      "R2_score_train:  0.9680503354965765\n",
      "R2_score_test:  0.6802478412787614\n",
      "\n",
      "GradientBoostingRegressor(): \n",
      "MSE_train:  18891595.40081759\n",
      "MSE_test:  21359085.453293834\n",
      "RMSE_train:  4346.446295632512\n",
      "RMSE_test:  4621.589061491062\n",
      "R2_score_train:  0.8176623522310578\n",
      "R2_score_test:  0.7887490028238281\n",
      "\n",
      "AdaBoostRegressor(): \n",
      "MSE_train:  27060881.29772272\n",
      "MSE_test:  27322377.38807019\n",
      "RMSE_train:  5202.0074296104885\n",
      "RMSE_test:  5227.081153767386\n",
      "R2_score_train:  0.738814147895218\n",
      "R2_score_test:  0.7297693536048182\n",
      "\n",
      "SVR(kernel='linear'): \n",
      "MSE_train:  104138134.51746498\n",
      "MSE_test:  103332649.80939248\n",
      "RMSE_train:  10204.809381730998\n",
      "RMSE_test:  10165.266834146189\n",
      "R2_score_train:  -0.0051190536368614925\n",
      "R2_score_test:  -0.022006553643148186\n",
      "\n",
      "SVR(): \n",
      "MSE_train:  113581670.72567587\n",
      "MSE_test:  111856007.79262672\n",
      "RMSE_train:  10657.470184132624\n",
      "RMSE_test:  10576.200063946726\n",
      "R2_score_train:  -0.0962660500811896\n",
      "R2_score_test:  -0.10630641176137323\n",
      "\n",
      "SVR(kernel='sigmoid'): \n",
      "MSE_train:  113011405.25248732\n",
      "MSE_test:  111373932.69841486\n",
      "RMSE_train:  10630.682257150165\n",
      "RMSE_test:  10553.384892934346\n",
      "R2_score_train:  -0.09076196941574488\n",
      "R2_score_test:  -0.10153847145846351\n",
      "\n",
      "SVR(kernel='poly'): \n",
      "MSE_train:  113362141.98948538\n",
      "MSE_test:  111651275.07016557\n",
      "RMSE_train:  10647.165913494791\n",
      "RMSE_test:  10566.51669521066\n",
      "R2_score_train:  -0.09414720556195277\n",
      "R2_score_test:  -0.1042815127145913\n",
      "\n",
      "KNeighborsRegressor(): \n",
      "MSE_train:  22013873.661160495\n",
      "MSE_test:  30275948.61568964\n",
      "RMSE_train:  4691.894463983658\n",
      "RMSE_test:  5502.358459396265\n",
      "R2_score_train:  0.787526788685885\n",
      "R2_score_test:  0.7005572008452889\n",
      "\n"
     ]
    }
   ],
   "source": [
    "for i in range(13):\n",
    "    models[i].fit(X_train_scaled,y_train['charges'])\n",
    "    \n",
    "    print(f'{models[i]}: ')\n",
    "    y_pred_train=models[i].predict(X_train_scaled)\n",
    "    y_pred_test=models[i].predict(X_test_scaled)\n",
    "    \n",
    "    print('MSE_train: ',mean_squared_error(y_train['charges'],y_pred_train))\n",
    "    print('MSE_test: ',mean_squared_error(y_test['charges'],y_pred_test))\n",
    "    \n",
    "    print('RMSE_train: ',np.sqrt(mean_squared_error(y_train['charges'],y_pred_train)))\n",
    "    print('RMSE_test: ',np.sqrt(mean_squared_error(y_test['charges'],y_pred_test)))\n",
    "    \n",
    "    print('R2_score_train: ',r2_score(y_train['charges'],y_pred_train))\n",
    "    print('R2_score_test: ',r2_score(y_test['charges'],y_pred_test))\n",
    "    \n",
    "    print()"
   ]
  },
  {
   "cell_type": "markdown",
   "id": "bd4b6e0d",
   "metadata": {},
   "source": [
    "### Model Building with log_charges as target column"
   ]
  },
  {
   "cell_type": "code",
   "execution_count": 62,
   "id": "b753c6ed",
   "metadata": {},
   "outputs": [],
   "source": [
    "models=[LinearRegression(),SGDRegressor(),DecisionTreeRegressor(),RandomForestRegressor(),\n",
    "         RandomForestRegressor(n_estimators=100,min_samples_split=20,max_depth=8),\n",
    "        XGBRegressor(),GradientBoostingRegressor(),AdaBoostRegressor(),\n",
    "        SVR(kernel='linear'),SVR(kernel='rbf'),SVR(kernel='sigmoid'),SVR(kernel='poly'),\n",
    "       KNeighborsRegressor()]"
   ]
  },
  {
   "cell_type": "code",
   "execution_count": 63,
   "id": "21693318",
   "metadata": {},
   "outputs": [
    {
     "name": "stdout",
     "output_type": "stream",
     "text": [
      "LinearRegression(): \n",
      "MSE_train:  53915693.40031586\n",
      "MSE_test:  52045703.52762925\n",
      "RMSE_train:  7342.730650127094\n",
      "RMSE_test:  7214.270824388925\n",
      "R2_score_train:  0.4796172316913151\n",
      "R2_score_test:  0.4852444973363049\n",
      "\n",
      "SGDRegressor(): \n",
      "MSE_train:  53517384.94388777\n",
      "MSE_test:  51581595.41835677\n",
      "RMSE_train:  7315.5577329338175\n",
      "RMSE_test:  7182.032819359486\n",
      "R2_score_train:  0.48346161992273107\n",
      "R2_score_test:  0.4898347360474029\n",
      "\n",
      "DecisionTreeRegressor(): \n",
      "MSE_train:  1124495.3059333335\n",
      "MSE_test:  44029609.418821774\n",
      "RMSE_train:  1060.4222300260087\n",
      "RMSE_test:  6635.481099273946\n",
      "R2_score_train:  0.9891466112490305\n",
      "R2_score_test:  0.5645272867444286\n",
      "\n",
      "RandomForestRegressor(): \n",
      "MSE_train:  6966013.8835023735\n",
      "MSE_test:  25762715.04142885\n",
      "RMSE_train:  2639.320723879986\n",
      "RMSE_test:  5075.698478182963\n",
      "R2_score_train:  0.9327655203864547\n",
      "R2_score_test:  0.7451951182849862\n",
      "\n",
      "RandomForestRegressor(max_depth=8, min_samples_split=20): \n",
      "MSE_train:  21027179.833385706\n",
      "MSE_test:  22095855.463665932\n",
      "RMSE_train:  4585.54029895995\n",
      "RMSE_test:  4700.622880392122\n",
      "R2_score_train:  0.7970501469733912\n",
      "R2_score_test:  0.7814620148242271\n",
      "\n",
      "XGBRegressor(base_score=0.5, booster='gbtree', callbacks=None,\n",
      "             colsample_bylevel=1, colsample_bynode=1, colsample_bytree=1,\n",
      "             early_stopping_rounds=None, enable_categorical=False,\n",
      "             eval_metric=None, gamma=0, gpu_id=-1, grow_policy='depthwise',\n",
      "             importance_type=None, interaction_constraints='',\n",
      "             learning_rate=0.300000012, max_bin=256, max_cat_to_onehot=4,\n",
      "             max_delta_step=0, max_depth=6, max_leaves=0, min_child_weight=1,\n",
      "             missing=nan, monotone_constraints='()', n_estimators=100, n_jobs=0,\n",
      "             num_parallel_tree=1, predictor='auto', random_state=0, reg_alpha=0,\n",
      "             reg_lambda=1, ...): \n",
      "MSE_train:  5874382.448632658\n",
      "MSE_test:  47675270.94402476\n",
      "RMSE_train:  2423.7125342401187\n",
      "RMSE_test:  6904.728158589935\n",
      "R2_score_train:  0.9433017140663259\n",
      "R2_score_test:  0.5284700485143543\n",
      "\n",
      "GradientBoostingRegressor(): \n",
      "MSE_train:  22203489.4172301\n",
      "MSE_test:  24706324.571065865\n",
      "RMSE_train:  4712.057874987328\n",
      "RMSE_test:  4970.54570153679\n",
      "R2_score_train:  0.7856966578680207\n",
      "R2_score_test:  0.7556432969188318\n",
      "\n",
      "AdaBoostRegressor(): \n",
      "MSE_train:  23412588.508881886\n",
      "MSE_test:  21775754.654152624\n",
      "RMSE_train:  4838.655650992524\n",
      "RMSE_test:  4666.449898386633\n",
      "R2_score_train:  0.7740266914298335\n",
      "R2_score_test:  0.7846279563320906\n",
      "\n",
      "SVR(kernel='linear'): \n",
      "MSE_train:  58006281.8884697\n",
      "MSE_test:  55916810.62654592\n",
      "RMSE_train:  7616.1855208804955\n",
      "RMSE_test:  7477.7543839408045\n",
      "R2_score_train:  0.4401357444428423\n",
      "R2_score_test:  0.44695750061024453\n",
      "\n",
      "SVR(): \n",
      "MSE_train:  26278919.78314815\n",
      "MSE_test:  26644288.857405998\n",
      "RMSE_train:  5126.296887924865\n",
      "RMSE_test:  5161.810618126744\n",
      "R2_score_train:  0.7463614735809669\n",
      "R2_score_test:  0.7364759552797717\n",
      "\n",
      "SVR(kernel='sigmoid'): \n",
      "MSE_train:  2.028595396432177e+16\n",
      "MSE_test:  3424736126711132.0\n",
      "RMSE_train:  142428768.03624249\n",
      "RMSE_test:  58521245.08852432\n",
      "R2_score_train:  -195795698.09926188\n",
      "R2_score_test:  -33872185.307556435\n",
      "\n",
      "SVR(kernel='poly'): \n",
      "MSE_train:  27552386.182211276\n",
      "MSE_test:  26909048.042362392\n",
      "RMSE_train:  5249.036690880649\n",
      "RMSE_test:  5187.393183706282\n",
      "R2_score_train:  0.7340702476261751\n",
      "R2_score_test:  0.7338573674214155\n",
      "\n",
      "KNeighborsRegressor(): \n",
      "MSE_train:  23582901.254365474\n",
      "MSE_test:  28753235.710675996\n",
      "RMSE_train:  4856.2229411720255\n",
      "RMSE_test:  5362.204370468921\n",
      "R2_score_train:  0.7723828691513189\n",
      "R2_score_test:  0.7156175188678263\n",
      "\n"
     ]
    }
   ],
   "source": [
    " for i in range(13):\n",
    "    models[i].fit(X_train_scaled,y_train['log_charges'])\n",
    "    \n",
    "    print(f'{models[i]}: ')\n",
    "    y_pred_train=models[i].predict(X_train_scaled)\n",
    "    y_pred_exp_train=np.exp(y_pred_train)\n",
    "    y_pred_test=models[i].predict(X_test_scaled)\n",
    "    y_pred_exp_test=np.exp(y_pred_test)\n",
    "    \n",
    "    print('MSE_train: ',mean_squared_error(y_train['charges'],y_pred_exp_train))\n",
    "    print('MSE_test: ',mean_squared_error(y_test['charges'],y_pred_exp_test))\n",
    "    \n",
    "    print('RMSE_train: ',np.sqrt(mean_squared_error(y_train['charges'],y_pred_exp_train)))\n",
    "    print('RMSE_test: ',np.sqrt(mean_squared_error(y_test['charges'],y_pred_exp_test)))\n",
    "    \n",
    "    print('R2_score_train: ',r2_score(y_train['charges'],y_pred_exp_train))\n",
    "    print('R2_score_test: ',r2_score(y_test['charges'],y_pred_exp_test))\n",
    "    \n",
    "    print()"
   ]
  }
 ],
 "metadata": {
  "kernelspec": {
   "display_name": "Python 3 (ipykernel)",
   "language": "python",
   "name": "python3"
  },
  "language_info": {
   "codemirror_mode": {
    "name": "ipython",
    "version": 3
   },
   "file_extension": ".py",
   "mimetype": "text/x-python",
   "name": "python",
   "nbconvert_exporter": "python",
   "pygments_lexer": "ipython3",
   "version": "3.9.12"
  }
 },
 "nbformat": 4,
 "nbformat_minor": 5
}
