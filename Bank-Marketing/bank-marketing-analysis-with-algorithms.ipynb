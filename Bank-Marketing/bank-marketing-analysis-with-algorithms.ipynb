{
 "cells": [
  {
   "cell_type": "code",
   "execution_count": 1,
   "metadata": {
    "_cell_guid": "b1076dfc-b9ad-4769-8c92-a6c4dae69d19",
    "_uuid": "8f2839f25d086af736a60e9eeb907d3b93b6e0e5",
    "execution": {
     "iopub.execute_input": "2020-12-26T10:57:33.935765Z",
     "iopub.status.busy": "2020-12-26T10:57:33.934573Z",
     "iopub.status.idle": "2020-12-26T10:57:33.952482Z",
     "shell.execute_reply": "2020-12-26T10:57:33.951709Z"
    },
    "papermill": {
     "duration": 0.080037,
     "end_time": "2020-12-26T10:57:33.952630",
     "exception": false,
     "start_time": "2020-12-26T10:57:33.872593",
     "status": "completed"
    },
    "tags": []
   },
   "outputs": [],
   "source": [
    "#importing the libery\n",
    "import numpy as np \n",
    "import pandas as pd "
   ]
  },
  {
   "cell_type": "markdown",
   "metadata": {
    "papermill": {
     "duration": 0.057632,
     "end_time": "2020-12-26T10:57:34.066450",
     "exception": false,
     "start_time": "2020-12-26T10:57:34.008818",
     "status": "completed"
    },
    "tags": []
   },
   "source": [
    "\n",
    "# Data Collection"
   ]
  },
  {
   "cell_type": "code",
   "execution_count": 2,
   "metadata": {
    "execution": {
     "iopub.execute_input": "2020-12-26T10:57:34.188994Z",
     "iopub.status.busy": "2020-12-26T10:57:34.188325Z",
     "iopub.status.idle": "2020-12-26T10:57:34.245378Z",
     "shell.execute_reply": "2020-12-26T10:57:34.244060Z"
    },
    "papermill": {
     "duration": 0.121143,
     "end_time": "2020-12-26T10:57:34.245530",
     "exception": false,
     "start_time": "2020-12-26T10:57:34.124387",
     "status": "completed"
    },
    "tags": []
   },
   "outputs": [],
   "source": [
    "#data loading in panda \n",
    "data=pd.read_csv('bank.csv')"
   ]
  },
  {
   "cell_type": "code",
   "execution_count": 3,
   "metadata": {},
   "outputs": [
    {
     "data": {
      "text/html": [
       "<div>\n",
       "<style scoped>\n",
       "    .dataframe tbody tr th:only-of-type {\n",
       "        vertical-align: middle;\n",
       "    }\n",
       "\n",
       "    .dataframe tbody tr th {\n",
       "        vertical-align: top;\n",
       "    }\n",
       "\n",
       "    .dataframe thead th {\n",
       "        text-align: right;\n",
       "    }\n",
       "</style>\n",
       "<table border=\"1\" class=\"dataframe\">\n",
       "  <thead>\n",
       "    <tr style=\"text-align: right;\">\n",
       "      <th></th>\n",
       "      <th>age</th>\n",
       "      <th>job</th>\n",
       "      <th>marital</th>\n",
       "      <th>education</th>\n",
       "      <th>default</th>\n",
       "      <th>balance</th>\n",
       "      <th>housing</th>\n",
       "      <th>loan</th>\n",
       "      <th>contact</th>\n",
       "      <th>day</th>\n",
       "      <th>month</th>\n",
       "      <th>duration</th>\n",
       "      <th>campaign</th>\n",
       "      <th>pdays</th>\n",
       "      <th>previous</th>\n",
       "      <th>poutcome</th>\n",
       "      <th>deposit</th>\n",
       "    </tr>\n",
       "  </thead>\n",
       "  <tbody>\n",
       "    <tr>\n",
       "      <th>0</th>\n",
       "      <td>59</td>\n",
       "      <td>admin.</td>\n",
       "      <td>married</td>\n",
       "      <td>secondary</td>\n",
       "      <td>no</td>\n",
       "      <td>2343</td>\n",
       "      <td>yes</td>\n",
       "      <td>no</td>\n",
       "      <td>unknown</td>\n",
       "      <td>5</td>\n",
       "      <td>may</td>\n",
       "      <td>1042</td>\n",
       "      <td>1</td>\n",
       "      <td>-1</td>\n",
       "      <td>0</td>\n",
       "      <td>unknown</td>\n",
       "      <td>yes</td>\n",
       "    </tr>\n",
       "    <tr>\n",
       "      <th>1</th>\n",
       "      <td>56</td>\n",
       "      <td>admin.</td>\n",
       "      <td>married</td>\n",
       "      <td>secondary</td>\n",
       "      <td>no</td>\n",
       "      <td>45</td>\n",
       "      <td>no</td>\n",
       "      <td>no</td>\n",
       "      <td>unknown</td>\n",
       "      <td>5</td>\n",
       "      <td>may</td>\n",
       "      <td>1467</td>\n",
       "      <td>1</td>\n",
       "      <td>-1</td>\n",
       "      <td>0</td>\n",
       "      <td>unknown</td>\n",
       "      <td>yes</td>\n",
       "    </tr>\n",
       "    <tr>\n",
       "      <th>2</th>\n",
       "      <td>41</td>\n",
       "      <td>technician</td>\n",
       "      <td>married</td>\n",
       "      <td>secondary</td>\n",
       "      <td>no</td>\n",
       "      <td>1270</td>\n",
       "      <td>yes</td>\n",
       "      <td>no</td>\n",
       "      <td>unknown</td>\n",
       "      <td>5</td>\n",
       "      <td>may</td>\n",
       "      <td>1389</td>\n",
       "      <td>1</td>\n",
       "      <td>-1</td>\n",
       "      <td>0</td>\n",
       "      <td>unknown</td>\n",
       "      <td>yes</td>\n",
       "    </tr>\n",
       "    <tr>\n",
       "      <th>3</th>\n",
       "      <td>55</td>\n",
       "      <td>services</td>\n",
       "      <td>married</td>\n",
       "      <td>secondary</td>\n",
       "      <td>no</td>\n",
       "      <td>2476</td>\n",
       "      <td>yes</td>\n",
       "      <td>no</td>\n",
       "      <td>unknown</td>\n",
       "      <td>5</td>\n",
       "      <td>may</td>\n",
       "      <td>579</td>\n",
       "      <td>1</td>\n",
       "      <td>-1</td>\n",
       "      <td>0</td>\n",
       "      <td>unknown</td>\n",
       "      <td>yes</td>\n",
       "    </tr>\n",
       "    <tr>\n",
       "      <th>4</th>\n",
       "      <td>54</td>\n",
       "      <td>admin.</td>\n",
       "      <td>married</td>\n",
       "      <td>tertiary</td>\n",
       "      <td>no</td>\n",
       "      <td>184</td>\n",
       "      <td>no</td>\n",
       "      <td>no</td>\n",
       "      <td>unknown</td>\n",
       "      <td>5</td>\n",
       "      <td>may</td>\n",
       "      <td>673</td>\n",
       "      <td>2</td>\n",
       "      <td>-1</td>\n",
       "      <td>0</td>\n",
       "      <td>unknown</td>\n",
       "      <td>yes</td>\n",
       "    </tr>\n",
       "  </tbody>\n",
       "</table>\n",
       "</div>"
      ],
      "text/plain": [
       "   age         job  marital  education default  balance housing loan  contact  \\\n",
       "0   59      admin.  married  secondary      no     2343     yes   no  unknown   \n",
       "1   56      admin.  married  secondary      no       45      no   no  unknown   \n",
       "2   41  technician  married  secondary      no     1270     yes   no  unknown   \n",
       "3   55    services  married  secondary      no     2476     yes   no  unknown   \n",
       "4   54      admin.  married   tertiary      no      184      no   no  unknown   \n",
       "\n",
       "   day month  duration  campaign  pdays  previous poutcome deposit  \n",
       "0    5   may      1042         1     -1         0  unknown     yes  \n",
       "1    5   may      1467         1     -1         0  unknown     yes  \n",
       "2    5   may      1389         1     -1         0  unknown     yes  \n",
       "3    5   may       579         1     -1         0  unknown     yes  \n",
       "4    5   may       673         2     -1         0  unknown     yes  "
      ]
     },
     "execution_count": 3,
     "metadata": {},
     "output_type": "execute_result"
    }
   ],
   "source": [
    "#check first five rows of the dataset\n",
    "data.head()"
   ]
  },
  {
   "cell_type": "code",
   "execution_count": 4,
   "metadata": {},
   "outputs": [
    {
     "data": {
      "text/html": [
       "<div>\n",
       "<style scoped>\n",
       "    .dataframe tbody tr th:only-of-type {\n",
       "        vertical-align: middle;\n",
       "    }\n",
       "\n",
       "    .dataframe tbody tr th {\n",
       "        vertical-align: top;\n",
       "    }\n",
       "\n",
       "    .dataframe thead th {\n",
       "        text-align: right;\n",
       "    }\n",
       "</style>\n",
       "<table border=\"1\" class=\"dataframe\">\n",
       "  <thead>\n",
       "    <tr style=\"text-align: right;\">\n",
       "      <th></th>\n",
       "      <th>age</th>\n",
       "      <th>job</th>\n",
       "      <th>marital</th>\n",
       "      <th>education</th>\n",
       "      <th>default</th>\n",
       "      <th>balance</th>\n",
       "      <th>housing</th>\n",
       "      <th>loan</th>\n",
       "      <th>contact</th>\n",
       "      <th>day</th>\n",
       "      <th>month</th>\n",
       "      <th>duration</th>\n",
       "      <th>campaign</th>\n",
       "      <th>pdays</th>\n",
       "      <th>previous</th>\n",
       "      <th>poutcome</th>\n",
       "      <th>deposit</th>\n",
       "    </tr>\n",
       "  </thead>\n",
       "  <tbody>\n",
       "    <tr>\n",
       "      <th>11157</th>\n",
       "      <td>33</td>\n",
       "      <td>blue-collar</td>\n",
       "      <td>single</td>\n",
       "      <td>primary</td>\n",
       "      <td>no</td>\n",
       "      <td>1</td>\n",
       "      <td>yes</td>\n",
       "      <td>no</td>\n",
       "      <td>cellular</td>\n",
       "      <td>20</td>\n",
       "      <td>apr</td>\n",
       "      <td>257</td>\n",
       "      <td>1</td>\n",
       "      <td>-1</td>\n",
       "      <td>0</td>\n",
       "      <td>unknown</td>\n",
       "      <td>no</td>\n",
       "    </tr>\n",
       "    <tr>\n",
       "      <th>11158</th>\n",
       "      <td>39</td>\n",
       "      <td>services</td>\n",
       "      <td>married</td>\n",
       "      <td>secondary</td>\n",
       "      <td>no</td>\n",
       "      <td>733</td>\n",
       "      <td>no</td>\n",
       "      <td>no</td>\n",
       "      <td>unknown</td>\n",
       "      <td>16</td>\n",
       "      <td>jun</td>\n",
       "      <td>83</td>\n",
       "      <td>4</td>\n",
       "      <td>-1</td>\n",
       "      <td>0</td>\n",
       "      <td>unknown</td>\n",
       "      <td>no</td>\n",
       "    </tr>\n",
       "    <tr>\n",
       "      <th>11159</th>\n",
       "      <td>32</td>\n",
       "      <td>technician</td>\n",
       "      <td>single</td>\n",
       "      <td>secondary</td>\n",
       "      <td>no</td>\n",
       "      <td>29</td>\n",
       "      <td>no</td>\n",
       "      <td>no</td>\n",
       "      <td>cellular</td>\n",
       "      <td>19</td>\n",
       "      <td>aug</td>\n",
       "      <td>156</td>\n",
       "      <td>2</td>\n",
       "      <td>-1</td>\n",
       "      <td>0</td>\n",
       "      <td>unknown</td>\n",
       "      <td>no</td>\n",
       "    </tr>\n",
       "    <tr>\n",
       "      <th>11160</th>\n",
       "      <td>43</td>\n",
       "      <td>technician</td>\n",
       "      <td>married</td>\n",
       "      <td>secondary</td>\n",
       "      <td>no</td>\n",
       "      <td>0</td>\n",
       "      <td>no</td>\n",
       "      <td>yes</td>\n",
       "      <td>cellular</td>\n",
       "      <td>8</td>\n",
       "      <td>may</td>\n",
       "      <td>9</td>\n",
       "      <td>2</td>\n",
       "      <td>172</td>\n",
       "      <td>5</td>\n",
       "      <td>failure</td>\n",
       "      <td>no</td>\n",
       "    </tr>\n",
       "    <tr>\n",
       "      <th>11161</th>\n",
       "      <td>34</td>\n",
       "      <td>technician</td>\n",
       "      <td>married</td>\n",
       "      <td>secondary</td>\n",
       "      <td>no</td>\n",
       "      <td>0</td>\n",
       "      <td>no</td>\n",
       "      <td>no</td>\n",
       "      <td>cellular</td>\n",
       "      <td>9</td>\n",
       "      <td>jul</td>\n",
       "      <td>628</td>\n",
       "      <td>1</td>\n",
       "      <td>-1</td>\n",
       "      <td>0</td>\n",
       "      <td>unknown</td>\n",
       "      <td>no</td>\n",
       "    </tr>\n",
       "  </tbody>\n",
       "</table>\n",
       "</div>"
      ],
      "text/plain": [
       "       age          job  marital  education default  balance housing loan  \\\n",
       "11157   33  blue-collar   single    primary      no        1     yes   no   \n",
       "11158   39     services  married  secondary      no      733      no   no   \n",
       "11159   32   technician   single  secondary      no       29      no   no   \n",
       "11160   43   technician  married  secondary      no        0      no  yes   \n",
       "11161   34   technician  married  secondary      no        0      no   no   \n",
       "\n",
       "        contact  day month  duration  campaign  pdays  previous poutcome  \\\n",
       "11157  cellular   20   apr       257         1     -1         0  unknown   \n",
       "11158   unknown   16   jun        83         4     -1         0  unknown   \n",
       "11159  cellular   19   aug       156         2     -1         0  unknown   \n",
       "11160  cellular    8   may         9         2    172         5  failure   \n",
       "11161  cellular    9   jul       628         1     -1         0  unknown   \n",
       "\n",
       "      deposit  \n",
       "11157      no  \n",
       "11158      no  \n",
       "11159      no  \n",
       "11160      no  \n",
       "11161      no  "
      ]
     },
     "execution_count": 4,
     "metadata": {},
     "output_type": "execute_result"
    }
   ],
   "source": [
    "#check last five rows pf the dataset\n",
    "data.tail()"
   ]
  },
  {
   "cell_type": "code",
   "execution_count": 3,
   "metadata": {
    "execution": {
     "iopub.execute_input": "2020-12-26T10:57:34.366011Z",
     "iopub.status.busy": "2020-12-26T10:57:34.365299Z",
     "iopub.status.idle": "2020-12-26T10:57:34.405710Z",
     "shell.execute_reply": "2020-12-26T10:57:34.406768Z"
    },
    "papermill": {
     "duration": 0.10205,
     "end_time": "2020-12-26T10:57:34.406997",
     "exception": false,
     "start_time": "2020-12-26T10:57:34.304947",
     "status": "completed"
    },
    "tags": []
   },
   "outputs": [
    {
     "name": "stdout",
     "output_type": "stream",
     "text": [
      "<class 'pandas.core.frame.DataFrame'>\n",
      "RangeIndex: 11162 entries, 0 to 11161\n",
      "Data columns (total 17 columns):\n",
      " #   Column     Non-Null Count  Dtype \n",
      "---  ------     --------------  ----- \n",
      " 0   age        11162 non-null  int64 \n",
      " 1   job        11162 non-null  object\n",
      " 2   marital    11162 non-null  object\n",
      " 3   education  11162 non-null  object\n",
      " 4   default    11162 non-null  object\n",
      " 5   balance    11162 non-null  int64 \n",
      " 6   housing    11162 non-null  object\n",
      " 7   loan       11162 non-null  object\n",
      " 8   contact    11162 non-null  object\n",
      " 9   day        11162 non-null  int64 \n",
      " 10  month      11162 non-null  object\n",
      " 11  duration   11162 non-null  int64 \n",
      " 12  campaign   11162 non-null  int64 \n",
      " 13  pdays      11162 non-null  int64 \n",
      " 14  previous   11162 non-null  int64 \n",
      " 15  poutcome   11162 non-null  object\n",
      " 16  deposit    11162 non-null  object\n",
      "dtypes: int64(7), object(10)\n",
      "memory usage: 1.4+ MB\n"
     ]
    }
   ],
   "source": [
    "#check basic infomation of the dataset\n",
    "data.info()"
   ]
  },
  {
   "cell_type": "code",
   "execution_count": 4,
   "metadata": {
    "_cell_guid": "79c7e3d0-c299-4dcb-8224-4455121ee9b0",
    "_uuid": "d629ff2d2480ee46fbb7e2d37f6b5fab8052498a",
    "execution": {
     "iopub.execute_input": "2020-12-26T10:57:34.526448Z",
     "iopub.status.busy": "2020-12-26T10:57:34.525749Z",
     "iopub.status.idle": "2020-12-26T10:57:34.533480Z",
     "shell.execute_reply": "2020-12-26T10:57:34.532921Z"
    },
    "papermill": {
     "duration": 0.067419,
     "end_time": "2020-12-26T10:57:34.533595",
     "exception": false,
     "start_time": "2020-12-26T10:57:34.466176",
     "status": "completed"
    },
    "tags": []
   },
   "outputs": [
    {
     "data": {
      "text/plain": [
       "Index(['age', 'job', 'marital', 'education', 'default', 'balance', 'housing',\n",
       "       'loan', 'contact', 'day', 'month', 'duration', 'campaign', 'pdays',\n",
       "       'previous', 'poutcome', 'deposit'],\n",
       "      dtype='object')"
      ]
     },
     "execution_count": 4,
     "metadata": {},
     "output_type": "execute_result"
    }
   ],
   "source": [
    "#check columns name of the dataset\n",
    "data.columns"
   ]
  },
  {
   "cell_type": "code",
   "execution_count": 5,
   "metadata": {
    "execution": {
     "iopub.execute_input": "2020-12-26T10:57:34.661026Z",
     "iopub.status.busy": "2020-12-26T10:57:34.660338Z",
     "iopub.status.idle": "2020-12-26T10:57:34.676258Z",
     "shell.execute_reply": "2020-12-26T10:57:34.676785Z"
    },
    "papermill": {
     "duration": 0.085805,
     "end_time": "2020-12-26T10:57:34.676929",
     "exception": false,
     "start_time": "2020-12-26T10:57:34.591124",
     "status": "completed"
    },
    "tags": []
   },
   "outputs": [
    {
     "data": {
      "text/html": [
       "<div>\n",
       "<style scoped>\n",
       "    .dataframe tbody tr th:only-of-type {\n",
       "        vertical-align: middle;\n",
       "    }\n",
       "\n",
       "    .dataframe tbody tr th {\n",
       "        vertical-align: top;\n",
       "    }\n",
       "\n",
       "    .dataframe thead th {\n",
       "        text-align: right;\n",
       "    }\n",
       "</style>\n",
       "<table border=\"1\" class=\"dataframe\">\n",
       "  <thead>\n",
       "    <tr style=\"text-align: right;\">\n",
       "      <th></th>\n",
       "      <th>age</th>\n",
       "      <th>job</th>\n",
       "      <th>marital</th>\n",
       "      <th>education</th>\n",
       "      <th>default</th>\n",
       "      <th>balance</th>\n",
       "      <th>housing</th>\n",
       "      <th>loan</th>\n",
       "      <th>contact</th>\n",
       "      <th>day</th>\n",
       "      <th>month</th>\n",
       "      <th>duration</th>\n",
       "      <th>campaign</th>\n",
       "      <th>pdays</th>\n",
       "      <th>previous</th>\n",
       "      <th>poutcome</th>\n",
       "      <th>deposit</th>\n",
       "    </tr>\n",
       "  </thead>\n",
       "  <tbody>\n",
       "    <tr>\n",
       "      <th>0</th>\n",
       "      <td>59</td>\n",
       "      <td>admin.</td>\n",
       "      <td>married</td>\n",
       "      <td>secondary</td>\n",
       "      <td>no</td>\n",
       "      <td>2343</td>\n",
       "      <td>yes</td>\n",
       "      <td>no</td>\n",
       "      <td>unknown</td>\n",
       "      <td>5</td>\n",
       "      <td>may</td>\n",
       "      <td>1042</td>\n",
       "      <td>1</td>\n",
       "      <td>-1</td>\n",
       "      <td>0</td>\n",
       "      <td>unknown</td>\n",
       "      <td>yes</td>\n",
       "    </tr>\n",
       "    <tr>\n",
       "      <th>1</th>\n",
       "      <td>56</td>\n",
       "      <td>admin.</td>\n",
       "      <td>married</td>\n",
       "      <td>secondary</td>\n",
       "      <td>no</td>\n",
       "      <td>45</td>\n",
       "      <td>no</td>\n",
       "      <td>no</td>\n",
       "      <td>unknown</td>\n",
       "      <td>5</td>\n",
       "      <td>may</td>\n",
       "      <td>1467</td>\n",
       "      <td>1</td>\n",
       "      <td>-1</td>\n",
       "      <td>0</td>\n",
       "      <td>unknown</td>\n",
       "      <td>yes</td>\n",
       "    </tr>\n",
       "    <tr>\n",
       "      <th>2</th>\n",
       "      <td>41</td>\n",
       "      <td>technician</td>\n",
       "      <td>married</td>\n",
       "      <td>secondary</td>\n",
       "      <td>no</td>\n",
       "      <td>1270</td>\n",
       "      <td>yes</td>\n",
       "      <td>no</td>\n",
       "      <td>unknown</td>\n",
       "      <td>5</td>\n",
       "      <td>may</td>\n",
       "      <td>1389</td>\n",
       "      <td>1</td>\n",
       "      <td>-1</td>\n",
       "      <td>0</td>\n",
       "      <td>unknown</td>\n",
       "      <td>yes</td>\n",
       "    </tr>\n",
       "    <tr>\n",
       "      <th>3</th>\n",
       "      <td>55</td>\n",
       "      <td>services</td>\n",
       "      <td>married</td>\n",
       "      <td>secondary</td>\n",
       "      <td>no</td>\n",
       "      <td>2476</td>\n",
       "      <td>yes</td>\n",
       "      <td>no</td>\n",
       "      <td>unknown</td>\n",
       "      <td>5</td>\n",
       "      <td>may</td>\n",
       "      <td>579</td>\n",
       "      <td>1</td>\n",
       "      <td>-1</td>\n",
       "      <td>0</td>\n",
       "      <td>unknown</td>\n",
       "      <td>yes</td>\n",
       "    </tr>\n",
       "    <tr>\n",
       "      <th>4</th>\n",
       "      <td>54</td>\n",
       "      <td>admin.</td>\n",
       "      <td>married</td>\n",
       "      <td>tertiary</td>\n",
       "      <td>no</td>\n",
       "      <td>184</td>\n",
       "      <td>no</td>\n",
       "      <td>no</td>\n",
       "      <td>unknown</td>\n",
       "      <td>5</td>\n",
       "      <td>may</td>\n",
       "      <td>673</td>\n",
       "      <td>2</td>\n",
       "      <td>-1</td>\n",
       "      <td>0</td>\n",
       "      <td>unknown</td>\n",
       "      <td>yes</td>\n",
       "    </tr>\n",
       "    <tr>\n",
       "      <th>5</th>\n",
       "      <td>42</td>\n",
       "      <td>management</td>\n",
       "      <td>single</td>\n",
       "      <td>tertiary</td>\n",
       "      <td>no</td>\n",
       "      <td>0</td>\n",
       "      <td>yes</td>\n",
       "      <td>yes</td>\n",
       "      <td>unknown</td>\n",
       "      <td>5</td>\n",
       "      <td>may</td>\n",
       "      <td>562</td>\n",
       "      <td>2</td>\n",
       "      <td>-1</td>\n",
       "      <td>0</td>\n",
       "      <td>unknown</td>\n",
       "      <td>yes</td>\n",
       "    </tr>\n",
       "    <tr>\n",
       "      <th>6</th>\n",
       "      <td>56</td>\n",
       "      <td>management</td>\n",
       "      <td>married</td>\n",
       "      <td>tertiary</td>\n",
       "      <td>no</td>\n",
       "      <td>830</td>\n",
       "      <td>yes</td>\n",
       "      <td>yes</td>\n",
       "      <td>unknown</td>\n",
       "      <td>6</td>\n",
       "      <td>may</td>\n",
       "      <td>1201</td>\n",
       "      <td>1</td>\n",
       "      <td>-1</td>\n",
       "      <td>0</td>\n",
       "      <td>unknown</td>\n",
       "      <td>yes</td>\n",
       "    </tr>\n",
       "    <tr>\n",
       "      <th>7</th>\n",
       "      <td>60</td>\n",
       "      <td>retired</td>\n",
       "      <td>divorced</td>\n",
       "      <td>secondary</td>\n",
       "      <td>no</td>\n",
       "      <td>545</td>\n",
       "      <td>yes</td>\n",
       "      <td>no</td>\n",
       "      <td>unknown</td>\n",
       "      <td>6</td>\n",
       "      <td>may</td>\n",
       "      <td>1030</td>\n",
       "      <td>1</td>\n",
       "      <td>-1</td>\n",
       "      <td>0</td>\n",
       "      <td>unknown</td>\n",
       "      <td>yes</td>\n",
       "    </tr>\n",
       "    <tr>\n",
       "      <th>8</th>\n",
       "      <td>37</td>\n",
       "      <td>technician</td>\n",
       "      <td>married</td>\n",
       "      <td>secondary</td>\n",
       "      <td>no</td>\n",
       "      <td>1</td>\n",
       "      <td>yes</td>\n",
       "      <td>no</td>\n",
       "      <td>unknown</td>\n",
       "      <td>6</td>\n",
       "      <td>may</td>\n",
       "      <td>608</td>\n",
       "      <td>1</td>\n",
       "      <td>-1</td>\n",
       "      <td>0</td>\n",
       "      <td>unknown</td>\n",
       "      <td>yes</td>\n",
       "    </tr>\n",
       "    <tr>\n",
       "      <th>9</th>\n",
       "      <td>28</td>\n",
       "      <td>services</td>\n",
       "      <td>single</td>\n",
       "      <td>secondary</td>\n",
       "      <td>no</td>\n",
       "      <td>5090</td>\n",
       "      <td>yes</td>\n",
       "      <td>no</td>\n",
       "      <td>unknown</td>\n",
       "      <td>6</td>\n",
       "      <td>may</td>\n",
       "      <td>1297</td>\n",
       "      <td>3</td>\n",
       "      <td>-1</td>\n",
       "      <td>0</td>\n",
       "      <td>unknown</td>\n",
       "      <td>yes</td>\n",
       "    </tr>\n",
       "  </tbody>\n",
       "</table>\n",
       "</div>"
      ],
      "text/plain": [
       "   age         job   marital  education default  balance housing loan  \\\n",
       "0   59      admin.   married  secondary      no     2343     yes   no   \n",
       "1   56      admin.   married  secondary      no       45      no   no   \n",
       "2   41  technician   married  secondary      no     1270     yes   no   \n",
       "3   55    services   married  secondary      no     2476     yes   no   \n",
       "4   54      admin.   married   tertiary      no      184      no   no   \n",
       "5   42  management    single   tertiary      no        0     yes  yes   \n",
       "6   56  management   married   tertiary      no      830     yes  yes   \n",
       "7   60     retired  divorced  secondary      no      545     yes   no   \n",
       "8   37  technician   married  secondary      no        1     yes   no   \n",
       "9   28    services    single  secondary      no     5090     yes   no   \n",
       "\n",
       "   contact  day month  duration  campaign  pdays  previous poutcome deposit  \n",
       "0  unknown    5   may      1042         1     -1         0  unknown     yes  \n",
       "1  unknown    5   may      1467         1     -1         0  unknown     yes  \n",
       "2  unknown    5   may      1389         1     -1         0  unknown     yes  \n",
       "3  unknown    5   may       579         1     -1         0  unknown     yes  \n",
       "4  unknown    5   may       673         2     -1         0  unknown     yes  \n",
       "5  unknown    5   may       562         2     -1         0  unknown     yes  \n",
       "6  unknown    6   may      1201         1     -1         0  unknown     yes  \n",
       "7  unknown    6   may      1030         1     -1         0  unknown     yes  \n",
       "8  unknown    6   may       608         1     -1         0  unknown     yes  \n",
       "9  unknown    6   may      1297         3     -1         0  unknown     yes  "
      ]
     },
     "execution_count": 5,
     "metadata": {},
     "output_type": "execute_result"
    }
   ],
   "source": [
    "data.head(10)"
   ]
  },
  {
   "cell_type": "code",
   "execution_count": 6,
   "metadata": {
    "execution": {
     "iopub.execute_input": "2020-12-26T10:57:34.795407Z",
     "iopub.status.busy": "2020-12-26T10:57:34.794707Z",
     "iopub.status.idle": "2020-12-26T10:57:34.833532Z",
     "shell.execute_reply": "2020-12-26T10:57:34.832860Z"
    },
    "papermill": {
     "duration": 0.099004,
     "end_time": "2020-12-26T10:57:34.833646",
     "exception": false,
     "start_time": "2020-12-26T10:57:34.734642",
     "status": "completed"
    },
    "tags": []
   },
   "outputs": [
    {
     "data": {
      "text/html": [
       "<div>\n",
       "<style scoped>\n",
       "    .dataframe tbody tr th:only-of-type {\n",
       "        vertical-align: middle;\n",
       "    }\n",
       "\n",
       "    .dataframe tbody tr th {\n",
       "        vertical-align: top;\n",
       "    }\n",
       "\n",
       "    .dataframe thead th {\n",
       "        text-align: right;\n",
       "    }\n",
       "</style>\n",
       "<table border=\"1\" class=\"dataframe\">\n",
       "  <thead>\n",
       "    <tr style=\"text-align: right;\">\n",
       "      <th></th>\n",
       "      <th>age</th>\n",
       "      <th>balance</th>\n",
       "      <th>day</th>\n",
       "      <th>duration</th>\n",
       "      <th>campaign</th>\n",
       "      <th>pdays</th>\n",
       "      <th>previous</th>\n",
       "    </tr>\n",
       "  </thead>\n",
       "  <tbody>\n",
       "    <tr>\n",
       "      <th>count</th>\n",
       "      <td>11162.000000</td>\n",
       "      <td>11162.000000</td>\n",
       "      <td>11162.000000</td>\n",
       "      <td>11162.000000</td>\n",
       "      <td>11162.000000</td>\n",
       "      <td>11162.000000</td>\n",
       "      <td>11162.000000</td>\n",
       "    </tr>\n",
       "    <tr>\n",
       "      <th>mean</th>\n",
       "      <td>41.231948</td>\n",
       "      <td>1528.538524</td>\n",
       "      <td>15.658036</td>\n",
       "      <td>371.993818</td>\n",
       "      <td>2.508421</td>\n",
       "      <td>51.330407</td>\n",
       "      <td>0.832557</td>\n",
       "    </tr>\n",
       "    <tr>\n",
       "      <th>std</th>\n",
       "      <td>11.913369</td>\n",
       "      <td>3225.413326</td>\n",
       "      <td>8.420740</td>\n",
       "      <td>347.128386</td>\n",
       "      <td>2.722077</td>\n",
       "      <td>108.758282</td>\n",
       "      <td>2.292007</td>\n",
       "    </tr>\n",
       "    <tr>\n",
       "      <th>min</th>\n",
       "      <td>18.000000</td>\n",
       "      <td>-6847.000000</td>\n",
       "      <td>1.000000</td>\n",
       "      <td>2.000000</td>\n",
       "      <td>1.000000</td>\n",
       "      <td>-1.000000</td>\n",
       "      <td>0.000000</td>\n",
       "    </tr>\n",
       "    <tr>\n",
       "      <th>25%</th>\n",
       "      <td>32.000000</td>\n",
       "      <td>122.000000</td>\n",
       "      <td>8.000000</td>\n",
       "      <td>138.000000</td>\n",
       "      <td>1.000000</td>\n",
       "      <td>-1.000000</td>\n",
       "      <td>0.000000</td>\n",
       "    </tr>\n",
       "    <tr>\n",
       "      <th>50%</th>\n",
       "      <td>39.000000</td>\n",
       "      <td>550.000000</td>\n",
       "      <td>15.000000</td>\n",
       "      <td>255.000000</td>\n",
       "      <td>2.000000</td>\n",
       "      <td>-1.000000</td>\n",
       "      <td>0.000000</td>\n",
       "    </tr>\n",
       "    <tr>\n",
       "      <th>75%</th>\n",
       "      <td>49.000000</td>\n",
       "      <td>1708.000000</td>\n",
       "      <td>22.000000</td>\n",
       "      <td>496.000000</td>\n",
       "      <td>3.000000</td>\n",
       "      <td>20.750000</td>\n",
       "      <td>1.000000</td>\n",
       "    </tr>\n",
       "    <tr>\n",
       "      <th>max</th>\n",
       "      <td>95.000000</td>\n",
       "      <td>81204.000000</td>\n",
       "      <td>31.000000</td>\n",
       "      <td>3881.000000</td>\n",
       "      <td>63.000000</td>\n",
       "      <td>854.000000</td>\n",
       "      <td>58.000000</td>\n",
       "    </tr>\n",
       "  </tbody>\n",
       "</table>\n",
       "</div>"
      ],
      "text/plain": [
       "                age       balance           day      duration      campaign  \\\n",
       "count  11162.000000  11162.000000  11162.000000  11162.000000  11162.000000   \n",
       "mean      41.231948   1528.538524     15.658036    371.993818      2.508421   \n",
       "std       11.913369   3225.413326      8.420740    347.128386      2.722077   \n",
       "min       18.000000  -6847.000000      1.000000      2.000000      1.000000   \n",
       "25%       32.000000    122.000000      8.000000    138.000000      1.000000   \n",
       "50%       39.000000    550.000000     15.000000    255.000000      2.000000   \n",
       "75%       49.000000   1708.000000     22.000000    496.000000      3.000000   \n",
       "max       95.000000  81204.000000     31.000000   3881.000000     63.000000   \n",
       "\n",
       "              pdays      previous  \n",
       "count  11162.000000  11162.000000  \n",
       "mean      51.330407      0.832557  \n",
       "std      108.758282      2.292007  \n",
       "min       -1.000000      0.000000  \n",
       "25%       -1.000000      0.000000  \n",
       "50%       -1.000000      0.000000  \n",
       "75%       20.750000      1.000000  \n",
       "max      854.000000     58.000000  "
      ]
     },
     "execution_count": 6,
     "metadata": {},
     "output_type": "execute_result"
    }
   ],
   "source": [
    "#check mathamatic \n",
    "data.describe()"
   ]
  },
  {
   "cell_type": "markdown",
   "metadata": {
    "papermill": {
     "duration": 0.059292,
     "end_time": "2020-12-26T10:57:34.950977",
     "exception": false,
     "start_time": "2020-12-26T10:57:34.891685",
     "status": "completed"
    },
    "tags": []
   },
   "source": [
    "\n",
    "1. Age / Age\n",
    "2. Job / Job\n",
    "3. Marital Status / Marital Status\n",
    "4. Education / Education Level\n",
    "5. Default / Having a previously broken credit\n",
    "6. Housing / home loan?\n",
    "7. Loan / Personal Loan?\n",
    "8. Contact / Was the customer contacted on his home or mobile phone?\n",
    "9. Month: Last month of contact\n",
    "10. Day: The day of the contacted.\n",
    "11. Duration: Talk time on last call\n",
    "12. Campaign: The number of contacts reaching the customer during the current campaign (including the last contact)\n",
    "13. Pdays: The number of days since the previous campaign, if reached (-1 if it was never reached before)\n",
    "14. Previous: The number of contacts that reached the customer before this campaign\n",
    "15. Poutcome: Previous campaign success, failure or failure"
   ]
  },
  {
   "cell_type": "markdown",
   "metadata": {
    "papermill": {
     "duration": 0.057522,
     "end_time": "2020-12-26T10:57:35.065664",
     "exception": false,
     "start_time": "2020-12-26T10:57:35.008142",
     "status": "completed"
    },
    "tags": []
   },
   "source": [
    "<a id = \"3\"></a><br>\n",
    "# Univariate Variable Analysis\n",
    "* Categorical Variables:job,marital, default, education,housing,loan,contact,poutcome,mounth,deposit,day\n",
    "* Numerical Variables: age, campaign,duration, pdays,balance,previous"
   ]
  },
  {
   "cell_type": "markdown",
   "metadata": {
    "papermill": {
     "duration": 0.056846,
     "end_time": "2020-12-26T10:57:35.182915",
     "exception": false,
     "start_time": "2020-12-26T10:57:35.126069",
     "status": "completed"
    },
    "tags": []
   },
   "source": [
    "<a id = \"4\"></a><br>\n",
    "## Categorical Variable "
   ]
  },
  {
   "cell_type": "code",
   "execution_count": 7,
   "metadata": {
    "execution": {
     "iopub.execute_input": "2020-12-26T10:57:35.311058Z",
     "iopub.status.busy": "2020-12-26T10:57:35.310274Z",
     "iopub.status.idle": "2020-12-26T10:57:35.314364Z",
     "shell.execute_reply": "2020-12-26T10:57:35.313657Z"
    },
    "papermill": {
     "duration": 0.072042,
     "end_time": "2020-12-26T10:57:35.314492",
     "exception": false,
     "start_time": "2020-12-26T10:57:35.242450",
     "status": "completed"
    },
    "tags": []
   },
   "outputs": [],
   "source": [
    "import matplotlib.pyplot as plt"
   ]
  },
  {
   "cell_type": "code",
   "execution_count": 8,
   "metadata": {
    "execution": {
     "iopub.execute_input": "2020-12-26T10:57:35.439285Z",
     "iopub.status.busy": "2020-12-26T10:57:35.438539Z",
     "iopub.status.idle": "2020-12-26T10:57:35.441824Z",
     "shell.execute_reply": "2020-12-26T10:57:35.441317Z"
    },
    "papermill": {
     "duration": 0.069575,
     "end_time": "2020-12-26T10:57:35.441943",
     "exception": false,
     "start_time": "2020-12-26T10:57:35.372368",
     "status": "completed"
    },
    "tags": []
   },
   "outputs": [],
   "source": [
    "def bar_plot(variable):\n",
    "    var =data[variable]\n",
    "    varValue = var.value_counts()\n",
    "    plt.figure(figsize=(15,3))\n",
    "    plt.bar(varValue.index, varValue,color=['#00008b','#00e5ee','#cd1076', '#008080','#cd5555','red','blue',])\n",
    "    plt.xticks(varValue.index, varValue.index.values)\n",
    "    plt.ylabel(\"Frequency\")\n",
    "    plt.title(variable)\n",
    "    \n",
    "    plt.show()\n",
    "    print(\"{}: \\n {}\".format(variable,varValue))"
   ]
  },
  {
   "cell_type": "code",
   "execution_count": 9,
   "metadata": {
    "execution": {
     "iopub.execute_input": "2020-12-26T10:57:35.566012Z",
     "iopub.status.busy": "2020-12-26T10:57:35.565321Z",
     "iopub.status.idle": "2020-12-26T10:57:36.919669Z",
     "shell.execute_reply": "2020-12-26T10:57:36.920608Z"
    },
    "papermill": {
     "duration": 1.421783,
     "end_time": "2020-12-26T10:57:36.920821",
     "exception": false,
     "start_time": "2020-12-26T10:57:35.499038",
     "status": "completed"
    },
    "tags": []
   },
   "outputs": [
    {
     "data": {
      "image/png": "[encoded data removed]",
      "text/plain": [
       "<Figure size 1080x216 with 1 Axes>"
      ]
     },
     "metadata": {
      "needs_background": "light"
     },
     "output_type": "display_data"
    },
    {
     "name": "stdout",
     "output_type": "stream",
     "text": [
      "job: \n",
      " management       2566\n",
      "blue-collar      1944\n",
      "technician       1823\n",
      "admin.           1334\n",
      "services          923\n",
      "retired           778\n",
      "self-employed     405\n",
      "student           360\n",
      "unemployed        357\n",
      "entrepreneur      328\n",
      "housemaid         274\n",
      "unknown            70\n",
      "Name: job, dtype: int64\n"
     ]
    },
    {
     "data": {
      "image/png": "[encoded data removed]",
      "text/plain": [
       "<Figure size 1080x216 with 1 Axes>"
      ]
     },
     "metadata": {
      "needs_background": "light"
     },
     "output_type": "display_data"
    },
    {
     "name": "stdout",
     "output_type": "stream",
     "text": [
      "marital: \n",
      " married     6351\n",
      "single      3518\n",
      "divorced    1293\n",
      "Name: marital, dtype: int64\n"
     ]
    },
    {
     "data": {
      "image/png": "[encoded data removed]",
      "text/plain": [
       "<Figure size 1080x216 with 1 Axes>"
      ]
     },
     "metadata": {
      "needs_background": "light"
     },
     "output_type": "display_data"
    },
    {
     "name": "stdout",
     "output_type": "stream",
     "text": [
      "education: \n",
      " secondary    5476\n",
      "tertiary     3689\n",
      "primary      1500\n",
      "unknown       497\n",
      "Name: education, dtype: int64\n"
     ]
    },
    {
     "data": {
      "image/png": "[encoded data removed]",
      "text/plain": [
       "<Figure size 1080x216 with 1 Axes>"
      ]
     },
     "metadata": {
      "needs_background": "light"
     },
     "output_type": "display_data"
    },
    {
     "name": "stdout",
     "output_type": "stream",
     "text": [
      "housing: \n",
      " no     5881\n",
      "yes    5281\n",
      "Name: housing, dtype: int64\n"
     ]
    },
    {
     "data": {
      "image/png": "[encoded data removed]",
      "text/plain": [
       "<Figure size 1080x216 with 1 Axes>"
      ]
     },
     "metadata": {
      "needs_background": "light"
     },
     "output_type": "display_data"
    },
    {
     "name": "stdout",
     "output_type": "stream",
     "text": [
      "loan: \n",
      " no     9702\n",
      "yes    1460\n",
      "Name: loan, dtype: int64\n"
     ]
    },
    {
     "data": {
      "image/png": "[encoded data removed]",
      "text/plain": [
       "<Figure size 1080x216 with 1 Axes>"
      ]
     },
     "metadata": {
      "needs_background": "light"
     },
     "output_type": "display_data"
    },
    {
     "name": "stdout",
     "output_type": "stream",
     "text": [
      "contact: \n",
      " cellular     8042\n",
      "unknown      2346\n",
      "telephone     774\n",
      "Name: contact, dtype: int64\n"
     ]
    },
    {
     "data": {
      "image/png": "[encoded data removed]",
      "text/plain": [
       "<Figure size 1080x216 with 1 Axes>"
      ]
     },
     "metadata": {
      "needs_background": "light"
     },
     "output_type": "display_data"
    },
    {
     "name": "stdout",
     "output_type": "stream",
     "text": [
      "poutcome: \n",
      " unknown    8326\n",
      "failure    1228\n",
      "success    1071\n",
      "other       537\n",
      "Name: poutcome, dtype: int64\n"
     ]
    },
    {
     "data": {
      "image/png": "[encoded data removed]",
      "text/plain": [
       "<Figure size 1080x216 with 1 Axes>"
      ]
     },
     "metadata": {
      "needs_background": "light"
     },
     "output_type": "display_data"
    },
    {
     "name": "stdout",
     "output_type": "stream",
     "text": [
      "month: \n",
      " may    2824\n",
      "aug    1519\n",
      "jul    1514\n",
      "jun    1222\n",
      "nov     943\n",
      "apr     923\n",
      "feb     776\n",
      "oct     392\n",
      "jan     344\n",
      "sep     319\n",
      "mar     276\n",
      "dec     110\n",
      "Name: month, dtype: int64\n"
     ]
    },
    {
     "data": {
      "image/png": "[encoded data removed]",
      "text/plain": [
       "<Figure size 1080x216 with 1 Axes>"
      ]
     },
     "metadata": {
      "needs_background": "light"
     },
     "output_type": "display_data"
    },
    {
     "name": "stdout",
     "output_type": "stream",
     "text": [
      "deposit: \n",
      " no     5873\n",
      "yes    5289\n",
      "Name: deposit, dtype: int64\n"
     ]
    }
   ],
   "source": [
    "categoryc = [\"job\",\"marital\",\"education\", \"housing\", \"loan\",\"contact\",\"poutcome\",\"month\",\"deposit\"]\n",
    "for c in categoryc:\n",
    "    bar_plot(c)\n",
    "    "
   ]
  },
  {
   "cell_type": "markdown",
   "metadata": {
    "papermill": {
     "duration": 0.071232,
     "end_time": "2020-12-26T10:57:37.064403",
     "exception": false,
     "start_time": "2020-12-26T10:57:36.993171",
     "status": "completed"
    },
    "tags": []
   },
   "source": [
    "<a id = \"5\"></a><br>\n",
    "## Numerical Variable"
   ]
  },
  {
   "cell_type": "code",
   "execution_count": 10,
   "metadata": {
    "execution": {
     "iopub.execute_input": "2020-12-26T10:57:37.214330Z",
     "iopub.status.busy": "2020-12-26T10:57:37.213381Z",
     "iopub.status.idle": "2020-12-26T10:57:37.216318Z",
     "shell.execute_reply": "2020-12-26T10:57:37.215792Z"
    },
    "papermill": {
     "duration": 0.08188,
     "end_time": "2020-12-26T10:57:37.216435",
     "exception": false,
     "start_time": "2020-12-26T10:57:37.134555",
     "status": "completed"
    },
    "tags": []
   },
   "outputs": [],
   "source": [
    "def plot_hist(variable):\n",
    "    plt.figure(figsize=(9,6))\n",
    "    plt.hist(data[variable], bins=40,color='#cd1076')\n",
    "    plt.xlabel(variable)\n",
    "    plt.ylabel(\"frequency\")\n",
    "    plt.title(\"{} distrubition with hist\".format(variable))\n",
    "    plt.show()"
   ]
  },
  {
   "cell_type": "code",
   "execution_count": 11,
   "metadata": {
    "execution": {
     "iopub.execute_input": "2020-12-26T10:57:37.377779Z",
     "iopub.status.busy": "2020-12-26T10:57:37.373667Z",
     "iopub.status.idle": "2020-12-26T10:57:38.123031Z",
     "shell.execute_reply": "2020-12-26T10:57:38.122329Z"
    },
    "papermill": {
     "duration": 0.837859,
     "end_time": "2020-12-26T10:57:38.123162",
     "exception": false,
     "start_time": "2020-12-26T10:57:37.285303",
     "status": "completed"
    },
    "tags": []
   },
   "outputs": [
    {
     "data": {
      "image/png": "[encoded data removed]",
      "text/plain": [
       "<Figure size 648x432 with 1 Axes>"
      ]
     },
     "metadata": {
      "needs_background": "light"
     },
     "output_type": "display_data"
    },
    {
     "data": {
      "image/png": "[encoded data removed]",
      "text/plain": [
       "<Figure size 648x432 with 1 Axes>"
      ]
     },
     "metadata": {
      "needs_background": "light"
     },
     "output_type": "display_data"
    },
    {
     "data": {
      "image/png": "[encoded data removed]",
      "text/plain": [
       "<Figure size 648x432 with 1 Axes>"
      ]
     },
     "metadata": {
      "needs_background": "light"
     },
     "output_type": "display_data"
    }
   ],
   "source": [
    "numericVar = [\"age\",\"campaign\",\"duration\"]\n",
    "for n in numericVar:\n",
    "    plot_hist(n)"
   ]
  },
  {
   "cell_type": "code",
   "execution_count": 12,
   "metadata": {
    "execution": {
     "iopub.execute_input": "2020-12-26T10:57:38.276439Z",
     "iopub.status.busy": "2020-12-26T10:57:38.275669Z",
     "iopub.status.idle": "2020-12-26T10:57:38.565652Z",
     "shell.execute_reply": "2020-12-26T10:57:38.564547Z"
    },
    "papermill": {
     "duration": 0.369155,
     "end_time": "2020-12-26T10:57:38.565840",
     "exception": false,
     "start_time": "2020-12-26T10:57:38.196685",
     "status": "completed"
    },
    "tags": []
   },
   "outputs": [
    {
     "data": {
      "image/png": "[encoded data removed]",
      "text/plain": [
       "<Figure size 1080x504 with 1 Axes>"
      ]
     },
     "metadata": {
      "needs_background": "light"
     },
     "output_type": "display_data"
    }
   ],
   "source": [
    "pd.crosstab(data.age,data.deposit).plot(kind=\"area\",figsize=(15,7),color=['#0000ff','#000000' ])\n",
    "plt.title('Age Distribution')\n",
    "plt.xlabel('Age')\n",
    "plt.ylabel('Frequency')\n",
    "plt.show()"
   ]
  },
  {
   "cell_type": "markdown",
   "metadata": {
    "papermill": {
     "duration": 0.070605,
     "end_time": "2020-12-26T10:57:38.714267",
     "exception": false,
     "start_time": "2020-12-26T10:57:38.643662",
     "status": "completed"
    },
    "tags": []
   },
   "source": [
    "\n",
    "### The number of people who are 25 to 40 years old with a time deposit account is high."
   ]
  },
  {
   "cell_type": "code",
   "execution_count": 13,
   "metadata": {
    "execution": {
     "iopub.execute_input": "2020-12-26T10:57:38.865916Z",
     "iopub.status.busy": "2020-12-26T10:57:38.865260Z",
     "iopub.status.idle": "2020-12-26T10:57:39.276123Z",
     "shell.execute_reply": "2020-12-26T10:57:39.275558Z"
    },
    "papermill": {
     "duration": 0.491285,
     "end_time": "2020-12-26T10:57:39.276264",
     "exception": false,
     "start_time": "2020-12-26T10:57:38.784979",
     "status": "completed"
    },
    "tags": []
   },
   "outputs": [
    {
     "data": {
      "image/png": "[encoded data removed]",
      "text/plain": [
       "<Figure size 1080x504 with 1 Axes>"
      ]
     },
     "metadata": {
      "needs_background": "light"
     },
     "output_type": "display_data"
    }
   ],
   "source": [
    "pd.crosstab(data.job,data.deposit).plot(kind=\"barh\",figsize=(15,7),color=['#0000ff','#000000'])\n",
    "plt.title('Deposit Age Distribution')\n",
    "plt.xlabel('Frequency')\n",
    "plt.ylabel('Job')\n",
    "plt.show()"
   ]
  },
  {
   "cell_type": "markdown",
   "metadata": {
    "papermill": {
     "duration": 0.075942,
     "end_time": "2020-12-26T10:57:39.432577",
     "exception": false,
     "start_time": "2020-12-26T10:57:39.356635",
     "status": "completed"
    },
    "tags": []
   },
   "source": [
    "### In people at the executive level  have more deposit accounts."
   ]
  },
  {
   "cell_type": "markdown",
   "metadata": {
    "papermill": {
     "duration": 0.083706,
     "end_time": "2020-12-26T10:57:39.591731",
     "exception": false,
     "start_time": "2020-12-26T10:57:39.508025",
     "status": "completed"
    },
    "tags": []
   },
   "source": [
    "<a id = \"20\"></a><br>\n",
    "# Outlier Detection"
   ]
  },
  {
   "cell_type": "code",
   "execution_count": 14,
   "metadata": {
    "execution": {
     "iopub.execute_input": "2020-12-26T10:57:39.752011Z",
     "iopub.status.busy": "2020-12-26T10:57:39.751134Z",
     "iopub.status.idle": "2020-12-26T10:57:39.753686Z",
     "shell.execute_reply": "2020-12-26T10:57:39.754266Z"
    },
    "papermill": {
     "duration": 0.088766,
     "end_time": "2020-12-26T10:57:39.754402",
     "exception": false,
     "start_time": "2020-12-26T10:57:39.665636",
     "status": "completed"
    },
    "tags": []
   },
   "outputs": [],
   "source": [
    "from collections import Counter\n",
    "def detect_outliers(data,features):\n",
    "    outlier_indices = []\n",
    "    for c in features:\n",
    "        # 1st quartile\n",
    "        Q1 = np.percentile(data[c],25)\n",
    "        # 3rd quartile\n",
    "        Q3 = np.percentile(data[c],75)\n",
    "        # IQR\n",
    "        IQR = Q3 - Q1\n",
    "        # Outlier step\n",
    "        outlier_step = IQR * 1.5\n",
    "        # detect outlier and their indeces\n",
    "        outlier_list_col = data[(data[c] < Q1 - outlier_step) | (data[c] > Q3 + outlier_step)].index\n",
    "        # store indeces\n",
    "        outlier_indices.extend(outlier_list_col)\n",
    "    \n",
    "    outlier_indices = Counter(outlier_indices)\n",
    "    multiple_outliers = list(i for i, v in outlier_indices.items() if v > 2)\n",
    "    \n",
    "    return multiple_outliers"
   ]
  },
  {
   "cell_type": "code",
   "execution_count": 15,
   "metadata": {
    "execution": {
     "iopub.execute_input": "2020-12-26T10:57:39.906713Z",
     "iopub.status.busy": "2020-12-26T10:57:39.905768Z",
     "iopub.status.idle": "2020-12-26T10:57:39.938949Z",
     "shell.execute_reply": "2020-12-26T10:57:39.938327Z"
    },
    "papermill": {
     "duration": 0.111399,
     "end_time": "2020-12-26T10:57:39.939065",
     "exception": false,
     "start_time": "2020-12-26T10:57:39.827666",
     "status": "completed"
    },
    "tags": []
   },
   "outputs": [
    {
     "data": {
      "text/html": [
       "<div>\n",
       "<style scoped>\n",
       "    .dataframe tbody tr th:only-of-type {\n",
       "        vertical-align: middle;\n",
       "    }\n",
       "\n",
       "    .dataframe tbody tr th {\n",
       "        vertical-align: top;\n",
       "    }\n",
       "\n",
       "    .dataframe thead th {\n",
       "        text-align: right;\n",
       "    }\n",
       "</style>\n",
       "<table border=\"1\" class=\"dataframe\">\n",
       "  <thead>\n",
       "    <tr style=\"text-align: right;\">\n",
       "      <th></th>\n",
       "      <th>age</th>\n",
       "      <th>job</th>\n",
       "      <th>marital</th>\n",
       "      <th>education</th>\n",
       "      <th>default</th>\n",
       "      <th>balance</th>\n",
       "      <th>housing</th>\n",
       "      <th>loan</th>\n",
       "      <th>contact</th>\n",
       "      <th>day</th>\n",
       "      <th>month</th>\n",
       "      <th>duration</th>\n",
       "      <th>campaign</th>\n",
       "      <th>pdays</th>\n",
       "      <th>previous</th>\n",
       "      <th>poutcome</th>\n",
       "      <th>deposit</th>\n",
       "    </tr>\n",
       "  </thead>\n",
       "  <tbody>\n",
       "    <tr>\n",
       "      <th>3945</th>\n",
       "      <td>84</td>\n",
       "      <td>retired</td>\n",
       "      <td>married</td>\n",
       "      <td>tertiary</td>\n",
       "      <td>no</td>\n",
       "      <td>4761</td>\n",
       "      <td>no</td>\n",
       "      <td>no</td>\n",
       "      <td>telephone</td>\n",
       "      <td>9</td>\n",
       "      <td>sep</td>\n",
       "      <td>1405</td>\n",
       "      <td>1</td>\n",
       "      <td>92</td>\n",
       "      <td>3</td>\n",
       "      <td>failure</td>\n",
       "      <td>yes</td>\n",
       "    </tr>\n",
       "  </tbody>\n",
       "</table>\n",
       "</div>"
      ],
      "text/plain": [
       "      age      job  marital education default  balance housing loan  \\\n",
       "3945   84  retired  married  tertiary      no     4761      no   no   \n",
       "\n",
       "        contact  day month  duration  campaign  pdays  previous poutcome  \\\n",
       "3945  telephone    9   sep      1405         1     92         3  failure   \n",
       "\n",
       "     deposit  \n",
       "3945     yes  "
      ]
     },
     "execution_count": 15,
     "metadata": {},
     "output_type": "execute_result"
    }
   ],
   "source": [
    "data.loc[detect_outliers(data,['age',\n",
    "                               'day','duration','campaign','previous'])]\n"
   ]
  },
  {
   "cell_type": "markdown",
   "metadata": {
    "papermill": {
     "duration": 0.07315,
     "end_time": "2020-12-26T10:57:40.088126",
     "exception": false,
     "start_time": "2020-12-26T10:57:40.014976",
     "status": "completed"
    },
    "tags": []
   },
   "source": [
    "### I do not include this row"
   ]
  },
  {
   "cell_type": "code",
   "execution_count": 16,
   "metadata": {
    "execution": {
     "iopub.execute_input": "2020-12-26T10:57:40.242965Z",
     "iopub.status.busy": "2020-12-26T10:57:40.241939Z",
     "iopub.status.idle": "2020-12-26T10:57:40.245246Z",
     "shell.execute_reply": "2020-12-26T10:57:40.244606Z"
    },
    "papermill": {
     "duration": 0.083022,
     "end_time": "2020-12-26T10:57:40.245357",
     "exception": false,
     "start_time": "2020-12-26T10:57:40.162335",
     "status": "completed"
    },
    "tags": []
   },
   "outputs": [],
   "source": [
    "data = data.drop([3945], axis=0)"
   ]
  },
  {
   "cell_type": "markdown",
   "metadata": {
    "papermill": {
     "duration": 0.074623,
     "end_time": "2020-12-26T10:57:40.395402",
     "exception": false,
     "start_time": "2020-12-26T10:57:40.320779",
     "status": "completed"
    },
    "tags": []
   },
   "source": [
    "<a id = \"21\"></a><br>\n",
    "# Missing Value"
   ]
  },
  {
   "cell_type": "code",
   "execution_count": 17,
   "metadata": {
    "execution": {
     "iopub.execute_input": "2020-12-26T10:57:40.549691Z",
     "iopub.status.busy": "2020-12-26T10:57:40.548700Z",
     "iopub.status.idle": "2020-12-26T10:57:40.571433Z",
     "shell.execute_reply": "2020-12-26T10:57:40.572269Z"
    },
    "papermill": {
     "duration": 0.102163,
     "end_time": "2020-12-26T10:57:40.572431",
     "exception": false,
     "start_time": "2020-12-26T10:57:40.470268",
     "status": "completed"
    },
    "tags": []
   },
   "outputs": [
    {
     "data": {
      "text/plain": [
       "age          0\n",
       "job          0\n",
       "marital      0\n",
       "education    0\n",
       "default      0\n",
       "balance      0\n",
       "housing      0\n",
       "loan         0\n",
       "contact      0\n",
       "day          0\n",
       "month        0\n",
       "duration     0\n",
       "campaign     0\n",
       "pdays        0\n",
       "previous     0\n",
       "poutcome     0\n",
       "deposit      0\n",
       "dtype: int64"
      ]
     },
     "execution_count": 17,
     "metadata": {},
     "output_type": "execute_result"
    }
   ],
   "source": [
    "data.isnull().sum()"
   ]
  },
  {
   "cell_type": "markdown",
   "metadata": {
    "papermill": {
     "duration": 0.077091,
     "end_time": "2020-12-26T10:57:40.727267",
     "exception": false,
     "start_time": "2020-12-26T10:57:40.650176",
     "status": "completed"
    },
    "tags": []
   },
   "source": [
    "### No missing value.."
   ]
  },
  {
   "cell_type": "markdown",
   "metadata": {
    "papermill": {
     "duration": 0.075881,
     "end_time": "2020-12-26T10:57:40.877763",
     "exception": false,
     "start_time": "2020-12-26T10:57:40.801882",
     "status": "completed"
    },
    "tags": []
   },
   "source": [
    "<a id = \"6\"></a><br>\n",
    "# Correlation matrix"
   ]
  },
  {
   "cell_type": "code",
   "execution_count": 18,
   "metadata": {
    "execution": {
     "iopub.execute_input": "2020-12-26T10:57:41.036749Z",
     "iopub.status.busy": "2020-12-26T10:57:41.035722Z",
     "iopub.status.idle": "2020-12-26T10:57:42.507782Z",
     "shell.execute_reply": "2020-12-26T10:57:42.507170Z"
    },
    "papermill": {
     "duration": 1.552427,
     "end_time": "2020-12-26T10:57:42.507907",
     "exception": false,
     "start_time": "2020-12-26T10:57:40.955480",
     "status": "completed"
    },
    "tags": []
   },
   "outputs": [
    {
     "data": {
      "text/plain": [
       "<matplotlib.axes._subplots.AxesSubplot at 0x7f705038d390>"
      ]
     },
     "execution_count": 18,
     "metadata": {},
     "output_type": "execute_result"
    },
    {
     "data": {
      "image/png": "[encoded data removed]",
      "text/plain": [
       "<Figure size 936x936 with 2 Axes>"
      ]
     },
     "metadata": {
      "needs_background": "light"
     },
     "output_type": "display_data"
    }
   ],
   "source": [
    "import seaborn as sns\n",
    "fig, ax = plt.subplots(figsize=(13,13))         # Sample figsize in inches\n",
    "sns.heatmap(data.corr(), annot=True, linewidths=.5, ax=ax)"
   ]
  },
  {
   "cell_type": "markdown",
   "metadata": {
    "papermill": {
     "duration": 0.076878,
     "end_time": "2020-12-26T10:57:42.664864",
     "exception": false,
     "start_time": "2020-12-26T10:57:42.587986",
     "status": "completed"
    },
    "tags": []
   },
   "source": [
    "## * Calculated correlation between two variables (r) gets a value between -1 and 1.\n",
    "* No correlaiton r=0\n",
    "* Very weak correlation: r<20\n",
    "* Weak correlation: between 0.20-0.49\n",
    "* Moderate correlation: between 0.5-0.79\n",
    "* Strong correlation: between 0.8-0.99\n",
    "* Perfect correlation: r=1 \n",
    "\n",
    "### Looking at it, there is a moderate correlation between the *days* and the *previous* ones. (r=0.51)"
   ]
  },
  {
   "cell_type": "markdown",
   "metadata": {
    "papermill": {
     "duration": 0.079635,
     "end_time": "2020-12-26T10:57:42.821004",
     "exception": false,
     "start_time": "2020-12-26T10:57:42.741369",
     "status": "completed"
    },
    "tags": []
   },
   "source": [
    "<a id = \"7\"></a><br>\n",
    "# Data Manipulation"
   ]
  },
  {
   "cell_type": "markdown",
   "metadata": {
    "papermill": {
     "duration": 0.079357,
     "end_time": "2020-12-26T10:57:42.980356",
     "exception": false,
     "start_time": "2020-12-26T10:57:42.900999",
     "status": "completed"
    },
    "tags": []
   },
   "source": [
    "### I do not include the *Duration column* in the dataset, as it is unknown data at the time of the prediction.\n",
    "**duration: Talk Time on Last Call**"
   ]
  },
  {
   "cell_type": "code",
   "execution_count": 19,
   "metadata": {
    "execution": {
     "iopub.execute_input": "2020-12-26T10:57:43.149741Z",
     "iopub.status.busy": "2020-12-26T10:57:43.149073Z",
     "iopub.status.idle": "2020-12-26T10:57:43.152698Z",
     "shell.execute_reply": "2020-12-26T10:57:43.151963Z"
    },
    "papermill": {
     "duration": 0.092654,
     "end_time": "2020-12-26T10:57:43.152823",
     "exception": false,
     "start_time": "2020-12-26T10:57:43.060169",
     "status": "completed"
    },
    "tags": []
   },
   "outputs": [],
   "source": [
    "data=data.drop(['duration'],axis=1)"
   ]
  },
  {
   "cell_type": "code",
   "execution_count": 20,
   "metadata": {
    "execution": {
     "iopub.execute_input": "2020-12-26T10:57:43.330859Z",
     "iopub.status.busy": "2020-12-26T10:57:43.330178Z",
     "iopub.status.idle": "2020-12-26T10:57:43.334454Z",
     "shell.execute_reply": "2020-12-26T10:57:43.335287Z"
    },
    "papermill": {
     "duration": 0.100845,
     "end_time": "2020-12-26T10:57:43.335445",
     "exception": false,
     "start_time": "2020-12-26T10:57:43.234600",
     "status": "completed"
    },
    "tags": []
   },
   "outputs": [
    {
     "data": {
      "text/html": [
       "<div>\n",
       "<style scoped>\n",
       "    .dataframe tbody tr th:only-of-type {\n",
       "        vertical-align: middle;\n",
       "    }\n",
       "\n",
       "    .dataframe tbody tr th {\n",
       "        vertical-align: top;\n",
       "    }\n",
       "\n",
       "    .dataframe thead th {\n",
       "        text-align: right;\n",
       "    }\n",
       "</style>\n",
       "<table border=\"1\" class=\"dataframe\">\n",
       "  <thead>\n",
       "    <tr style=\"text-align: right;\">\n",
       "      <th></th>\n",
       "      <th>age</th>\n",
       "      <th>job</th>\n",
       "      <th>marital</th>\n",
       "      <th>education</th>\n",
       "      <th>default</th>\n",
       "      <th>balance</th>\n",
       "      <th>housing</th>\n",
       "      <th>loan</th>\n",
       "      <th>contact</th>\n",
       "      <th>day</th>\n",
       "      <th>month</th>\n",
       "      <th>campaign</th>\n",
       "      <th>pdays</th>\n",
       "      <th>previous</th>\n",
       "      <th>poutcome</th>\n",
       "      <th>deposit</th>\n",
       "    </tr>\n",
       "  </thead>\n",
       "  <tbody>\n",
       "    <tr>\n",
       "      <th>0</th>\n",
       "      <td>59</td>\n",
       "      <td>admin.</td>\n",
       "      <td>married</td>\n",
       "      <td>secondary</td>\n",
       "      <td>no</td>\n",
       "      <td>2343</td>\n",
       "      <td>yes</td>\n",
       "      <td>no</td>\n",
       "      <td>unknown</td>\n",
       "      <td>5</td>\n",
       "      <td>may</td>\n",
       "      <td>1</td>\n",
       "      <td>-1</td>\n",
       "      <td>0</td>\n",
       "      <td>unknown</td>\n",
       "      <td>yes</td>\n",
       "    </tr>\n",
       "    <tr>\n",
       "      <th>1</th>\n",
       "      <td>56</td>\n",
       "      <td>admin.</td>\n",
       "      <td>married</td>\n",
       "      <td>secondary</td>\n",
       "      <td>no</td>\n",
       "      <td>45</td>\n",
       "      <td>no</td>\n",
       "      <td>no</td>\n",
       "      <td>unknown</td>\n",
       "      <td>5</td>\n",
       "      <td>may</td>\n",
       "      <td>1</td>\n",
       "      <td>-1</td>\n",
       "      <td>0</td>\n",
       "      <td>unknown</td>\n",
       "      <td>yes</td>\n",
       "    </tr>\n",
       "    <tr>\n",
       "      <th>2</th>\n",
       "      <td>41</td>\n",
       "      <td>technician</td>\n",
       "      <td>married</td>\n",
       "      <td>secondary</td>\n",
       "      <td>no</td>\n",
       "      <td>1270</td>\n",
       "      <td>yes</td>\n",
       "      <td>no</td>\n",
       "      <td>unknown</td>\n",
       "      <td>5</td>\n",
       "      <td>may</td>\n",
       "      <td>1</td>\n",
       "      <td>-1</td>\n",
       "      <td>0</td>\n",
       "      <td>unknown</td>\n",
       "      <td>yes</td>\n",
       "    </tr>\n",
       "    <tr>\n",
       "      <th>3</th>\n",
       "      <td>55</td>\n",
       "      <td>services</td>\n",
       "      <td>married</td>\n",
       "      <td>secondary</td>\n",
       "      <td>no</td>\n",
       "      <td>2476</td>\n",
       "      <td>yes</td>\n",
       "      <td>no</td>\n",
       "      <td>unknown</td>\n",
       "      <td>5</td>\n",
       "      <td>may</td>\n",
       "      <td>1</td>\n",
       "      <td>-1</td>\n",
       "      <td>0</td>\n",
       "      <td>unknown</td>\n",
       "      <td>yes</td>\n",
       "    </tr>\n",
       "    <tr>\n",
       "      <th>4</th>\n",
       "      <td>54</td>\n",
       "      <td>admin.</td>\n",
       "      <td>married</td>\n",
       "      <td>tertiary</td>\n",
       "      <td>no</td>\n",
       "      <td>184</td>\n",
       "      <td>no</td>\n",
       "      <td>no</td>\n",
       "      <td>unknown</td>\n",
       "      <td>5</td>\n",
       "      <td>may</td>\n",
       "      <td>2</td>\n",
       "      <td>-1</td>\n",
       "      <td>0</td>\n",
       "      <td>unknown</td>\n",
       "      <td>yes</td>\n",
       "    </tr>\n",
       "  </tbody>\n",
       "</table>\n",
       "</div>"
      ],
      "text/plain": [
       "   age         job  marital  education default  balance housing loan  contact  \\\n",
       "0   59      admin.  married  secondary      no     2343     yes   no  unknown   \n",
       "1   56      admin.  married  secondary      no       45      no   no  unknown   \n",
       "2   41  technician  married  secondary      no     1270     yes   no  unknown   \n",
       "3   55    services  married  secondary      no     2476     yes   no  unknown   \n",
       "4   54      admin.  married   tertiary      no      184      no   no  unknown   \n",
       "\n",
       "   day month  campaign  pdays  previous poutcome deposit  \n",
       "0    5   may         1     -1         0  unknown     yes  \n",
       "1    5   may         1     -1         0  unknown     yes  \n",
       "2    5   may         1     -1         0  unknown     yes  \n",
       "3    5   may         1     -1         0  unknown     yes  \n",
       "4    5   may         2     -1         0  unknown     yes  "
      ]
     },
     "execution_count": 20,
     "metadata": {},
     "output_type": "execute_result"
    }
   ],
   "source": [
    "data.head()"
   ]
  },
  {
   "cell_type": "markdown",
   "metadata": {
    "papermill": {
     "duration": 0.077338,
     "end_time": "2020-12-26T10:57:43.488737",
     "exception": false,
     "start_time": "2020-12-26T10:57:43.411399",
     "status": "completed"
    },
    "tags": []
   },
   "source": [
    "<a id = \"8\"></a><br>\n",
    "# One-Hot Encoding "
   ]
  },
  {
   "cell_type": "markdown",
   "metadata": {
    "papermill": {
     "duration": 0.078558,
     "end_time": "2020-12-26T10:57:43.648517",
     "exception": false,
     "start_time": "2020-12-26T10:57:43.569959",
     "status": "completed"
    },
    "tags": []
   },
   "source": [
    "### **One Hot Encoding means that categorical variables are represented as binary.**"
   ]
  },
  {
   "cell_type": "code",
   "execution_count": 21,
   "metadata": {
    "execution": {
     "iopub.execute_input": "2020-12-26T10:57:43.816486Z",
     "iopub.status.busy": "2020-12-26T10:57:43.812342Z",
     "iopub.status.idle": "2020-12-26T10:57:43.890305Z",
     "shell.execute_reply": "2020-12-26T10:57:43.889760Z"
    },
    "papermill": {
     "duration": 0.16486,
     "end_time": "2020-12-26T10:57:43.890430",
     "exception": false,
     "start_time": "2020-12-26T10:57:43.725570",
     "status": "completed"
    },
    "tags": []
   },
   "outputs": [
    {
     "name": "stdout",
     "output_type": "stream",
     "text": [
      "<class 'pandas.core.frame.DataFrame'>\n",
      "Int64Index: 11161 entries, 0 to 11161\n",
      "Data columns (total 52 columns):\n",
      " #   Column               Non-Null Count  Dtype \n",
      "---  ------               --------------  ----- \n",
      " 0   age                  11161 non-null  int64 \n",
      " 1   balance              11161 non-null  int64 \n",
      " 2   campaign             11161 non-null  int64 \n",
      " 3   pdays                11161 non-null  int64 \n",
      " 4   previous             11161 non-null  int64 \n",
      " 5   deposit              11161 non-null  object\n",
      " 6   job_admin.           11161 non-null  uint8 \n",
      " 7   job_blue-collar      11161 non-null  uint8 \n",
      " 8   job_entrepreneur     11161 non-null  uint8 \n",
      " 9   job_housemaid        11161 non-null  uint8 \n",
      " 10  job_management       11161 non-null  uint8 \n",
      " 11  job_retired          11161 non-null  uint8 \n",
      " 12  job_self-employed    11161 non-null  uint8 \n",
      " 13  job_services         11161 non-null  uint8 \n",
      " 14  job_student          11161 non-null  uint8 \n",
      " 15  job_technician       11161 non-null  uint8 \n",
      " 16  job_unemployed       11161 non-null  uint8 \n",
      " 17  job_unknown          11161 non-null  uint8 \n",
      " 18  marital_divorced     11161 non-null  uint8 \n",
      " 19  marital_married      11161 non-null  uint8 \n",
      " 20  marital_single       11161 non-null  uint8 \n",
      " 21  education_primary    11161 non-null  uint8 \n",
      " 22  education_secondary  11161 non-null  uint8 \n",
      " 23  education_tertiary   11161 non-null  uint8 \n",
      " 24  education_unknown    11161 non-null  uint8 \n",
      " 25  default_no           11161 non-null  uint8 \n",
      " 26  default_yes          11161 non-null  uint8 \n",
      " 27  housing_no           11161 non-null  uint8 \n",
      " 28  housing_yes          11161 non-null  uint8 \n",
      " 29  loan_no              11161 non-null  uint8 \n",
      " 30  loan_yes             11161 non-null  uint8 \n",
      " 31  contact_cellular     11161 non-null  uint8 \n",
      " 32  contact_telephone    11161 non-null  uint8 \n",
      " 33  contact_unknown      11161 non-null  uint8 \n",
      " 34  month_apr            11161 non-null  uint8 \n",
      " 35  month_aug            11161 non-null  uint8 \n",
      " 36  month_dec            11161 non-null  uint8 \n",
      " 37  month_feb            11161 non-null  uint8 \n",
      " 38  month_jan            11161 non-null  uint8 \n",
      " 39  month_jul            11161 non-null  uint8 \n",
      " 40  month_jun            11161 non-null  uint8 \n",
      " 41  month_mar            11161 non-null  uint8 \n",
      " 42  month_may            11161 non-null  uint8 \n",
      " 43  month_nov            11161 non-null  uint8 \n",
      " 44  month_oct            11161 non-null  uint8 \n",
      " 45  month_sep            11161 non-null  uint8 \n",
      " 46  poutcome_failure     11161 non-null  uint8 \n",
      " 47  poutcome_other       11161 non-null  uint8 \n",
      " 48  poutcome_success     11161 non-null  uint8 \n",
      " 49  poutcome_unknown     11161 non-null  uint8 \n",
      " 50  deposit_no           11161 non-null  uint8 \n",
      " 51  deposit_yes          11161 non-null  uint8 \n",
      "dtypes: int64(5), object(1), uint8(46)\n",
      "memory usage: 1.1+ MB\n"
     ]
    },
    {
     "data": {
      "text/html": [
       "<div>\n",
       "<style scoped>\n",
       "    .dataframe tbody tr th:only-of-type {\n",
       "        vertical-align: middle;\n",
       "    }\n",
       "\n",
       "    .dataframe tbody tr th {\n",
       "        vertical-align: top;\n",
       "    }\n",
       "\n",
       "    .dataframe thead th {\n",
       "        text-align: right;\n",
       "    }\n",
       "</style>\n",
       "<table border=\"1\" class=\"dataframe\">\n",
       "  <thead>\n",
       "    <tr style=\"text-align: right;\">\n",
       "      <th></th>\n",
       "      <th>age</th>\n",
       "      <th>balance</th>\n",
       "      <th>campaign</th>\n",
       "      <th>pdays</th>\n",
       "      <th>previous</th>\n",
       "      <th>deposit</th>\n",
       "      <th>job_admin.</th>\n",
       "      <th>job_blue-collar</th>\n",
       "      <th>job_entrepreneur</th>\n",
       "      <th>job_housemaid</th>\n",
       "      <th>...</th>\n",
       "      <th>month_may</th>\n",
       "      <th>month_nov</th>\n",
       "      <th>month_oct</th>\n",
       "      <th>month_sep</th>\n",
       "      <th>poutcome_failure</th>\n",
       "      <th>poutcome_other</th>\n",
       "      <th>poutcome_success</th>\n",
       "      <th>poutcome_unknown</th>\n",
       "      <th>deposit_no</th>\n",
       "      <th>deposit_yes</th>\n",
       "    </tr>\n",
       "  </thead>\n",
       "  <tbody>\n",
       "    <tr>\n",
       "      <th>0</th>\n",
       "      <td>59</td>\n",
       "      <td>2343</td>\n",
       "      <td>1</td>\n",
       "      <td>-1</td>\n",
       "      <td>0</td>\n",
       "      <td>yes</td>\n",
       "      <td>1</td>\n",
       "      <td>0</td>\n",
       "      <td>0</td>\n",
       "      <td>0</td>\n",
       "      <td>...</td>\n",
       "      <td>1</td>\n",
       "      <td>0</td>\n",
       "      <td>0</td>\n",
       "      <td>0</td>\n",
       "      <td>0</td>\n",
       "      <td>0</td>\n",
       "      <td>0</td>\n",
       "      <td>1</td>\n",
       "      <td>0</td>\n",
       "      <td>1</td>\n",
       "    </tr>\n",
       "    <tr>\n",
       "      <th>1</th>\n",
       "      <td>56</td>\n",
       "      <td>45</td>\n",
       "      <td>1</td>\n",
       "      <td>-1</td>\n",
       "      <td>0</td>\n",
       "      <td>yes</td>\n",
       "      <td>1</td>\n",
       "      <td>0</td>\n",
       "      <td>0</td>\n",
       "      <td>0</td>\n",
       "      <td>...</td>\n",
       "      <td>1</td>\n",
       "      <td>0</td>\n",
       "      <td>0</td>\n",
       "      <td>0</td>\n",
       "      <td>0</td>\n",
       "      <td>0</td>\n",
       "      <td>0</td>\n",
       "      <td>1</td>\n",
       "      <td>0</td>\n",
       "      <td>1</td>\n",
       "    </tr>\n",
       "    <tr>\n",
       "      <th>2</th>\n",
       "      <td>41</td>\n",
       "      <td>1270</td>\n",
       "      <td>1</td>\n",
       "      <td>-1</td>\n",
       "      <td>0</td>\n",
       "      <td>yes</td>\n",
       "      <td>0</td>\n",
       "      <td>0</td>\n",
       "      <td>0</td>\n",
       "      <td>0</td>\n",
       "      <td>...</td>\n",
       "      <td>1</td>\n",
       "      <td>0</td>\n",
       "      <td>0</td>\n",
       "      <td>0</td>\n",
       "      <td>0</td>\n",
       "      <td>0</td>\n",
       "      <td>0</td>\n",
       "      <td>1</td>\n",
       "      <td>0</td>\n",
       "      <td>1</td>\n",
       "    </tr>\n",
       "    <tr>\n",
       "      <th>3</th>\n",
       "      <td>55</td>\n",
       "      <td>2476</td>\n",
       "      <td>1</td>\n",
       "      <td>-1</td>\n",
       "      <td>0</td>\n",
       "      <td>yes</td>\n",
       "      <td>0</td>\n",
       "      <td>0</td>\n",
       "      <td>0</td>\n",
       "      <td>0</td>\n",
       "      <td>...</td>\n",
       "      <td>1</td>\n",
       "      <td>0</td>\n",
       "      <td>0</td>\n",
       "      <td>0</td>\n",
       "      <td>0</td>\n",
       "      <td>0</td>\n",
       "      <td>0</td>\n",
       "      <td>1</td>\n",
       "      <td>0</td>\n",
       "      <td>1</td>\n",
       "    </tr>\n",
       "    <tr>\n",
       "      <th>4</th>\n",
       "      <td>54</td>\n",
       "      <td>184</td>\n",
       "      <td>2</td>\n",
       "      <td>-1</td>\n",
       "      <td>0</td>\n",
       "      <td>yes</td>\n",
       "      <td>1</td>\n",
       "      <td>0</td>\n",
       "      <td>0</td>\n",
       "      <td>0</td>\n",
       "      <td>...</td>\n",
       "      <td>1</td>\n",
       "      <td>0</td>\n",
       "      <td>0</td>\n",
       "      <td>0</td>\n",
       "      <td>0</td>\n",
       "      <td>0</td>\n",
       "      <td>0</td>\n",
       "      <td>1</td>\n",
       "      <td>0</td>\n",
       "      <td>1</td>\n",
       "    </tr>\n",
       "  </tbody>\n",
       "</table>\n",
       "<p>5 rows × 52 columns</p>\n",
       "</div>"
      ],
      "text/plain": [
       "   age  balance  campaign  pdays  previous deposit  job_admin.  \\\n",
       "0   59     2343         1     -1         0     yes           1   \n",
       "1   56       45         1     -1         0     yes           1   \n",
       "2   41     1270         1     -1         0     yes           0   \n",
       "3   55     2476         1     -1         0     yes           0   \n",
       "4   54      184         2     -1         0     yes           1   \n",
       "\n",
       "   job_blue-collar  job_entrepreneur  job_housemaid  ...  month_may  \\\n",
       "0                0                 0              0  ...          1   \n",
       "1                0                 0              0  ...          1   \n",
       "2                0                 0              0  ...          1   \n",
       "3                0                 0              0  ...          1   \n",
       "4                0                 0              0  ...          1   \n",
       "\n",
       "   month_nov  month_oct  month_sep  poutcome_failure  poutcome_other  \\\n",
       "0          0          0          0                 0               0   \n",
       "1          0          0          0                 0               0   \n",
       "2          0          0          0                 0               0   \n",
       "3          0          0          0                 0               0   \n",
       "4          0          0          0                 0               0   \n",
       "\n",
       "   poutcome_success  poutcome_unknown  deposit_no  deposit_yes  \n",
       "0                 0                 1           0            1  \n",
       "1                 0                 1           0            1  \n",
       "2                 0                 1           0            1  \n",
       "3                 0                 1           0            1  \n",
       "4                 0                 1           0            1  \n",
       "\n",
       "[5 rows x 52 columns]"
      ]
     },
     "execution_count": 21,
     "metadata": {},
     "output_type": "execute_result"
    }
   ],
   "source": [
    "columns=data.select_dtypes(include=[object]).columns\n",
    "data=pd.concat([data,pd.get_dummies(data[columns])],axis=1)\n",
    "data=data.drop(['job','marital','education','default','housing','loan','contact','month','day','poutcome'],axis=1)\n",
    "data.info()\n",
    "data.head()"
   ]
  },
  {
   "cell_type": "markdown",
   "metadata": {
    "papermill": {
     "duration": 0.080497,
     "end_time": "2020-12-26T10:57:44.049751",
     "exception": false,
     "start_time": "2020-12-26T10:57:43.969254",
     "status": "completed"
    },
    "tags": []
   },
   "source": [
    "<a id = \"9\"></a><br>\n",
    "# Others.."
   ]
  },
  {
   "cell_type": "markdown",
   "metadata": {
    "papermill": {
     "duration": 0.081259,
     "end_time": "2020-12-26T10:57:44.213336",
     "exception": false,
     "start_time": "2020-12-26T10:57:44.132077",
     "status": "completed"
    },
    "tags": []
   },
   "source": [
    "## 1. The ***pdays*** data indicates how many times the customer has been contacted before.\n",
    "\n",
    "### Updated as follows.\n",
    "\n",
    "if the **pdays = 0**, it indicates that it has not been contacted before\n",
    "\n",
    "if the **pdays = 1**, it indicates that it was contacted earlier"
   ]
  },
  {
   "cell_type": "code",
   "execution_count": 22,
   "metadata": {
    "execution": {
     "iopub.execute_input": "2020-12-26T10:57:44.390059Z",
     "iopub.status.busy": "2020-12-26T10:57:44.389339Z",
     "iopub.status.idle": "2020-12-26T10:57:44.393248Z",
     "shell.execute_reply": "2020-12-26T10:57:44.392511Z"
    },
    "papermill": {
     "duration": 0.098765,
     "end_time": "2020-12-26T10:57:44.393383",
     "exception": false,
     "start_time": "2020-12-26T10:57:44.294618",
     "status": "completed"
    },
    "tags": []
   },
   "outputs": [],
   "source": [
    "def pdayswork(pdays):\n",
    "    if(pdays == -1):\n",
    "        return(0)\n",
    "    elif(pdays >= 0):\n",
    "        return(1)\n",
    "data['pdays2'] = data['pdays'].apply(pdayswork)"
   ]
  },
  {
   "cell_type": "markdown",
   "metadata": {
    "papermill": {
     "duration": 0.084216,
     "end_time": "2020-12-26T10:57:44.561146",
     "exception": false,
     "start_time": "2020-12-26T10:57:44.476930",
     "status": "completed"
    },
    "tags": []
   },
   "source": [
    "### 2. For a single target column"
   ]
  },
  {
   "cell_type": "code",
   "execution_count": 23,
   "metadata": {
    "execution": {
     "iopub.execute_input": "2020-12-26T10:57:44.728941Z",
     "iopub.status.busy": "2020-12-26T10:57:44.728258Z",
     "iopub.status.idle": "2020-12-26T10:57:44.735356Z",
     "shell.execute_reply": "2020-12-26T10:57:44.735891Z"
    },
    "papermill": {
     "duration": 0.092854,
     "end_time": "2020-12-26T10:57:44.736055",
     "exception": false,
     "start_time": "2020-12-26T10:57:44.643201",
     "status": "completed"
    },
    "tags": []
   },
   "outputs": [],
   "source": [
    "data=data.drop(['deposit_no', 'deposit_yes'],axis=1)"
   ]
  },
  {
   "cell_type": "code",
   "execution_count": 24,
   "metadata": {
    "execution": {
     "iopub.execute_input": "2020-12-26T10:57:44.916260Z",
     "iopub.status.busy": "2020-12-26T10:57:44.915170Z",
     "iopub.status.idle": "2020-12-26T10:57:44.918586Z",
     "shell.execute_reply": "2020-12-26T10:57:44.917979Z"
    },
    "papermill": {
     "duration": 0.103631,
     "end_time": "2020-12-26T10:57:44.918702",
     "exception": false,
     "start_time": "2020-12-26T10:57:44.815071",
     "status": "completed"
    },
    "tags": []
   },
   "outputs": [],
   "source": [
    "def deposit1(deposit):\n",
    "    if(deposit=='yes'):\n",
    "        return(1)\n",
    "    elif(deposit=='no'):\n",
    "        return(0)\n",
    "data['depositNew'] = data['deposit'].apply(deposit1)"
   ]
  },
  {
   "cell_type": "code",
   "execution_count": 25,
   "metadata": {
    "execution": {
     "iopub.execute_input": "2020-12-26T10:57:45.081361Z",
     "iopub.status.busy": "2020-12-26T10:57:45.080708Z",
     "iopub.status.idle": "2020-12-26T10:57:45.087139Z",
     "shell.execute_reply": "2020-12-26T10:57:45.087651Z"
    },
    "papermill": {
     "duration": 0.087821,
     "end_time": "2020-12-26T10:57:45.087803",
     "exception": false,
     "start_time": "2020-12-26T10:57:44.999982",
     "status": "completed"
    },
    "tags": []
   },
   "outputs": [],
   "source": [
    "data=data.drop(['deposit'],axis=1)"
   ]
  },
  {
   "cell_type": "markdown",
   "metadata": {
    "papermill": {
     "duration": 0.082295,
     "end_time": "2020-12-26T10:57:45.253817",
     "exception": false,
     "start_time": "2020-12-26T10:57:45.171522",
     "status": "completed"
    },
    "tags": []
   },
   "source": [
    "### In this way, our target column, whose data type is object, turned into numerical values. And new target column name is *depositNew*. Also as this is a classification problem, the target column can remain as an object. But I chose to convert it to int data type."
   ]
  },
  {
   "cell_type": "markdown",
   "metadata": {
    "papermill": {
     "duration": 0.078278,
     "end_time": "2020-12-26T10:57:45.412676",
     "exception": false,
     "start_time": "2020-12-26T10:57:45.334398",
     "status": "completed"
    },
    "tags": []
   },
   "source": [
    "# the current state of our data set."
   ]
  },
  {
   "cell_type": "code",
   "execution_count": 26,
   "metadata": {
    "execution": {
     "iopub.execute_input": "2020-12-26T10:57:45.592879Z",
     "iopub.status.busy": "2020-12-26T10:57:45.586092Z",
     "iopub.status.idle": "2020-12-26T10:57:45.600663Z",
     "shell.execute_reply": "2020-12-26T10:57:45.600069Z"
    },
    "papermill": {
     "duration": 0.107371,
     "end_time": "2020-12-26T10:57:45.600875",
     "exception": false,
     "start_time": "2020-12-26T10:57:45.493504",
     "status": "completed"
    },
    "tags": []
   },
   "outputs": [
    {
     "data": {
      "text/html": [
       "<div>\n",
       "<style scoped>\n",
       "    .dataframe tbody tr th:only-of-type {\n",
       "        vertical-align: middle;\n",
       "    }\n",
       "\n",
       "    .dataframe tbody tr th {\n",
       "        vertical-align: top;\n",
       "    }\n",
       "\n",
       "    .dataframe thead th {\n",
       "        text-align: right;\n",
       "    }\n",
       "</style>\n",
       "<table border=\"1\" class=\"dataframe\">\n",
       "  <thead>\n",
       "    <tr style=\"text-align: right;\">\n",
       "      <th></th>\n",
       "      <th>age</th>\n",
       "      <th>balance</th>\n",
       "      <th>campaign</th>\n",
       "      <th>pdays</th>\n",
       "      <th>previous</th>\n",
       "      <th>job_admin.</th>\n",
       "      <th>job_blue-collar</th>\n",
       "      <th>job_entrepreneur</th>\n",
       "      <th>job_housemaid</th>\n",
       "      <th>job_management</th>\n",
       "      <th>...</th>\n",
       "      <th>month_may</th>\n",
       "      <th>month_nov</th>\n",
       "      <th>month_oct</th>\n",
       "      <th>month_sep</th>\n",
       "      <th>poutcome_failure</th>\n",
       "      <th>poutcome_other</th>\n",
       "      <th>poutcome_success</th>\n",
       "      <th>poutcome_unknown</th>\n",
       "      <th>pdays2</th>\n",
       "      <th>depositNew</th>\n",
       "    </tr>\n",
       "  </thead>\n",
       "  <tbody>\n",
       "    <tr>\n",
       "      <th>0</th>\n",
       "      <td>59</td>\n",
       "      <td>2343</td>\n",
       "      <td>1</td>\n",
       "      <td>-1</td>\n",
       "      <td>0</td>\n",
       "      <td>1</td>\n",
       "      <td>0</td>\n",
       "      <td>0</td>\n",
       "      <td>0</td>\n",
       "      <td>0</td>\n",
       "      <td>...</td>\n",
       "      <td>1</td>\n",
       "      <td>0</td>\n",
       "      <td>0</td>\n",
       "      <td>0</td>\n",
       "      <td>0</td>\n",
       "      <td>0</td>\n",
       "      <td>0</td>\n",
       "      <td>1</td>\n",
       "      <td>0</td>\n",
       "      <td>1</td>\n",
       "    </tr>\n",
       "    <tr>\n",
       "      <th>1</th>\n",
       "      <td>56</td>\n",
       "      <td>45</td>\n",
       "      <td>1</td>\n",
       "      <td>-1</td>\n",
       "      <td>0</td>\n",
       "      <td>1</td>\n",
       "      <td>0</td>\n",
       "      <td>0</td>\n",
       "      <td>0</td>\n",
       "      <td>0</td>\n",
       "      <td>...</td>\n",
       "      <td>1</td>\n",
       "      <td>0</td>\n",
       "      <td>0</td>\n",
       "      <td>0</td>\n",
       "      <td>0</td>\n",
       "      <td>0</td>\n",
       "      <td>0</td>\n",
       "      <td>1</td>\n",
       "      <td>0</td>\n",
       "      <td>1</td>\n",
       "    </tr>\n",
       "    <tr>\n",
       "      <th>2</th>\n",
       "      <td>41</td>\n",
       "      <td>1270</td>\n",
       "      <td>1</td>\n",
       "      <td>-1</td>\n",
       "      <td>0</td>\n",
       "      <td>0</td>\n",
       "      <td>0</td>\n",
       "      <td>0</td>\n",
       "      <td>0</td>\n",
       "      <td>0</td>\n",
       "      <td>...</td>\n",
       "      <td>1</td>\n",
       "      <td>0</td>\n",
       "      <td>0</td>\n",
       "      <td>0</td>\n",
       "      <td>0</td>\n",
       "      <td>0</td>\n",
       "      <td>0</td>\n",
       "      <td>1</td>\n",
       "      <td>0</td>\n",
       "      <td>1</td>\n",
       "    </tr>\n",
       "    <tr>\n",
       "      <th>3</th>\n",
       "      <td>55</td>\n",
       "      <td>2476</td>\n",
       "      <td>1</td>\n",
       "      <td>-1</td>\n",
       "      <td>0</td>\n",
       "      <td>0</td>\n",
       "      <td>0</td>\n",
       "      <td>0</td>\n",
       "      <td>0</td>\n",
       "      <td>0</td>\n",
       "      <td>...</td>\n",
       "      <td>1</td>\n",
       "      <td>0</td>\n",
       "      <td>0</td>\n",
       "      <td>0</td>\n",
       "      <td>0</td>\n",
       "      <td>0</td>\n",
       "      <td>0</td>\n",
       "      <td>1</td>\n",
       "      <td>0</td>\n",
       "      <td>1</td>\n",
       "    </tr>\n",
       "    <tr>\n",
       "      <th>4</th>\n",
       "      <td>54</td>\n",
       "      <td>184</td>\n",
       "      <td>2</td>\n",
       "      <td>-1</td>\n",
       "      <td>0</td>\n",
       "      <td>1</td>\n",
       "      <td>0</td>\n",
       "      <td>0</td>\n",
       "      <td>0</td>\n",
       "      <td>0</td>\n",
       "      <td>...</td>\n",
       "      <td>1</td>\n",
       "      <td>0</td>\n",
       "      <td>0</td>\n",
       "      <td>0</td>\n",
       "      <td>0</td>\n",
       "      <td>0</td>\n",
       "      <td>0</td>\n",
       "      <td>1</td>\n",
       "      <td>0</td>\n",
       "      <td>1</td>\n",
       "    </tr>\n",
       "  </tbody>\n",
       "</table>\n",
       "<p>5 rows × 51 columns</p>\n",
       "</div>"
      ],
      "text/plain": [
       "   age  balance  campaign  pdays  previous  job_admin.  job_blue-collar  \\\n",
       "0   59     2343         1     -1         0           1                0   \n",
       "1   56       45         1     -1         0           1                0   \n",
       "2   41     1270         1     -1         0           0                0   \n",
       "3   55     2476         1     -1         0           0                0   \n",
       "4   54      184         2     -1         0           1                0   \n",
       "\n",
       "   job_entrepreneur  job_housemaid  job_management  ...  month_may  month_nov  \\\n",
       "0                 0              0               0  ...          1          0   \n",
       "1                 0              0               0  ...          1          0   \n",
       "2                 0              0               0  ...          1          0   \n",
       "3                 0              0               0  ...          1          0   \n",
       "4                 0              0               0  ...          1          0   \n",
       "\n",
       "   month_oct  month_sep  poutcome_failure  poutcome_other  poutcome_success  \\\n",
       "0          0          0                 0               0                 0   \n",
       "1          0          0                 0               0                 0   \n",
       "2          0          0                 0               0                 0   \n",
       "3          0          0                 0               0                 0   \n",
       "4          0          0                 0               0                 0   \n",
       "\n",
       "   poutcome_unknown  pdays2  depositNew  \n",
       "0                 1       0           1  \n",
       "1                 1       0           1  \n",
       "2                 1       0           1  \n",
       "3                 1       0           1  \n",
       "4                 1       0           1  \n",
       "\n",
       "[5 rows x 51 columns]"
      ]
     },
     "execution_count": 26,
     "metadata": {},
     "output_type": "execute_result"
    }
   ],
   "source": [
    "data.head()"
   ]
  },
  {
   "cell_type": "code",
   "execution_count": 27,
   "metadata": {
    "execution": {
     "iopub.execute_input": "2020-12-26T10:57:45.777454Z",
     "iopub.status.busy": "2020-12-26T10:57:45.776710Z",
     "iopub.status.idle": "2020-12-26T10:57:45.791500Z",
     "shell.execute_reply": "2020-12-26T10:57:45.790698Z"
    },
    "papermill": {
     "duration": 0.104981,
     "end_time": "2020-12-26T10:57:45.791658",
     "exception": false,
     "start_time": "2020-12-26T10:57:45.686677",
     "status": "completed"
    },
    "tags": []
   },
   "outputs": [
    {
     "name": "stdout",
     "output_type": "stream",
     "text": [
      "<class 'pandas.core.frame.DataFrame'>\n",
      "Int64Index: 11161 entries, 0 to 11161\n",
      "Data columns (total 51 columns):\n",
      " #   Column               Non-Null Count  Dtype\n",
      "---  ------               --------------  -----\n",
      " 0   age                  11161 non-null  int64\n",
      " 1   balance              11161 non-null  int64\n",
      " 2   campaign             11161 non-null  int64\n",
      " 3   pdays                11161 non-null  int64\n",
      " 4   previous             11161 non-null  int64\n",
      " 5   job_admin.           11161 non-null  uint8\n",
      " 6   job_blue-collar      11161 non-null  uint8\n",
      " 7   job_entrepreneur     11161 non-null  uint8\n",
      " 8   job_housemaid        11161 non-null  uint8\n",
      " 9   job_management       11161 non-null  uint8\n",
      " 10  job_retired          11161 non-null  uint8\n",
      " 11  job_self-employed    11161 non-null  uint8\n",
      " 12  job_services         11161 non-null  uint8\n",
      " 13  job_student          11161 non-null  uint8\n",
      " 14  job_technician       11161 non-null  uint8\n",
      " 15  job_unemployed       11161 non-null  uint8\n",
      " 16  job_unknown          11161 non-null  uint8\n",
      " 17  marital_divorced     11161 non-null  uint8\n",
      " 18  marital_married      11161 non-null  uint8\n",
      " 19  marital_single       11161 non-null  uint8\n",
      " 20  education_primary    11161 non-null  uint8\n",
      " 21  education_secondary  11161 non-null  uint8\n",
      " 22  education_tertiary   11161 non-null  uint8\n",
      " 23  education_unknown    11161 non-null  uint8\n",
      " 24  default_no           11161 non-null  uint8\n",
      " 25  default_yes          11161 non-null  uint8\n",
      " 26  housing_no           11161 non-null  uint8\n",
      " 27  housing_yes          11161 non-null  uint8\n",
      " 28  loan_no              11161 non-null  uint8\n",
      " 29  loan_yes             11161 non-null  uint8\n",
      " 30  contact_cellular     11161 non-null  uint8\n",
      " 31  contact_telephone    11161 non-null  uint8\n",
      " 32  contact_unknown      11161 non-null  uint8\n",
      " 33  month_apr            11161 non-null  uint8\n",
      " 34  month_aug            11161 non-null  uint8\n",
      " 35  month_dec            11161 non-null  uint8\n",
      " 36  month_feb            11161 non-null  uint8\n",
      " 37  month_jan            11161 non-null  uint8\n",
      " 38  month_jul            11161 non-null  uint8\n",
      " 39  month_jun            11161 non-null  uint8\n",
      " 40  month_mar            11161 non-null  uint8\n",
      " 41  month_may            11161 non-null  uint8\n",
      " 42  month_nov            11161 non-null  uint8\n",
      " 43  month_oct            11161 non-null  uint8\n",
      " 44  month_sep            11161 non-null  uint8\n",
      " 45  poutcome_failure     11161 non-null  uint8\n",
      " 46  poutcome_other       11161 non-null  uint8\n",
      " 47  poutcome_success     11161 non-null  uint8\n",
      " 48  poutcome_unknown     11161 non-null  uint8\n",
      " 49  pdays2               11161 non-null  int64\n",
      " 50  depositNew           11161 non-null  int64\n",
      "dtypes: int64(7), uint8(44)\n",
      "memory usage: 1.1 MB\n"
     ]
    }
   ],
   "source": [
    "data.info()"
   ]
  },
  {
   "cell_type": "markdown",
   "metadata": {
    "papermill": {
     "duration": 0.083096,
     "end_time": "2020-12-26T10:57:45.958931",
     "exception": false,
     "start_time": "2020-12-26T10:57:45.875835",
     "status": "completed"
    },
    "tags": []
   },
   "source": [
    "<a id = \"10\"></a><br>\n",
    "# Data Normalization"
   ]
  },
  {
   "cell_type": "markdown",
   "metadata": {
    "papermill": {
     "duration": 0.081662,
     "end_time": "2020-12-26T10:57:46.123553",
     "exception": false,
     "start_time": "2020-12-26T10:57:46.041891",
     "status": "completed"
    },
    "tags": []
   },
   "source": [
    "### StandartScaler, normalizes the data with a standard deviation of 1 with an average of 0.\n",
    "\n",
    "**The target column is not normalized.**"
   ]
  },
  {
   "cell_type": "code",
   "execution_count": 28,
   "metadata": {
    "execution": {
     "iopub.execute_input": "2020-12-26T10:57:46.293246Z",
     "iopub.status.busy": "2020-12-26T10:57:46.292541Z",
     "iopub.status.idle": "2020-12-26T10:57:46.407813Z",
     "shell.execute_reply": "2020-12-26T10:57:46.406876Z"
    },
    "papermill": {
     "duration": 0.198883,
     "end_time": "2020-12-26T10:57:46.408007",
     "exception": false,
     "start_time": "2020-12-26T10:57:46.209124",
     "status": "completed"
    },
    "tags": []
   },
   "outputs": [
    {
     "name": "stdout",
     "output_type": "stream",
     "text": [
      "[[ 1.4926218   0.25261499 -0.55420079 ... -0.32579855  0.58352347\n",
      "  -0.58379938]\n",
      " [ 1.24065834 -0.4598839  -0.55420079 ... -0.32579855  0.58352347\n",
      "  -0.58379938]\n",
      " [-0.01915895 -0.08007052 -0.55420079 ... -0.32579855  0.58352347\n",
      "  -0.58379938]\n",
      " ...\n",
      " [-0.77504932 -0.46484473 -0.18682923 ... -0.32579855  0.58352347\n",
      "  -0.58379938]\n",
      " [ 0.14881669 -0.47383623 -0.18682923 ... -0.32579855 -1.71372713\n",
      "   1.71291719]\n",
      " [-0.60707368 -0.47383623 -0.55420079 ... -0.32579855  0.58352347\n",
      "  -0.58379938]]\n"
     ]
    }
   ],
   "source": [
    "from sklearn.preprocessing import StandardScaler\n",
    "X = data.iloc[:, 0:50]\n",
    "Y = data.iloc[:, 50]\n",
    "nd = StandardScaler()\n",
    "nd.fit(X)\n",
    "X =nd.transform(X)\n",
    "print(X)"
   ]
  },
  {
   "cell_type": "markdown",
   "metadata": {
    "papermill": {
     "duration": 0.085003,
     "end_time": "2020-12-26T10:57:46.574325",
     "exception": false,
     "start_time": "2020-12-26T10:57:46.489322",
     "status": "completed"
    },
    "tags": []
   },
   "source": [
    "<a id = \"222\"></a><br>\n",
    "# Algorithm Works"
   ]
  },
  {
   "cell_type": "code",
   "execution_count": 29,
   "metadata": {
    "execution": {
     "iopub.execute_input": "2020-12-26T10:57:46.745407Z",
     "iopub.status.busy": "2020-12-26T10:57:46.744712Z",
     "iopub.status.idle": "2020-12-26T10:57:46.813735Z",
     "shell.execute_reply": "2020-12-26T10:57:46.813162Z"
    },
    "papermill": {
     "duration": 0.158209,
     "end_time": "2020-12-26T10:57:46.813854",
     "exception": false,
     "start_time": "2020-12-26T10:57:46.655645",
     "status": "completed"
    },
    "tags": []
   },
   "outputs": [],
   "source": [
    "from sklearn.model_selection import train_test_split\n",
    "from sklearn.metrics import cohen_kappa_score\n",
    "from sklearn.metrics import classification_report, confusion_matrix\n",
    "from sklearn.metrics import accuracy_score\n",
    "from sklearn.metrics import confusion_matrix\n",
    "from sklearn.metrics import ConfusionMatrixDisplay\n",
    "from sklearn.metrics import f1_score\n",
    "X = data.iloc[:, 0:50]\n",
    "Y = data.iloc[:, 50]\n",
    "X_train, X_test, y_train, y_test = train_test_split( X, Y, test_size = 0.2, random_state = 100)\n",
    "\n",
    "accuracies = {}\n",
    "kappaScores= {}\n",
    "f1scores={}"
   ]
  },
  {
   "cell_type": "markdown",
   "metadata": {
    "papermill": {
     "duration": 0.085306,
     "end_time": "2020-12-26T10:57:46.985276",
     "exception": false,
     "start_time": "2020-12-26T10:57:46.899970",
     "status": "completed"
    },
    "tags": []
   },
   "source": [
    "<a id = \"12\"></a><br>\n",
    "# Logistic Regression "
   ]
  },
  {
   "cell_type": "markdown",
   "metadata": {
    "papermill": {
     "duration": 0.087799,
     "end_time": "2020-12-26T10:57:47.156004",
     "exception": false,
     "start_time": "2020-12-26T10:57:47.068205",
     "status": "completed"
    },
    "tags": []
   },
   "source": [
    "Logistic regression is a predictive linear model that aims to explain the relationship between a dependent binary variable and one or more independent variables. \n",
    "The output of Logistic Regression is a number between  *0 and 1* which you can think about as being the probability that a given class is true or not.\n"
   ]
  },
  {
   "cell_type": "code",
   "execution_count": 30,
   "metadata": {
    "execution": {
     "iopub.execute_input": "2020-12-26T10:57:47.324420Z",
     "iopub.status.busy": "2020-12-26T10:57:47.323725Z",
     "iopub.status.idle": "2020-12-26T10:57:47.603619Z",
     "shell.execute_reply": "2020-12-26T10:57:47.604294Z"
    },
    "papermill": {
     "duration": 0.366888,
     "end_time": "2020-12-26T10:57:47.604465",
     "exception": false,
     "start_time": "2020-12-26T10:57:47.237577",
     "status": "completed"
    },
    "tags": []
   },
   "outputs": [],
   "source": [
    "from sklearn.linear_model import LogisticRegression\n",
    "lr=LogisticRegression(random_state=101,multi_class='ovr',solver='liblinear',class_weight='balanced',C=0.2)\n",
    "lr.fit(X_train,y_train)\n",
    "prediction = lr.predict(X_test)"
   ]
  },
  {
   "cell_type": "code",
   "execution_count": 31,
   "metadata": {
    "execution": {
     "iopub.execute_input": "2020-12-26T10:57:47.775062Z",
     "iopub.status.busy": "2020-12-26T10:57:47.774005Z",
     "iopub.status.idle": "2020-12-26T10:57:47.798739Z",
     "shell.execute_reply": "2020-12-26T10:57:47.799308Z"
    },
    "papermill": {
     "duration": 0.110671,
     "end_time": "2020-12-26T10:57:47.799453",
     "exception": false,
     "start_time": "2020-12-26T10:57:47.688782",
     "status": "completed"
    },
    "tags": []
   },
   "outputs": [
    {
     "name": "stdout",
     "output_type": "stream",
     "text": [
      "              precision    recall  f1-score   support\n",
      "\n",
      "           0       0.70      0.77      0.73      1176\n",
      "           1       0.71      0.64      0.67      1057\n",
      "\n",
      "    accuracy                           0.71      2233\n",
      "   macro avg       0.71      0.70      0.70      2233\n",
      "weighted avg       0.71      0.71      0.71      2233\n",
      "\n",
      "Logistic Regression accuracy: 70.71204657411553\n",
      "F1-Score:  67.36526946107784\n",
      "Cohen Kappa score:  40.94632616436728\n"
     ]
    }
   ],
   "source": [
    "print(classification_report(y_test,prediction))\n",
    "acc = accuracy_score(y_test,prediction)*100\n",
    "print(\"Logistic Regression accuracy:\",acc)\n",
    "accuracies['Logistic Regression']=acc\n",
    "\n",
    "f1=f1_score(y_test,prediction)*100\n",
    "print(\"F1-Score: \",f1)\n",
    "f1scores['Logistic Regression']=f1\n",
    "\n",
    "\n",
    "cohen_kappa = cohen_kappa_score(y_test, prediction)*100\n",
    "print('Cohen Kappa score: ',cohen_kappa)\n",
    "kappaScores['Logistic Regression']=cohen_kappa"
   ]
  },
  {
   "cell_type": "code",
   "execution_count": 32,
   "metadata": {
    "execution": {
     "iopub.execute_input": "2020-12-26T10:57:47.972748Z",
     "iopub.status.busy": "2020-12-26T10:57:47.971781Z",
     "iopub.status.idle": "2020-12-26T10:57:48.155454Z",
     "shell.execute_reply": "2020-12-26T10:57:48.156009Z"
    },
    "papermill": {
     "duration": 0.274303,
     "end_time": "2020-12-26T10:57:48.156165",
     "exception": false,
     "start_time": "2020-12-26T10:57:47.881862",
     "status": "completed"
    },
    "tags": []
   },
   "outputs": [
    {
     "data": {
      "image/png": "[encoded data removed]",
      "text/plain": [
       "<Figure size 432x288 with 2 Axes>"
      ]
     },
     "metadata": {
      "needs_background": "light"
     },
     "output_type": "display_data"
    }
   ],
   "source": [
    "score=round(accuracy_score(y_test,prediction),3)\n",
    "cm= confusion_matrix\n",
    "cm1=cm(y_test,prediction)\n",
    "sns.heatmap(cm1, annot=True,fmt=\".1f\",linewidths=3,square=True, cmap='PuBu',color=\"#cd1076\")\n",
    "plt.ylabel('actual label')\n",
    "plt.xlabel('predicted label')\n",
    "plt.title('accuracy score: {0}'.format(score),size=12)\n",
    "plt.show()"
   ]
  },
  {
   "cell_type": "markdown",
   "metadata": {
    "papermill": {
     "duration": 0.081595,
     "end_time": "2020-12-26T10:57:48.319467",
     "exception": false,
     "start_time": "2020-12-26T10:57:48.237872",
     "status": "completed"
    },
    "tags": []
   },
   "source": [
    " <a id = \"13\"></a><br>\n",
    " # Random Forest"
   ]
  },
  {
   "cell_type": "code",
   "execution_count": 33,
   "metadata": {
    "execution": {
     "iopub.execute_input": "2020-12-26T10:57:48.490391Z",
     "iopub.status.busy": "2020-12-26T10:57:48.489387Z",
     "iopub.status.idle": "2020-12-26T10:57:48.632364Z",
     "shell.execute_reply": "2020-12-26T10:57:48.631587Z"
    },
    "papermill": {
     "duration": 0.229846,
     "end_time": "2020-12-26T10:57:48.632484",
     "exception": false,
     "start_time": "2020-12-26T10:57:48.402638",
     "status": "completed"
    },
    "tags": []
   },
   "outputs": [],
   "source": [
    "from sklearn.ensemble import RandomForestClassifier"
   ]
  },
  {
   "cell_type": "code",
   "execution_count": 34,
   "metadata": {
    "execution": {
     "iopub.execute_input": "2020-12-26T10:57:48.813256Z",
     "iopub.status.busy": "2020-12-26T10:57:48.812023Z",
     "iopub.status.idle": "2020-12-26T10:57:49.788298Z",
     "shell.execute_reply": "2020-12-26T10:57:49.787584Z"
    },
    "papermill": {
     "duration": 1.070355,
     "end_time": "2020-12-26T10:57:49.788465",
     "exception": false,
     "start_time": "2020-12-26T10:57:48.718110",
     "status": "completed"
    },
    "tags": []
   },
   "outputs": [],
   "source": [
    "clf = RandomForestClassifier(n_estimators=100, max_depth=12,\n",
    "                             random_state=50)\n",
    "\n",
    "clf.fit(X_train,y_train)\n",
    "\n",
    "prediction = clf.predict(X_test)"
   ]
  },
  {
   "cell_type": "code",
   "execution_count": 35,
   "metadata": {
    "execution": {
     "iopub.execute_input": "2020-12-26T10:57:49.970333Z",
     "iopub.status.busy": "2020-12-26T10:57:49.969186Z",
     "iopub.status.idle": "2020-12-26T10:57:49.983180Z",
     "shell.execute_reply": "2020-12-26T10:57:49.983779Z"
    },
    "papermill": {
     "duration": 0.107589,
     "end_time": "2020-12-26T10:57:49.983943",
     "exception": false,
     "start_time": "2020-12-26T10:57:49.876354",
     "status": "completed"
    },
    "tags": []
   },
   "outputs": [
    {
     "name": "stdout",
     "output_type": "stream",
     "text": [
      "Random Forest accuracy: 72.05553067622034\n",
      "F1-Score:  66.5236051502146\n",
      "Cohen Kappa score:  43.27305059532291\n"
     ]
    }
   ],
   "source": [
    "acc = accuracy_score(y_test,prediction)*100\n",
    "print(\"Random Forest accuracy:\",acc)\n",
    "accuracies['Random Forest']=acc\n",
    "\n",
    "f1=f1_score(y_test,prediction)*100\n",
    "print(\"F1-Score: \",f1)\n",
    "f1scores['Random Forest']=f1\n",
    "\n",
    "cohen_kappa = cohen_kappa_score(y_test, prediction)*100\n",
    "print('Cohen Kappa score: ',cohen_kappa)\n",
    "kappaScores['Random Forest']=cohen_kappa"
   ]
  },
  {
   "cell_type": "markdown",
   "metadata": {
    "papermill": {
     "duration": 0.089489,
     "end_time": "2020-12-26T10:57:50.158011",
     "exception": false,
     "start_time": "2020-12-26T10:57:50.068522",
     "status": "completed"
    },
    "tags": []
   },
   "source": [
    "<a id = \"14\"></a><br>\n",
    "# Naive Bayes"
   ]
  },
  {
   "cell_type": "code",
   "execution_count": 36,
   "metadata": {
    "execution": {
     "iopub.execute_input": "2020-12-26T10:57:50.366002Z",
     "iopub.status.busy": "2020-12-26T10:57:50.365010Z",
     "iopub.status.idle": "2020-12-26T10:57:50.378670Z",
     "shell.execute_reply": "2020-12-26T10:57:50.377977Z"
    },
    "papermill": {
     "duration": 0.116401,
     "end_time": "2020-12-26T10:57:50.378813",
     "exception": false,
     "start_time": "2020-12-26T10:57:50.262412",
     "status": "completed"
    },
    "tags": []
   },
   "outputs": [],
   "source": [
    "from sklearn.naive_bayes import GaussianNB"
   ]
  },
  {
   "cell_type": "code",
   "execution_count": 37,
   "metadata": {
    "execution": {
     "iopub.execute_input": "2020-12-26T10:57:50.562202Z",
     "iopub.status.busy": "2020-12-26T10:57:50.561195Z",
     "iopub.status.idle": "2020-12-26T10:57:50.589983Z",
     "shell.execute_reply": "2020-12-26T10:57:50.590688Z"
    },
    "papermill": {
     "duration": 0.125759,
     "end_time": "2020-12-26T10:57:50.590875",
     "exception": false,
     "start_time": "2020-12-26T10:57:50.465116",
     "status": "completed"
    },
    "tags": []
   },
   "outputs": [],
   "source": [
    "nb=GaussianNB()\n",
    "nb.fit(X_train,y_train)\n",
    "naiveb=nb.predict(X_test)\n",
    "prediction= nb.predict(X_test)"
   ]
  },
  {
   "cell_type": "code",
   "execution_count": 38,
   "metadata": {
    "execution": {
     "iopub.execute_input": "2020-12-26T10:57:50.772917Z",
     "iopub.status.busy": "2020-12-26T10:57:50.771936Z",
     "iopub.status.idle": "2020-12-26T10:57:50.795460Z",
     "shell.execute_reply": "2020-12-26T10:57:50.796020Z"
    },
    "papermill": {
     "duration": 0.116771,
     "end_time": "2020-12-26T10:57:50.796201",
     "exception": false,
     "start_time": "2020-12-26T10:57:50.679430",
     "status": "completed"
    },
    "tags": []
   },
   "outputs": [
    {
     "name": "stdout",
     "output_type": "stream",
     "text": [
      "Naive Bayes accuracy: 68.3833407971339\n",
      "F1-Score:  62.08378088077337\n",
      "Cohen Kappa score:  35.812328283001015\n"
     ]
    }
   ],
   "source": [
    "acc = accuracy_score(y_test,prediction)*100\n",
    "print(\"Naive Bayes accuracy:\",acc)\n",
    "accuracies['Naive Bayes']=acc\n",
    "\n",
    "f1=f1_score(y_test,prediction)*100\n",
    "print(\"F1-Score: \",f1)\n",
    "f1scores['Naive Bayes']=f1\n",
    "\n",
    "cohen_kappa = cohen_kappa_score(y_test, prediction)*100\n",
    "print('Cohen Kappa score: ',cohen_kappa)\n",
    "kappaScores['Naive Bayes']=cohen_kappa"
   ]
  },
  {
   "cell_type": "markdown",
   "metadata": {
    "papermill": {
     "duration": 0.091498,
     "end_time": "2020-12-26T10:57:50.980650",
     "exception": false,
     "start_time": "2020-12-26T10:57:50.889152",
     "status": "completed"
    },
    "tags": []
   },
   "source": [
    " <a id = \"15\"></a><br>\n",
    " # Stochastic Gradient Descent Classifier"
   ]
  },
  {
   "cell_type": "code",
   "execution_count": 39,
   "metadata": {
    "execution": {
     "iopub.execute_input": "2020-12-26T10:57:51.161455Z",
     "iopub.status.busy": "2020-12-26T10:57:51.160761Z",
     "iopub.status.idle": "2020-12-26T10:57:51.163196Z",
     "shell.execute_reply": "2020-12-26T10:57:51.163735Z"
    },
    "papermill": {
     "duration": 0.094742,
     "end_time": "2020-12-26T10:57:51.163885",
     "exception": false,
     "start_time": "2020-12-26T10:57:51.069143",
     "status": "completed"
    },
    "tags": []
   },
   "outputs": [],
   "source": [
    "from sklearn.linear_model import SGDClassifier"
   ]
  },
  {
   "cell_type": "code",
   "execution_count": 40,
   "metadata": {
    "execution": {
     "iopub.execute_input": "2020-12-26T10:57:51.345851Z",
     "iopub.status.busy": "2020-12-26T10:57:51.345048Z",
     "iopub.status.idle": "2020-12-26T10:57:51.617521Z",
     "shell.execute_reply": "2020-12-26T10:57:51.616778Z"
    },
    "papermill": {
     "duration": 0.364214,
     "end_time": "2020-12-26T10:57:51.617675",
     "exception": false,
     "start_time": "2020-12-26T10:57:51.253461",
     "status": "completed"
    },
    "tags": []
   },
   "outputs": [],
   "source": [
    "sgd=SGDClassifier(loss='modified_huber',shuffle=True,random_state=100,penalty='l1',alpha=0.004\n",
    "                  ,max_iter=100,eta0=0.2,learning_rate='optimal')\n",
    "sgd.fit(X_train,y_train)\n",
    "prediction=sgd.predict(X_test)"
   ]
  },
  {
   "cell_type": "code",
   "execution_count": 41,
   "metadata": {
    "execution": {
     "iopub.execute_input": "2020-12-26T10:57:51.810182Z",
     "iopub.status.busy": "2020-12-26T10:57:51.809110Z",
     "iopub.status.idle": "2020-12-26T10:57:51.827063Z",
     "shell.execute_reply": "2020-12-26T10:57:51.825577Z"
    },
    "papermill": {
     "duration": 0.115881,
     "end_time": "2020-12-26T10:57:51.827290",
     "exception": false,
     "start_time": "2020-12-26T10:57:51.711409",
     "status": "completed"
    },
    "tags": []
   },
   "outputs": [
    {
     "name": "stdout",
     "output_type": "stream",
     "text": [
      "SGD Classifier accuracy: 65.42767577250336\n",
      "F1-Score:  61.361361361361354\n",
      "Cohen Kappa score:  30.271249787643693\n"
     ]
    }
   ],
   "source": [
    "acc = accuracy_score(y_test,prediction)*100\n",
    "print(\"SGD Classifier accuracy:\",acc)\n",
    "accuracies['SGDC']=acc\n",
    "\n",
    "f1=f1_score(y_test,prediction)*100\n",
    "print(\"F1-Score: \",f1)\n",
    "f1scores['SGDC']=f1\n",
    "\n",
    "cohen_kappa = cohen_kappa_score(y_test, prediction)*100\n",
    "print('Cohen Kappa score: ',cohen_kappa)\n",
    "kappaScores['SGDC']=cohen_kappa"
   ]
  },
  {
   "cell_type": "markdown",
   "metadata": {
    "papermill": {
     "duration": 0.090988,
     "end_time": "2020-12-26T10:57:52.013714",
     "exception": false,
     "start_time": "2020-12-26T10:57:51.922726",
     "status": "completed"
    },
    "tags": []
   },
   "source": [
    "<a id = \"16\"></a><br>\n",
    "# KNN"
   ]
  },
  {
   "cell_type": "code",
   "execution_count": 42,
   "metadata": {
    "execution": {
     "iopub.execute_input": "2020-12-26T10:57:52.197890Z",
     "iopub.status.busy": "2020-12-26T10:57:52.197205Z",
     "iopub.status.idle": "2020-12-26T10:57:52.200784Z",
     "shell.execute_reply": "2020-12-26T10:57:52.200157Z"
    },
    "papermill": {
     "duration": 0.098586,
     "end_time": "2020-12-26T10:57:52.200924",
     "exception": false,
     "start_time": "2020-12-26T10:57:52.102338",
     "status": "completed"
    },
    "tags": []
   },
   "outputs": [],
   "source": [
    "from sklearn.neighbors import KNeighborsClassifier"
   ]
  },
  {
   "cell_type": "code",
   "execution_count": 43,
   "metadata": {
    "execution": {
     "iopub.execute_input": "2020-12-26T10:57:52.390710Z",
     "iopub.status.busy": "2020-12-26T10:57:52.389390Z",
     "iopub.status.idle": "2020-12-26T10:57:52.836077Z",
     "shell.execute_reply": "2020-12-26T10:57:52.835329Z"
    },
    "papermill": {
     "duration": 0.54597,
     "end_time": "2020-12-26T10:57:52.836199",
     "exception": false,
     "start_time": "2020-12-26T10:57:52.290229",
     "status": "completed"
    },
    "tags": []
   },
   "outputs": [],
   "source": [
    "knn= KNeighborsClassifier(n_neighbors = 4,algorithm='ball_tree')\n",
    "knn.fit(X_train, y_train)\n",
    "prediction=knn.predict(X_test)"
   ]
  },
  {
   "cell_type": "code",
   "execution_count": 44,
   "metadata": {
    "execution": {
     "iopub.execute_input": "2020-12-26T10:57:53.027403Z",
     "iopub.status.busy": "2020-12-26T10:57:53.026655Z",
     "iopub.status.idle": "2020-12-26T10:57:53.042720Z",
     "shell.execute_reply": "2020-12-26T10:57:53.042157Z"
    },
    "papermill": {
     "duration": 0.113944,
     "end_time": "2020-12-26T10:57:53.042836",
     "exception": false,
     "start_time": "2020-12-26T10:57:52.928892",
     "status": "completed"
    },
    "tags": []
   },
   "outputs": [
    {
     "name": "stdout",
     "output_type": "stream",
     "text": [
      "Knn accuracy: 61.12852664576802\n",
      "F1-Score:  49.651972157772626\n",
      "Cohen Kappa score:  20.55250457646862\n"
     ]
    }
   ],
   "source": [
    "acc = accuracy_score(y_test,prediction)*100\n",
    "print(\"Knn accuracy:\",acc)\n",
    "accuracies['KNN']=acc\n",
    "\n",
    "f1=f1_score(y_test,prediction)*100\n",
    "print(\"F1-Score: \",f1)\n",
    "f1scores['KNN']=f1\n",
    "\n",
    "cohen_kappa = cohen_kappa_score(y_test, prediction)*100\n",
    "print('Cohen Kappa score: ',cohen_kappa)\n",
    "kappaScores['KNN']=cohen_kappa"
   ]
  },
  {
   "cell_type": "markdown",
   "metadata": {
    "papermill": {
     "duration": 0.089408,
     "end_time": "2020-12-26T10:57:53.221954",
     "exception": false,
     "start_time": "2020-12-26T10:57:53.132546",
     "status": "completed"
    },
    "tags": []
   },
   "source": [
    "<a id = \"17\"></a><br>\n",
    "# Decision Tree"
   ]
  },
  {
   "cell_type": "code",
   "execution_count": 45,
   "metadata": {
    "execution": {
     "iopub.execute_input": "2020-12-26T10:57:53.403158Z",
     "iopub.status.busy": "2020-12-26T10:57:53.402442Z",
     "iopub.status.idle": "2020-12-26T10:57:53.405117Z",
     "shell.execute_reply": "2020-12-26T10:57:53.404505Z"
    },
    "papermill": {
     "duration": 0.094655,
     "end_time": "2020-12-26T10:57:53.405238",
     "exception": false,
     "start_time": "2020-12-26T10:57:53.310583",
     "status": "completed"
    },
    "tags": []
   },
   "outputs": [],
   "source": [
    "from sklearn.tree import DecisionTreeClassifier"
   ]
  },
  {
   "cell_type": "code",
   "execution_count": 46,
   "metadata": {
    "execution": {
     "iopub.execute_input": "2020-12-26T10:57:53.594044Z",
     "iopub.status.busy": "2020-12-26T10:57:53.593394Z",
     "iopub.status.idle": "2020-12-26T10:57:53.647059Z",
     "shell.execute_reply": "2020-12-26T10:57:53.646290Z"
    },
    "papermill": {
     "duration": 0.149614,
     "end_time": "2020-12-26T10:57:53.647198",
     "exception": false,
     "start_time": "2020-12-26T10:57:53.497584",
     "status": "completed"
    },
    "tags": []
   },
   "outputs": [],
   "source": [
    "dtree= DecisionTreeClassifier(criterion='gini',max_depth=10,random_state=100,min_samples_leaf=10)\n",
    "dtree.fit(X_train, y_train)\n",
    "prediction=dtree.predict(X_test)"
   ]
  },
  {
   "cell_type": "code",
   "execution_count": 47,
   "metadata": {
    "execution": {
     "iopub.execute_input": "2020-12-26T10:57:53.834674Z",
     "iopub.status.busy": "2020-12-26T10:57:53.833841Z",
     "iopub.status.idle": "2020-12-26T10:57:53.848876Z",
     "shell.execute_reply": "2020-12-26T10:57:53.848310Z"
    },
    "papermill": {
     "duration": 0.112323,
     "end_time": "2020-12-26T10:57:53.849017",
     "exception": false,
     "start_time": "2020-12-26T10:57:53.736694",
     "status": "completed"
    },
    "tags": []
   },
   "outputs": [
    {
     "name": "stdout",
     "output_type": "stream",
     "text": [
      "Decision Tree accuracy: 70.53291536050156\n",
      "F1-Score:  62.61363636363636\n",
      "Cohen Kappa score:  39.879244072476475\n"
     ]
    }
   ],
   "source": [
    "acc = accuracy_score(y_test,prediction)*100\n",
    "print(\"Decision Tree accuracy:\",acc)\n",
    "accuracies['Decision Tree']=acc\n",
    "\n",
    "f1=f1_score(y_test,prediction)*100\n",
    "print(\"F1-Score: \",f1)\n",
    "f1scores['Decision Tree']=f1\n",
    "\n",
    "cohen_kappa = cohen_kappa_score(y_test, prediction)*100\n",
    "print('Cohen Kappa score: ',cohen_kappa)\n",
    "kappaScores['Decision Tree']=cohen_kappa"
   ]
  },
  {
   "cell_type": "markdown",
   "metadata": {
    "papermill": {
     "duration": 0.093898,
     "end_time": "2020-12-26T10:57:54.033812",
     "exception": false,
     "start_time": "2020-12-26T10:57:53.939914",
     "status": "completed"
    },
    "tags": []
   },
   "source": [
    "<a id = \"18\"></a><br>\n",
    "# Neural Network - Perceptron"
   ]
  },
  {
   "cell_type": "code",
   "execution_count": 48,
   "metadata": {
    "execution": {
     "iopub.execute_input": "2020-12-26T10:57:54.227767Z",
     "iopub.status.busy": "2020-12-26T10:57:54.226778Z",
     "iopub.status.idle": "2020-12-26T10:57:54.230150Z",
     "shell.execute_reply": "2020-12-26T10:57:54.229457Z"
    },
    "papermill": {
     "duration": 0.102029,
     "end_time": "2020-12-26T10:57:54.230285",
     "exception": false,
     "start_time": "2020-12-26T10:57:54.128256",
     "status": "completed"
    },
    "tags": []
   },
   "outputs": [],
   "source": [
    "from sklearn.linear_model import Perceptron"
   ]
  },
  {
   "cell_type": "code",
   "execution_count": 49,
   "metadata": {
    "execution": {
     "iopub.execute_input": "2020-12-26T10:57:54.419920Z",
     "iopub.status.busy": "2020-12-26T10:57:54.419252Z",
     "iopub.status.idle": "2020-12-26T10:57:54.485135Z",
     "shell.execute_reply": "2020-12-26T10:57:54.483913Z"
    },
    "papermill": {
     "duration": 0.163948,
     "end_time": "2020-12-26T10:57:54.485396",
     "exception": false,
     "start_time": "2020-12-26T10:57:54.321448",
     "status": "completed"
    },
    "tags": []
   },
   "outputs": [],
   "source": [
    "pr = Perceptron(alpha=0.07,max_iter=100, random_state=100,penalty='l1')\n",
    "pr.fit(X_train, y_train)\n",
    "prediction = pr.predict(X_test)"
   ]
  },
  {
   "cell_type": "code",
   "execution_count": 50,
   "metadata": {
    "execution": {
     "iopub.execute_input": "2020-12-26T10:57:54.679814Z",
     "iopub.status.busy": "2020-12-26T10:57:54.679046Z",
     "iopub.status.idle": "2020-12-26T10:57:54.692821Z",
     "shell.execute_reply": "2020-12-26T10:57:54.692242Z"
    },
    "papermill": {
     "duration": 0.11406,
     "end_time": "2020-12-26T10:57:54.692959",
     "exception": false,
     "start_time": "2020-12-26T10:57:54.578899",
     "status": "completed"
    },
    "tags": []
   },
   "outputs": [
    {
     "name": "stdout",
     "output_type": "stream",
     "text": [
      "Perceptron accuracy: 61.262875055978505\n",
      "F1-Score:  47.41641337386018\n",
      "Cohen Kappa score:  20.520826432474315\n"
     ]
    }
   ],
   "source": [
    "acc = accuracy_score(y_test, prediction)*100\n",
    "print(\"Perceptron accuracy:\",acc)\n",
    "accuracies['Perceptron']=acc\n",
    "\n",
    "f1=f1_score(y_test,prediction)*100\n",
    "print(\"F1-Score: \",f1)\n",
    "f1scores['Perceptron']=f1\n",
    "\n",
    "cohen_kappa = cohen_kappa_score(y_test, prediction)*100\n",
    "print('Cohen Kappa score: ',cohen_kappa)\n",
    "kappaScores['Perceptron']=cohen_kappa"
   ]
  },
  {
   "cell_type": "markdown",
   "metadata": {
    "papermill": {
     "duration": 0.095031,
     "end_time": "2020-12-26T10:57:54.876838",
     "exception": false,
     "start_time": "2020-12-26T10:57:54.781807",
     "status": "completed"
    },
    "tags": []
   },
   "source": [
    "<a id = \"22\"></a><br>\n",
    "# Gradient Boosting Classifier"
   ]
  },
  {
   "cell_type": "code",
   "execution_count": 51,
   "metadata": {
    "execution": {
     "iopub.execute_input": "2020-12-26T10:57:55.070730Z",
     "iopub.status.busy": "2020-12-26T10:57:55.070053Z",
     "iopub.status.idle": "2020-12-26T10:57:55.072728Z",
     "shell.execute_reply": "2020-12-26T10:57:55.073296Z"
    },
    "papermill": {
     "duration": 0.102537,
     "end_time": "2020-12-26T10:57:55.073455",
     "exception": false,
     "start_time": "2020-12-26T10:57:54.970918",
     "status": "completed"
    },
    "tags": []
   },
   "outputs": [],
   "source": [
    "from sklearn.ensemble import GradientBoostingClassifier"
   ]
  },
  {
   "cell_type": "code",
   "execution_count": 52,
   "metadata": {
    "execution": {
     "iopub.execute_input": "2020-12-26T10:57:55.258888Z",
     "iopub.status.busy": "2020-12-26T10:57:55.258040Z",
     "iopub.status.idle": "2020-12-26T10:57:56.410652Z",
     "shell.execute_reply": "2020-12-26T10:57:56.410037Z"
    },
    "papermill": {
     "duration": 1.245399,
     "end_time": "2020-12-26T10:57:56.410769",
     "exception": false,
     "start_time": "2020-12-26T10:57:55.165370",
     "status": "completed"
    },
    "tags": []
   },
   "outputs": [],
   "source": [
    "clf = GradientBoostingClassifier(n_estimators=100, learning_rate=0.8,\n",
    "    max_depth=2, random_state=0)\n",
    "clf.fit(X_train, y_train)\n",
    "prediction = clf.predict(X_test)"
   ]
  },
  {
   "cell_type": "code",
   "execution_count": 53,
   "metadata": {
    "execution": {
     "iopub.execute_input": "2020-12-26T10:57:56.603320Z",
     "iopub.status.busy": "2020-12-26T10:57:56.602584Z",
     "iopub.status.idle": "2020-12-26T10:57:56.621171Z",
     "shell.execute_reply": "2020-12-26T10:57:56.620638Z"
    },
    "papermill": {
     "duration": 0.119752,
     "end_time": "2020-12-26T10:57:56.621315",
     "exception": false,
     "start_time": "2020-12-26T10:57:56.501563",
     "status": "completed"
    },
    "tags": []
   },
   "outputs": [
    {
     "name": "stdout",
     "output_type": "stream",
     "text": [
      "Gradient Boosting Classifier accuracy: 70.98074339453649\n",
      "F1-Score:  66.14420062695925\n",
      "Cohen Kappa score:  41.23359639746186\n"
     ]
    }
   ],
   "source": [
    "acc = accuracy_score(y_test, prediction)*100\n",
    "print(\"Gradient Boosting Classifier accuracy:\",acc)\n",
    "accuracies['Gradient Boosting']=acc\n",
    "\n",
    "f1=f1_score(y_test,prediction)*100\n",
    "print(\"F1-Score: \",f1)\n",
    "f1scores['Gradient Boosted']=f1\n",
    "\n",
    "cohen_kappa = cohen_kappa_score(y_test, prediction)*100\n",
    "print('Cohen Kappa score: ',cohen_kappa)\n",
    "kappaScores['Gradient Boosting']=cohen_kappa"
   ]
  },
  {
   "cell_type": "markdown",
   "metadata": {
    "papermill": {
     "duration": 0.090902,
     "end_time": "2020-12-26T10:57:56.801184",
     "exception": false,
     "start_time": "2020-12-26T10:57:56.710282",
     "status": "completed"
    },
    "tags": []
   },
   "source": [
    "<a id = \"23\"></a><br>\n",
    "# Xgboost Classifier"
   ]
  },
  {
   "cell_type": "code",
   "execution_count": 54,
   "metadata": {
    "execution": {
     "iopub.execute_input": "2020-12-26T10:57:56.985675Z",
     "iopub.status.busy": "2020-12-26T10:57:56.985016Z",
     "iopub.status.idle": "2020-12-26T10:57:57.838535Z",
     "shell.execute_reply": "2020-12-26T10:57:57.837870Z"
    },
    "papermill": {
     "duration": 0.948571,
     "end_time": "2020-12-26T10:57:57.838657",
     "exception": false,
     "start_time": "2020-12-26T10:57:56.890086",
     "status": "completed"
    },
    "tags": []
   },
   "outputs": [],
   "source": [
    "from xgboost import XGBClassifier"
   ]
  },
  {
   "cell_type": "code",
   "execution_count": 55,
   "metadata": {
    "execution": {
     "iopub.execute_input": "2020-12-26T10:57:58.031866Z",
     "iopub.status.busy": "2020-12-26T10:57:58.031147Z",
     "iopub.status.idle": "2020-12-26T10:57:59.352933Z",
     "shell.execute_reply": "2020-12-26T10:57:59.353638Z"
    },
    "papermill": {
     "duration": 1.423543,
     "end_time": "2020-12-26T10:57:59.353824",
     "exception": false,
     "start_time": "2020-12-26T10:57:57.930281",
     "status": "completed"
    },
    "tags": []
   },
   "outputs": [],
   "source": [
    "xgb =XGBClassifier(n_estimators=100, learning_rate=0.08, gamma=0, subsample=0.78,\n",
    "                           colsample_bytree=1, max_depth=7)\n",
    "xgb.fit(X_train,y_train)\n",
    "prediction = xgb.predict(X_test)"
   ]
  },
  {
   "cell_type": "code",
   "execution_count": 56,
   "metadata": {
    "execution": {
     "iopub.execute_input": "2020-12-26T10:57:59.586828Z",
     "iopub.status.busy": "2020-12-26T10:57:59.585630Z",
     "iopub.status.idle": "2020-12-26T10:57:59.600695Z",
     "shell.execute_reply": "2020-12-26T10:57:59.601947Z"
    },
    "papermill": {
     "duration": 0.130631,
     "end_time": "2020-12-26T10:57:59.602171",
     "exception": false,
     "start_time": "2020-12-26T10:57:59.471540",
     "status": "completed"
    },
    "tags": []
   },
   "outputs": [
    {
     "name": "stdout",
     "output_type": "stream",
     "text": [
      "Xgboost Classifier accuracy: 72.50335871025526\n",
      "F1 Score:  67.5475687103594\n",
      "Cohen Kappa score:  44.25775091212313\n"
     ]
    }
   ],
   "source": [
    "acc = accuracy_score(y_test, prediction)*100\n",
    "print(\"Xgboost Classifier accuracy:\",acc)\n",
    "accuracies['Xgboost Classifier']=acc\n",
    "\n",
    "f1=f1_score(y_test,prediction)*100\n",
    "print(\"F1 Score: \",f1)\n",
    "f1scores['Xgboost Classifier']=f1\n",
    "\n",
    "cohen_kappa = cohen_kappa_score(y_test, prediction)*100\n",
    "print('Cohen Kappa score: ',cohen_kappa)\n",
    "kappaScores['Xgboost Classifier']=cohen_kappa"
   ]
  },
  {
   "cell_type": "markdown",
   "metadata": {
    "papermill": {
     "duration": 0.088803,
     "end_time": "2020-12-26T10:57:59.781634",
     "exception": false,
     "start_time": "2020-12-26T10:57:59.692831",
     "status": "completed"
    },
    "tags": []
   },
   "source": [
    "<a id = \"19\"></a><br>\n",
    "# Comparison of accuracies"
   ]
  },
  {
   "cell_type": "markdown",
   "metadata": {
    "papermill": {
     "duration": 0.090646,
     "end_time": "2020-12-26T10:57:59.965461",
     "exception": false,
     "start_time": "2020-12-26T10:57:59.874815",
     "status": "completed"
    },
    "tags": []
   },
   "source": [
    "## Accuracy is a metric used to measure the success of a model but is not sufficient by itself."
   ]
  },
  {
   "cell_type": "code",
   "execution_count": 57,
   "metadata": {
    "execution": {
     "iopub.execute_input": "2020-12-26T10:58:00.172454Z",
     "iopub.status.busy": "2020-12-26T10:58:00.167147Z",
     "iopub.status.idle": "2020-12-26T10:58:00.466635Z",
     "shell.execute_reply": "2020-12-26T10:58:00.465904Z"
    },
    "papermill": {
     "duration": 0.406787,
     "end_time": "2020-12-26T10:58:00.466844",
     "exception": false,
     "start_time": "2020-12-26T10:58:00.060057",
     "status": "completed"
    },
    "tags": []
   },
   "outputs": [
    {
     "data": {
      "image/png": "[encoded data removed]",
      "text/plain": [
       "<Figure size 1152x360 with 1 Axes>"
      ]
     },
     "metadata": {},
     "output_type": "display_data"
    }
   ],
   "source": [
    "colors = [\"#00008b\", \"#00e5ee\", \"#cd1076\", \"#008080\",\"#cd5555\",'black']\n",
    "\n",
    "sns.set_style(\"whitegrid\")\n",
    "plt.figure(figsize=(16,5))\n",
    "plt.yticks(np.arange(0,100,3))\n",
    "plt.ylabel(\"Accuracy %\")\n",
    "plt.xlabel(\"\\n\\n Algorithms\")\n",
    "sns.barplot(x=list(accuracies.keys()), y=list(accuracies.values()), palette=colors)\n",
    "plt.show()"
   ]
  },
  {
   "cell_type": "markdown",
   "metadata": {
    "papermill": {
     "duration": 0.100212,
     "end_time": "2020-12-26T10:58:00.661992",
     "exception": false,
     "start_time": "2020-12-26T10:58:00.561780",
     "status": "completed"
    },
    "tags": []
   },
   "source": [
    "<a id = \"24\"></a><br>\n",
    "# Comparison of Kappa Scores"
   ]
  },
  {
   "cell_type": "markdown",
   "metadata": {
    "papermill": {
     "duration": 0.097724,
     "end_time": "2020-12-26T10:58:00.857180",
     "exception": false,
     "start_time": "2020-12-26T10:58:00.759456",
     "status": "completed"
    },
    "tags": []
   },
   "source": [
    "### Cohen's kappa, (7), symbolized by the lowercase Greek letter, is a powerful statistic useful for testing reliability. Similar to the correlation coefficients, between -1 and +1; where 0 represents the availability that can be expected from random chance, and 1 represents the perfect match between raters.\n",
    "\n",
    "* 0 indicates no information agreement\n",
    "* 0.01-0.20 **Slight agreement**\n",
    "* 0.21-0.40 **Fair agreement**\n",
    "* 0.41-0.60 **Moderate agreement**\n",
    "* 0.61-0.80 **Substantial agreement**\n",
    "* 0.81-1.00 **Almost perfect agreement**"
   ]
  },
  {
   "cell_type": "code",
   "execution_count": 58,
   "metadata": {
    "execution": {
     "iopub.execute_input": "2020-12-26T10:58:01.069095Z",
     "iopub.status.busy": "2020-12-26T10:58:01.058751Z",
     "iopub.status.idle": "2020-12-26T10:58:01.376618Z",
     "shell.execute_reply": "2020-12-26T10:58:01.375991Z"
    },
    "papermill": {
     "duration": 0.422672,
     "end_time": "2020-12-26T10:58:01.376741",
     "exception": false,
     "start_time": "2020-12-26T10:58:00.954069",
     "status": "completed"
    },
    "tags": []
   },
   "outputs": [
    {
     "data": {
      "image/png": "[encoded data removed]",
      "text/plain": [
       "<Figure size 1152x360 with 1 Axes>"
      ]
     },
     "metadata": {},
     "output_type": "display_data"
    }
   ],
   "source": [
    "colors = [\"#00008b\", \"#00e5ee\", \"#cd1076\", \"#008080\",\"#cd5555\",'black']\n",
    "\n",
    "sns.set_style(\"whitegrid\")\n",
    "plt.figure(figsize=(16,5))\n",
    "plt.yticks(np.arange(0,100,3))\n",
    "plt.ylabel(\"Kappa Score %\")\n",
    "plt.xlabel(\"\\n\\n Algorithms\")\n",
    "sns.barplot(x=list(kappaScores.keys()), y=list(kappaScores.values()), palette=colors)\n",
    "plt.show()"
   ]
  },
  {
   "cell_type": "markdown",
   "metadata": {
    "papermill": {
     "duration": 0.105457,
     "end_time": "2020-12-26T10:58:01.578425",
     "exception": false,
     "start_time": "2020-12-26T10:58:01.472968",
     "status": "completed"
    },
    "tags": []
   },
   "source": [
    "<a id = \"25\"></a><br>\n",
    "# Comparison of F1 Scores"
   ]
  },
  {
   "cell_type": "markdown",
   "metadata": {
    "papermill": {
     "duration": 0.091859,
     "end_time": "2020-12-26T10:58:01.766286",
     "exception": false,
     "start_time": "2020-12-26T10:58:01.674427",
     "status": "completed"
    },
    "tags": []
   },
   "source": [
    " ### The F1 Score value shows us the harmonic mean of the Precision and Recall values.\n",
    " \n",
    "## The main reason for using the F1 Score value instead of Accuracy is not to make an incorrect model selection in non-uniform data sets."
   ]
  },
  {
   "cell_type": "code",
   "execution_count": 59,
   "metadata": {
    "execution": {
     "iopub.execute_input": "2020-12-26T10:58:02.018525Z",
     "iopub.status.busy": "2020-12-26T10:58:02.009873Z",
     "iopub.status.idle": "2020-12-26T10:58:02.299833Z",
     "shell.execute_reply": "2020-12-26T10:58:02.299263Z"
    },
    "papermill": {
     "duration": 0.391829,
     "end_time": "2020-12-26T10:58:02.299946",
     "exception": false,
     "start_time": "2020-12-26T10:58:01.908117",
     "status": "completed"
    },
    "tags": []
   },
   "outputs": [
    {
     "data": {
      "image/png": "[encoded data removed]",
      "text/plain": [
       "<Figure size 1152x360 with 1 Axes>"
      ]
     },
     "metadata": {},
     "output_type": "display_data"
    }
   ],
   "source": [
    "colors = [\"#00008b\", \"#00e5ee\", \"#cd1076\", \"#008080\",\"#cd5555\",'black']\n",
    "\n",
    "sns.set_style(\"whitegrid\")\n",
    "plt.figure(figsize=(16,5))\n",
    "plt.yticks(np.arange(0,100,3))\n",
    "plt.ylabel(\"F1 Score %\")\n",
    "plt.xlabel(\"\\n\\n Algorithms\")\n",
    "sns.barplot(x=list(f1scores.keys()), y=list(f1scores.values()), palette=colors)\n",
    "plt.show()"
   ]
  },
  {
   "cell_type": "markdown",
   "metadata": {
    "papermill": {
     "duration": 0.093229,
     "end_time": "2020-12-26T10:58:02.488702",
     "exception": false,
     "start_time": "2020-12-26T10:58:02.395473",
     "status": "completed"
    },
    "tags": []
   },
   "source": [
    "# THANK YOU"
   ]
  }
 ],
 "metadata": {
  "kernelspec": {
   "display_name": "Python 3 (ipykernel)",
   "language": "python",
   "name": "python3"
  },
  "language_info": {
   "codemirror_mode": {
    "name": "ipython",
    "version": 3
   },
   "file_extension": ".py",
   "mimetype": "text/x-python",
   "name": "python",
   "nbconvert_exporter": "python",
   "pygments_lexer": "ipython3",
   "version": "3.9.12"
  },
  "papermill": {
   "duration": 33.823961,
   "end_time": "2020-12-26T10:58:02.694868",
   "environment_variables": {},
   "exception": null,
   "input_path": "__notebook__.ipynb",
   "output_path": "__notebook__.ipynb",
   "parameters": {},
   "start_time": "2020-12-26T10:57:28.870907",
   "version": "2.1.0"
  }
 },
 "nbformat": 4,
 "nbformat_minor": 4
}
